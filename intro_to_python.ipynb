{
  "cells": [
    {
      "cell_type": "markdown",
      "source": [
        "# A (re)introduction to Python\n"
      ],
      "metadata": {
        "id": "B4MSyDzNLEbm"
      }
    },
    {
      "cell_type": "markdown",
      "source": [
        "## Introduction\n",
        "For this course, we will use the Python programming language to build and run *agent-based models* (ABMs). Python is one of many programming languages you can use to create your own ABMs. Some popular alternatives include *R*, *Julia*, and *Netlogo*. I'm using Python because of its concision and clarity, but it's also the language where I first learned how to make ABMs. I know some of you already have a programming background, so you should be able to take much of the code I present here and translate it into another language of your choosing.\n",
        "\n",
        "In this first lesson, I want to take things slowly and reacquaint you with Python as a programming language and to introduce you to *interactive notebooks*.\n",
        "\n",
        "## Interactive notebooks\n",
        "Interactive notebooks are frequently used by scientists to create and report the results of simulations. The key advantage of these notebooks is that they integrate text, live code, images, videos, and equations. Text in notebooks is written in a language called Markdown. If you want to learn more about Markdown, then this [cheatsheet](https://github.com/adam-p/markdown-here/wiki/Markdown-Cheatsheet) is a good place to start.\n",
        "\n",
        "## Google Colab\n",
        "For our lab sessions, we'll mainly use [Google Colab](https://colab.research.google.com/) for running and hosting interactive notebooks on the cloud. If you feel more comfortable and confident, you're welcome to use your own python environment. There are plenty of other online resources for running interactive notebooks, such as Binder, Kaggle Kernals, and Azure Notebooks. You can also install your own an interactive notebook environment for python without needing to use an online server. In fact, for running any major Python program, I would strongly recommend having your own environment setup and use an advanced text editor, such as [Visual Studio Code](https://code.visualstudio.com/) and [Sublime Text](https://www.sublimetext.com/).\n"
      ],
      "metadata": {
        "id": "x6CfkzU-LEbo"
      }
    },
    {
      "cell_type": "markdown",
      "source": [
        "## Installing and Importing packages"
      ],
      "metadata": {
        "id": "wqkzob8-LEbq"
      }
    },
    {
      "cell_type": "markdown",
      "source": [
        "One of the key advantages of Python is that it has a very rich ecosystem of packages. Python comes equipped with a whole host of pre-installed packages, such as `random`, but we might need to install a few packages. I will check before each class as to whether we need to install a package, so you won't have to worry about figuring this stuff out. Nevertheless, to install a package, you need to use the `pip install` command in a code cell as follows:"
      ],
      "metadata": {
        "id": "RdkvnzkzLEbq"
      }
    },
    {
      "cell_type": "code",
      "execution_count": null,
      "source": [
        "! pip install seaborn"
      ],
      "outputs": [
        {
          "output_type": "stream",
          "name": "stdout",
          "text": [
            "Requirement already satisfied: seaborn in /usr/local/lib/python3.7/dist-packages (0.11.2)\n",
            "Requirement already satisfied: numpy>=1.15 in /usr/local/lib/python3.7/dist-packages (from seaborn) (1.21.5)\n",
            "Requirement already satisfied: matplotlib>=2.2 in /usr/local/lib/python3.7/dist-packages (from seaborn) (3.2.2)\n",
            "Requirement already satisfied: scipy>=1.0 in /usr/local/lib/python3.7/dist-packages (from seaborn) (1.4.1)\n",
            "Requirement already satisfied: pandas>=0.23 in /usr/local/lib/python3.7/dist-packages (from seaborn) (1.3.5)\n",
            "Requirement already satisfied: python-dateutil>=2.1 in /usr/local/lib/python3.7/dist-packages (from matplotlib>=2.2->seaborn) (2.8.2)\n",
            "Requirement already satisfied: kiwisolver>=1.0.1 in /usr/local/lib/python3.7/dist-packages (from matplotlib>=2.2->seaborn) (1.3.2)\n",
            "Requirement already satisfied: pyparsing!=2.0.4,!=2.1.2,!=2.1.6,>=2.0.1 in /usr/local/lib/python3.7/dist-packages (from matplotlib>=2.2->seaborn) (3.0.7)\n",
            "Requirement already satisfied: cycler>=0.10 in /usr/local/lib/python3.7/dist-packages (from matplotlib>=2.2->seaborn) (0.11.0)\n",
            "Requirement already satisfied: pytz>=2017.3 in /usr/local/lib/python3.7/dist-packages (from pandas>=0.23->seaborn) (2018.9)\n",
            "Requirement already satisfied: six>=1.5 in /usr/local/lib/python3.7/dist-packages (from python-dateutil>=2.1->matplotlib>=2.2->seaborn) (1.15.0)\n"
          ]
        }
      ],
      "metadata": {
        "colab": {
          "base_uri": "https://localhost:8080/"
        },
        "id": "SObqzD1KLEbr",
        "outputId": "1e21e7b9-5afb-4581-9864-5bc636321f09"
      }
    },
    {
      "cell_type": "markdown",
      "source": [
        "To load a package into your python environment, you need to use the `import` command. "
      ],
      "metadata": {
        "id": "L2tZj323LEbr"
      }
    },
    {
      "cell_type": "code",
      "execution_count": null,
      "source": [
        "import random"
      ],
      "outputs": [],
      "metadata": {
        "id": "HyvQ79_tLEbr"
      }
    },
    {
      "cell_type": "markdown",
      "source": [
        "If you don't import a package, you won't be able to use some of its features. I can guarantee you that at some point one of your errors will be because you've forgotten to import a package (I do it all the time!)."
      ],
      "metadata": {
        "id": "CCvy7A23LEbs"
      }
    },
    {
      "cell_type": "markdown",
      "source": [
        "## Variables\n",
        "Variables are used to store and manipulate data. A variable always starts with an alphabetic character `z`, but it can be followed by other character types such as `z81_n64`. It is important to remember that Python is case-sensitive: so `z81_n64` is a different variable to `Z81_n64`.\n",
        "\n",
        "Assigning a value to a variable is done via the `=` sign. As a simple illustration, imagine we have three variables `x`, `y`, and `z`, and we want to write a program that returns the output of `x + y` and assign this to `z`. This is done as follows:"
      ],
      "metadata": {
        "id": "-yghzHNBLEbs"
      }
    },
    {
      "cell_type": "code",
      "execution_count": null,
      "source": [
        "x = 2\n",
        "y = 4\n",
        "z = x + y\n",
        "z"
      ],
      "outputs": [
        {
          "output_type": "execute_result",
          "data": {
            "text/plain": [
              "6"
            ]
          },
          "metadata": {},
          "execution_count": 3
        }
      ],
      "metadata": {
        "colab": {
          "base_uri": "https://localhost:8080/"
        },
        "id": "r-0p6U9rLEbt",
        "outputId": "c278206e-f1be-4433-a5ca-bfb49fc7ef14"
      }
    },
    {
      "cell_type": "markdown",
      "source": [
        "What Python did here was evaluate the variable `z=x+y` based on our assignment of `x=2` and `y=4`. This follows a relatively simple recipe where we define variables through assignment and then we evaluate the mathematical relationships between these variables. \n",
        "\n",
        "Python can also store the current value of a variable in memory and allow you to perform additional operations on it:"
      ],
      "metadata": {
        "id": "Oev1aWZaLEbu"
      }
    },
    {
      "cell_type": "code",
      "execution_count": null,
      "source": [
        "z = z + 1\n",
        "z"
      ],
      "outputs": [],
      "metadata": {
        "id": "_2rKujr1LEbu"
      }
    },
    {
      "cell_type": "markdown",
      "source": [
        "Another thing to remember about Python is that there is often more than one way of achieving the same outcome. Trying to think of alternate ways of coding is a useful exercise for understanding how code works, how to make it more concise, and to help in optimizing its performance. Below is an example where we perform the same operation as above (addition), but using the compound operator `+=`"
      ],
      "metadata": {
        "id": "UhOzyBXwLEbv"
      }
    },
    {
      "cell_type": "code",
      "execution_count": null,
      "source": [
        "z += 1\n",
        "z"
      ],
      "outputs": [
        {
          "output_type": "execute_result",
          "data": {
            "text/plain": [
              "7"
            ]
          },
          "metadata": {},
          "execution_count": 4
        }
      ],
      "metadata": {
        "colab": {
          "base_uri": "https://localhost:8080/"
        },
        "id": "ijG74xBcLEbv",
        "outputId": "2f4987d3-0e8d-43ad-ecd5-f0dea0c928d4"
      }
    },
    {
      "cell_type": "markdown",
      "source": [
        "## Lists"
      ],
      "metadata": {
        "id": "uKSrXM2yLEbv"
      }
    },
    {
      "cell_type": "markdown",
      "source": [
        "So far, what I've outlined here is something you can more or less do on a calculator. Python obviously allows us to do a lot more and the first step towards realising Python's full potential is in its use of different data structures or types. A good starting point are lists. A list is a way of storing multiple values in a single data structure. \n",
        "\n",
        "Each list is composed of three basic features: individual elements (normally charaters `'a'` or numbers `1`, but it could also even be another list), commas that separate each value `'a',1`, and a pair of square brackets `[ ]` that denotes the data structure is a list."
      ],
      "metadata": {
        "id": "jgpVZjJSLEbw"
      }
    },
    {
      "cell_type": "code",
      "execution_count": null,
      "source": [
        "a_list = [1,2,3,4]\n",
        "a_list"
      ],
      "outputs": [
        {
          "output_type": "execute_result",
          "data": {
            "text/plain": [
              "[1, 2, 3, 4]"
            ]
          },
          "metadata": {},
          "execution_count": 5
        }
      ],
      "metadata": {
        "colab": {
          "base_uri": "https://localhost:8080/"
        },
        "id": "SNEMWPQGLEbw",
        "outputId": "d62e382f-7ec9-4ed9-8a13-b194f49d2935"
      }
    },
    {
      "cell_type": "markdown",
      "source": [
        "We see here that python returns a list of numbers we entered. But, as with variables, we can also perform operations on lists. One example is to select an element from a list using an index:"
      ],
      "metadata": {
        "id": "wm17CVz5LEbx"
      }
    },
    {
      "cell_type": "code",
      "execution_count": null,
      "source": [
        "a_list[0]"
      ],
      "outputs": [
        {
          "output_type": "execute_result",
          "data": {
            "text/plain": [
              "1"
            ]
          },
          "metadata": {},
          "execution_count": 6
        }
      ],
      "metadata": {
        "colab": {
          "base_uri": "https://localhost:8080/"
        },
        "id": "Cm4hVyMvLEbx",
        "outputId": "8057be5a-5820-4cb1-df00-8f766b462b6d"
      }
    },
    {
      "cell_type": "markdown",
      "source": [
        "An index is a pointer to a location in a list. In Python, the first element of a list always starts with `0`, with the next element being `1` etc. We can also use an index to assign a new value to a list (note that the `print` function here simply forces the code box below to show `a_list` before we make our change):"
      ],
      "metadata": {
        "id": "MuwrhAnZLEbx"
      }
    },
    {
      "cell_type": "code",
      "execution_count": null,
      "source": [
        "print(a_list)\n",
        "a_list[1] = 'a'\n",
        "a_list"
      ],
      "outputs": [
        {
          "output_type": "stream",
          "name": "stdout",
          "text": [
            "[1, 2, 3, 4]\n"
          ]
        },
        {
          "output_type": "execute_result",
          "data": {
            "text/plain": [
              "[1, 'a', 3, 4]"
            ]
          },
          "metadata": {},
          "execution_count": 7
        }
      ],
      "metadata": {
        "colab": {
          "base_uri": "https://localhost:8080/"
        },
        "id": "BQI_xv8ILEbx",
        "outputId": "14b58716-77ad-41b4-cfc3-2c4a8d36f6b2"
      }
    },
    {
      "cell_type": "markdown",
      "source": [
        "A sequential subset of a list can be obtained using the slicing operator `[m:n]`, which returns all the items starting from the *m*th element, and up to (but not including) the *n*th element. Either *m* or *n* can be omitted (in which case the beginning or the end of the list is assumed in place of the missing value):"
      ],
      "metadata": {
        "id": "7NUd04fkLEbx"
      }
    },
    {
      "cell_type": "code",
      "execution_count": null,
      "source": [
        "print(a_list[0:3])\n",
        "print(a_list[:3])\n",
        "print(a_list[1:])\n",
        "print(a_list[-1])"
      ],
      "outputs": [
        {
          "output_type": "stream",
          "name": "stdout",
          "text": [
            "[1, 'a', 3]\n",
            "[1, 'a', 3]\n",
            "['a', 3, 4]\n",
            "4\n"
          ]
        }
      ],
      "metadata": {
        "colab": {
          "base_uri": "https://localhost:8080/"
        },
        "id": "OD9yThGzLEbx",
        "outputId": "3b8d8aaa-6b27-4d73-b2b5-bf67b87d8376"
      }
    },
    {
      "cell_type": "markdown",
      "source": [
        "The last operation here, `[-1]`, is a way of getting the last item in a list. If you instead choose `[-2]`, Python would return the last but one item in the list (and so on).\n",
        "\n",
        "One useful function here is to calculate the length of a list, or for that matter a string and other data structures, using `len()`:"
      ],
      "metadata": {
        "id": "6oouVdYRLEby"
      }
    },
    {
      "cell_type": "code",
      "execution_count": null,
      "source": [
        "print(a_list)\n",
        "len(a_list)"
      ],
      "outputs": [
        {
          "output_type": "stream",
          "name": "stdout",
          "text": [
            "[1, 'a', 3, 4]\n"
          ]
        },
        {
          "output_type": "execute_result",
          "data": {
            "text/plain": [
              "4"
            ]
          },
          "metadata": {},
          "execution_count": 9
        }
      ],
      "metadata": {
        "colab": {
          "base_uri": "https://localhost:8080/"
        },
        "id": "2T2w6XgoLEby",
        "outputId": "3a134d10-b3c0-41e9-a8a7-3bb3ba664312"
      }
    },
    {
      "cell_type": "markdown",
      "source": [
        "Lists often need to updated and you can do this using the `append()` function as follows:"
      ],
      "metadata": {
        "id": "OV_mzeYiLEby"
      }
    },
    {
      "cell_type": "code",
      "execution_count": null,
      "source": [
        "print(a_list)\n",
        "a_list.append('Collective Intelligence')\n",
        "print(a_list)\n",
        "a_list.remove(3)\n",
        "print(a_list)"
      ],
      "outputs": [
        {
          "output_type": "stream",
          "name": "stdout",
          "text": [
            "[1, 'a', 3, 4]\n",
            "[1, 'a', 3, 4, 'Collective Intelligence']\n",
            "[1, 'a', 4, 'Collective Intelligence']\n"
          ]
        }
      ],
      "metadata": {
        "colab": {
          "base_uri": "https://localhost:8080/"
        },
        "id": "7_J6BeXrLEbz",
        "outputId": "757af8de-8919-446a-d4fa-552da5265983"
      }
    },
    {
      "cell_type": "markdown",
      "source": [
        "Lists are not restricted to one-level; you can keep adding additional levels to a list:"
      ],
      "metadata": {
        "id": "ZHjGMCVWLEbz"
      }
    },
    {
      "cell_type": "code",
      "execution_count": null,
      "source": [
        "complex_list = [1,[2,3],4]\n",
        "print(complex_list[0])\n",
        "print(complex_list[1])\n",
        "print(complex_list[1][1])"
      ],
      "outputs": [
        {
          "output_type": "stream",
          "name": "stdout",
          "text": [
            "1\n",
            "[2, 3]\n",
            "3\n"
          ]
        }
      ],
      "metadata": {
        "colab": {
          "base_uri": "https://localhost:8080/"
        },
        "id": "BnUtiEYVLEbz",
        "outputId": "db03505e-0294-42d1-acaf-6cc6da91b524"
      }
    },
    {
      "cell_type": "markdown",
      "source": [
        "Notice that when calling `complex_list[1]` Python returned `[2,3]`. This is because Python treats the structure of lists as hierarchial. You can see this clearly in the above example when calling `complex_list[1][1]`. \n",
        "\n",
        "Finally, here is a quick challenge for you: Can you guess what the length of `list_c` is? And can you tell me why you think it's the length you stated?"
      ],
      "metadata": {
        "id": "xJpFImjILEbz"
      }
    },
    {
      "cell_type": "code",
      "execution_count": null,
      "source": [
        "list_a = [1, 2, 3, 4]\n",
        "list_b = [5, 6, 7]\n",
        "list_c = [list_a, list_b]\n",
        "len(list_c)"
      ],
      "outputs": [
        {
          "output_type": "execute_result",
          "data": {
            "text/plain": [
              "2"
            ]
          },
          "metadata": {},
          "execution_count": 12
        }
      ],
      "metadata": {
        "colab": {
          "base_uri": "https://localhost:8080/"
        },
        "id": "7pf4NsQ5LEb0",
        "outputId": "8eff49da-e053-47df-da2f-7aa977f4482b"
      }
    },
    {
      "cell_type": "markdown",
      "source": [
        "## Deepcopy"
      ],
      "metadata": {
        "id": "V5ZuNKzNLEb0"
      }
    },
    {
      "cell_type": "markdown",
      "source": [
        "One really counterintuitive property of Python, which has fooled many a programmer, is the way lists are stored and updated in Python. Try running the code below and see what happens: "
      ],
      "metadata": {
        "id": "WfmEuWZALEb0"
      }
    },
    {
      "cell_type": "code",
      "execution_count": null,
      "source": [
        "old_list = [1,2,3,4]\n",
        "new_list = old_list\n",
        "old_list.append(5)\n",
        "new_list"
      ],
      "outputs": [
        {
          "output_type": "execute_result",
          "data": {
            "text/plain": [
              "[1, 2, 3, 4, 5]"
            ]
          },
          "metadata": {},
          "execution_count": 13
        }
      ],
      "metadata": {
        "colab": {
          "base_uri": "https://localhost:8080/"
        },
        "id": "ff_1V5SZLEb0",
        "outputId": "152d525a-1d15-4644-f95b-1153a084966a"
      }
    },
    {
      "cell_type": "markdown",
      "source": [
        "Weird, right? Even though we appended `5` to `old_list` it also ended up in our `new_list`. This is because `new_list` inherits the properties of `old_list`, even when we update the `old_list`. Similarly, if we appended a value to the `new_list`, it would also update the `old_list`. There are many ways around this issue, but perhaps the simplest is to use the `copy` package:"
      ],
      "metadata": {
        "id": "F_uQtWoVLEb1"
      }
    },
    {
      "cell_type": "code",
      "execution_count": null,
      "source": [
        "import copy\n",
        "old_list = [1,2,3,4]\n",
        "new_list = copy.deepcopy(old_list)\n",
        "old_list.append(5)\n",
        "new_list"
      ],
      "outputs": [
        {
          "output_type": "execute_result",
          "data": {
            "text/plain": [
              "[1, 2, 3, 4]"
            ]
          },
          "metadata": {},
          "execution_count": 14
        }
      ],
      "metadata": {
        "colab": {
          "base_uri": "https://localhost:8080/"
        },
        "id": "IHoNsAWLLEb1",
        "outputId": "4252855c-e1c9-49ae-c2c4-2e7f845ba990"
      }
    },
    {
      "cell_type": "markdown",
      "source": [
        "## Dictionaries"
      ],
      "metadata": {
        "id": "pHrH3G9QLEb1"
      }
    },
    {
      "cell_type": "markdown",
      "source": [
        "Dictionaries are another useful data structure in Python. A dictionary comprises of two components: a key and a value. We use the `{key:value}` to specify that something is a dictionary and separate entries using a comma (just as with lists). In the example below, I specify two keys `0` and `1` that take the values `'James'` and `'Maria'`: "
      ],
      "metadata": {
        "id": "VmMQbAr3LEb1"
      }
    },
    {
      "cell_type": "code",
      "execution_count": null,
      "source": [
        "dict_a = {0:'James',1:'Maria'}\n",
        "dict_a[1]"
      ],
      "outputs": [
        {
          "output_type": "execute_result",
          "data": {
            "application/vnd.google.colaboratory.intrinsic+json": {
              "type": "string"
            },
            "text/plain": [
              "'Maria'"
            ]
          },
          "metadata": {},
          "execution_count": 15
        }
      ],
      "metadata": {
        "colab": {
          "base_uri": "https://localhost:8080/",
          "height": 36
        },
        "id": "aZui1zTlLEb2",
        "outputId": "476eaa0c-a8a7-4fac-b237-2e3de6c2fc91"
      }
    },
    {
      "cell_type": "markdown",
      "source": [
        "Like with lists, we can also modify dictionaries using the `update()` function:"
      ],
      "metadata": {
        "id": "YqM58hcLLEb2"
      }
    },
    {
      "cell_type": "code",
      "execution_count": null,
      "source": [
        "dict_a.update({2:'Ada'})\n",
        "dict_a"
      ],
      "outputs": [],
      "metadata": {
        "id": "xeE95hHXLEb2"
      }
    },
    {
      "cell_type": "markdown",
      "source": [
        "Lastly, dictionary keys can be any value you want, including different data types such as strings:"
      ],
      "metadata": {
        "id": "5g_CcG3JLEb2"
      }
    },
    {
      "cell_type": "code",
      "execution_count": null,
      "source": [
        "dict_b = {'James':[35,'cultural evolution'],'Maria':[31,'public policy'],'Ada':[3,'dinosaurs']}\n",
        "dict_b['Ada']"
      ],
      "outputs": [],
      "metadata": {
        "id": "9Jxj94veLEb2"
      }
    },
    {
      "cell_type": "markdown",
      "source": [
        "So, as we see in the example above, by typing the string `Ada` into `dict_b` we return a list, which, in this case, corresponds to Ada's age and one of her interests. "
      ],
      "metadata": {
        "id": "pLfMfM5lLEb3"
      }
    },
    {
      "cell_type": "markdown",
      "source": [
        "## Conditionals"
      ],
      "metadata": {
        "id": "3jGh6ZZBLEb3"
      }
    },
    {
      "cell_type": "markdown",
      "source": [
        "Conditional statements are used to execute a block of code under specific circumstances (when the conditional expression is `True`). A conditional statement starts with the word `if`, followed by an expression `James==35`, and a colon `:` to introduce the conditional code block. If the conditional expression is true, then the code block is executed:"
      ],
      "metadata": {
        "id": "P9LQkl0eLEb3"
      }
    },
    {
      "cell_type": "code",
      "execution_count": null,
      "source": [
        "James = 35\n",
        "if James == 35:\n",
        "\tprint('James is {} years old'.format(James))\t"
      ],
      "outputs": [],
      "metadata": {
        "id": "q1ThPJ9wLEb3"
      }
    },
    {
      "cell_type": "markdown",
      "source": [
        "In this example, the conditional expression evaluates whether the variable `James` is equal to `35` using the comparison operator `==`. We can use other comparison operators, such as `<` (less than), `<=` (less than or equal to), `>` (greater than), `>=` (greater than or equal to), and `!=`. Note that this can get a bit confusing, especially when `==` means equal to and `=` is used to bind something to a variable. Silly Python! Below is the same code, except that now I've asked whether `James` is less than `35`:"
      ],
      "metadata": {
        "id": "Hlr7tJRELEb4"
      }
    },
    {
      "cell_type": "code",
      "execution_count": null,
      "source": [
        "James = 35\n",
        "if James < 35:\n",
        "\tprint('James is {} years old'.format(James))"
      ],
      "outputs": [],
      "metadata": {
        "id": "txMB1ey1LEb4"
      }
    },
    {
      "cell_type": "markdown",
      "source": [
        "Notice that nothing happens when you run it. This is because we haven't told Python what to do if the evaluated expression is `False`. We can, however, construct more complex expressions:"
      ],
      "metadata": {
        "id": "Zy-y25I4LEb4"
      }
    },
    {
      "cell_type": "code",
      "execution_count": null,
      "source": [
        "James = 36\n",
        "if James == 35:\n",
        "\tprint('James is {} years old'.format(James))\n",
        "elif James < 35:\n",
        "\tprint('James is not 35, he is {} years old'.format(James))\n",
        "else:\n",
        "\tprint('James is getting old; he is {} years old'.format(James))"
      ],
      "outputs": [],
      "metadata": {
        "id": "QnoTbvUwLEb4"
      }
    },
    {
      "cell_type": "markdown",
      "source": [
        "This is needlessly complicated code, but it illustrates how you can use `if`, `elif` (else if) and `else` to return different outputs depending on the current state of a variable.\n",
        "\n",
        "Some other aspects you can play around with are having more than one evaluation using the `and` and `or` operators, e.g., `if James == 35 and country == 'Wales'`. Also, notice that when writing these statements, the code block is indented by one level. This indentation is often done automatically, but sometimes you'll need to do it manually by pressing the **tab** key. "
      ],
      "metadata": {
        "id": "7gQdXpL6LEb5"
      }
    },
    {
      "cell_type": "markdown",
      "source": [
        "## For-loops, while loops and comprehensions"
      ],
      "metadata": {
        "id": "MIGEGHEvLEb5"
      }
    },
    {
      "cell_type": "markdown",
      "source": [
        "The `for` loop is where the magic starts to happen in Python. Once you've mastered this, you can start to figure out how to some pretty complex programming. In the example below, the `for` loop runs through each element in a list `[1,3,5,7,9]` and multiplies it by `2`:"
      ],
      "metadata": {
        "id": "qe0_VwRpLEb5"
      }
    },
    {
      "cell_type": "code",
      "execution_count": null,
      "source": [
        "for n in [1,3,5,7,9]:\n",
        "\tprint(n * 2)"
      ],
      "outputs": [],
      "metadata": {
        "id": "GS92bidqLEb5"
      }
    },
    {
      "cell_type": "markdown",
      "source": [
        "Often we want a loop to count up through a range of numbers. To do that, we can use the `range` function. So, for instance, `range(1,10)` creates a sequence of numbers from `1` up to **but not including** `10`:"
      ],
      "metadata": {
        "id": "KvN8nfx3LEb6"
      }
    },
    {
      "cell_type": "code",
      "execution_count": null,
      "source": [
        "for n in range(1,10):\n",
        "\tprint(n)"
      ],
      "outputs": [],
      "metadata": {
        "id": "-nysOhPBLEb6"
      }
    },
    {
      "cell_type": "markdown",
      "source": [
        "Note that if you omit the first number in the `range` function, then Python will start the sequence from `0`:"
      ],
      "metadata": {
        "id": "aBbAfoGILEb6"
      }
    },
    {
      "cell_type": "code",
      "execution_count": null,
      "source": [
        "for n in range(10):\n",
        "\tprint(n)"
      ],
      "outputs": [],
      "metadata": {
        "id": "9MFCLpsFLEb6"
      }
    },
    {
      "cell_type": "markdown",
      "source": [
        "Besides `for` loops, which run over a pre-defined sequence, `while` loops wait until some condition is fulfilled:"
      ],
      "metadata": {
        "id": "nEY0kFt1LEb7"
      }
    },
    {
      "cell_type": "code",
      "execution_count": null,
      "source": [
        "n=1\n",
        "while n < 10:\n",
        "\tprint(n)\n",
        "\tn+=1"
      ],
      "outputs": [],
      "metadata": {
        "id": "8OJehQOgLEb7"
      }
    },
    {
      "cell_type": "markdown",
      "source": [
        "Here, we tell Python that `n` starts at `1`, and then tell the `while` loop to continue running if `n` is less than `10`. We then update the value of `n` by an increment of 1 using `n+=1` and the loop stops once `n=10`. However, if we didn't update the value of `n`, then the `while` loop would have kept running until you manually terminated the program. So, when using `while` loops, you need to be careful in making sure that it is actually possible for a program to fulfil a given expression."
      ],
      "metadata": {
        "id": "CFTeXkpVLEb7"
      }
    },
    {
      "cell_type": "markdown",
      "source": [
        "Finally, one nifty trick you can do in Python is to use loops inside of data structures, such as lists and dictionaries using *comprehensions*. Below is example of a list comprehension:"
      ],
      "metadata": {
        "id": "PFUToM2eLEb7"
      }
    },
    {
      "cell_type": "code",
      "execution_count": null,
      "source": [
        "a_list = [i for i in range(1,10)]\n",
        "a_list"
      ],
      "outputs": [],
      "metadata": {
        "id": "a-Ib-LgoLEb7"
      }
    },
    {
      "cell_type": "markdown",
      "source": [
        "List comprehensions provide a more concise method that is equivalent to the following:"
      ],
      "metadata": {
        "id": "nGKhRmTbLEb7"
      }
    },
    {
      "cell_type": "code",
      "execution_count": null,
      "source": [
        "a_list = []\n",
        "for i in range(1,10):\n",
        "\ta_list.append(i)\n",
        "a_list"
      ],
      "outputs": [],
      "metadata": {
        "id": "51leOJIXLEb7"
      }
    },
    {
      "cell_type": "markdown",
      "source": [
        "## Functions\n",
        "Like loops, functions are very important features of Python and we'll be using them a lot to create our Agent-Based Models. A function allows you to create a block of code which only runs when it called. One of the super relevant features of functions is that you can assign *parameters* that enable you to pass data into a function:"
      ],
      "metadata": {
        "id": "FJUhD61XLEb7"
      }
    },
    {
      "cell_type": "code",
      "execution_count": null,
      "source": [
        "def squaring(n):\n",
        "\treturn n*n\n",
        "\n",
        "squaring(n=2)"
      ],
      "outputs": [],
      "metadata": {
        "id": "UM332KRMLEb8"
      }
    },
    {
      "cell_type": "markdown",
      "source": [
        "What this function does is give us the square of any number we enter into it. So, for example, the squaring `2` gives us $2^2 = 4$. We will be using functions a lot in Python because it minimises the number of times we need to duplicate code. "
      ],
      "metadata": {
        "id": "onnQF2a8LEb8"
      }
    },
    {
      "cell_type": "markdown",
      "source": [
        "## Random numbers and set.seed()\n",
        "In simulations, we regularly need to access random numbers; Python helpfully provides a built-in random number generator for this purpose via the `random` package:"
      ],
      "metadata": {
        "id": "dMeYT_nwLEb8"
      }
    },
    {
      "cell_type": "code",
      "execution_count": null,
      "source": [
        "import random\n",
        "mylist = [i for i in range(1,100)]\n",
        "random.choice(mylist)"
      ],
      "outputs": [],
      "metadata": {
        "id": "eqW1cQ9ALEb8"
      }
    },
    {
      "cell_type": "markdown",
      "source": [
        "As you can see, using `random.choice()` returns a random value from a range of numbers that we specified for `mylist`. There are other random functions, such as `random.randrange(n)` (picks a random integer up to but not including `n`) and `random.random` (produces a random floating point number between 0 and 1), which operate on similar principles.\n",
        "\n",
        "One last aspect to consider when using random numbers is that this isn't true randomness. Instead, Python uses what's known as a [Pseudorandom number generator](https://en.wikipedia.org/wiki/Pseudorandom_number_generator) to give the appearance of randomness. For most practical purposes, pseudorandom is indistinguishable from true randomness, but I encourage you to go and read the aforementioned wikipedia article. One important feature of Pseudorandom number generators is that you can replicate a sequence using the `random.seed()` function:"
      ],
      "metadata": {
        "id": "ytq4Av_LLEb9"
      }
    },
    {
      "cell_type": "code",
      "execution_count": null,
      "source": [
        "random.seed(10)\n",
        "mylist = [i for i in range(1,100)]\n",
        "\n",
        "for n in range(10):\n",
        "\tprint(random.choice(mylist))"
      ],
      "outputs": [],
      "metadata": {
        "id": "4i_5580OLEb9"
      }
    },
    {
      "cell_type": "markdown",
      "source": [
        "Notice that if you re-run the `for` loop, you get the exact same sequence. Changing the value in the `random.seed()` function will (most likely) give you a different sequence of numbers. "
      ],
      "metadata": {
        "id": "PKTewpUjLEb9"
      }
    }
  ],
  "metadata": {
    "orig_nbformat": 4,
    "language_info": {
      "name": "python",
      "version": "3.8.5",
      "mimetype": "text/x-python",
      "codemirror_mode": {
        "name": "ipython",
        "version": 3
      },
      "pygments_lexer": "ipython3",
      "nbconvert_exporter": "python",
      "file_extension": ".py"
    },
    "kernelspec": {
      "name": "python3",
      "display_name": "Python 3.8.5 64-bit"
    },
    "interpreter": {
      "hash": "a160beef4a8a97a572799e01f44d5078c43cb7e8c9e45122b4cb5d5af0f7ba6f"
    },
    "colab": {
      "name": "intro_to_python.ipynb",
      "provenance": [],
      "collapsed_sections": [
        "V5ZuNKzNLEb0",
        "pHrH3G9QLEb1",
        "3jGh6ZZBLEb3",
        "MIGEGHEvLEb5",
        "FJUhD61XLEb7",
        "dMeYT_nwLEb8"
      ],
      "toc_visible": true
    }
  },
  "nbformat": 4,
  "nbformat_minor": 0
}