{
 "cells": [
  {
   "cell_type": "code",
   "execution_count": 1,
   "id": "a5f7e7c5",
   "metadata": {},
   "outputs": [
    {
     "name": "stderr",
     "output_type": "stream",
     "text": [
      "WARNING (theano.tensor.blas): Using NumPy C-API based implementation for BLAS functions.\n"
     ]
    }
   ],
   "source": [
    "import matplotlib.pyplot as plt\n",
    "import scipy.stats as st\n",
    "import numpy as np\n",
    "import pandas as pd\n",
    "import pymc3 as pm\n",
    "from quap import quap\n",
    "import arviz as az\n",
    "import statsmodels.api as sm\n",
    "import math"
   ]
  },
  {
   "cell_type": "code",
   "execution_count": 2,
   "id": "e438e227",
   "metadata": {},
   "outputs": [],
   "source": [
    "data = pd.read_csv(\"Data/WaffleDivorce.csv\", delimiter=\";\")"
   ]
  },
  {
   "cell_type": "code",
   "execution_count": 3,
   "id": "6dd05fbd",
   "metadata": {},
   "outputs": [],
   "source": [
    "def standardize(series):\n",
    "    \"\"\"Standardize a pandas series\"\"\"\n",
    "    std_series = (series - series.mean()) / series.std()\n",
    "    return std_series"
   ]
  },
  {
   "cell_type": "code",
   "execution_count": 4,
   "id": "9e28341a",
   "metadata": {},
   "outputs": [],
   "source": [
    "# Standardize regressors and target\n",
    "data[\"Divorce_std\"] = standardize(data[\"Divorce\"])\n",
    "data[\"Marriage_std\"] = standardize(data[\"Marriage\"])\n",
    "data[\"MedianAgeMarriage_std\"] = standardize(data[\"MedianAgeMarriage\"])"
   ]
  },
  {
   "cell_type": "code",
   "execution_count": 5,
   "id": "58c3fe27",
   "metadata": {},
   "outputs": [
    {
     "data": {
      "text/html": [
       "\n",
       "<style>\n",
       "    /* Turns off some styling */\n",
       "    progress {\n",
       "        /* gets rid of default border in Firefox and Opera. */\n",
       "        border: none;\n",
       "        /* Needs to be in here for Safari polyfill so background images work as expected. */\n",
       "        background-size: auto;\n",
       "    }\n",
       "    .progress-bar-interrupted, .progress-bar-interrupted::-webkit-progress-bar {\n",
       "        background: #F44336;\n",
       "    }\n",
       "</style>\n"
      ],
      "text/plain": [
       "<IPython.core.display.HTML object>"
      ]
     },
     "metadata": {},
     "output_type": "display_data"
    },
    {
     "data": {
      "text/html": [
       "\n",
       "    <div>\n",
       "      <progress value='12' class='' max='12' style='width:300px; height:20px; vertical-align: middle;'></progress>\n",
       "      100.00% [12/12 00:00<00:00 logp = -60.551, ||grad|| = 0.0040274]\n",
       "    </div>\n",
       "    "
      ],
      "text/plain": [
       "<IPython.core.display.HTML object>"
      ]
     },
     "metadata": {},
     "output_type": "display_data"
    },
    {
     "name": "stdout",
     "output_type": "stream",
     "text": [
      "\n"
     ]
    }
   ],
   "source": [
    "with pm.Model() as m_age_mrate:\n",
    "    a = pm.Normal(\"a\", 0, 0.2)\n",
    "    b1 = pm.Normal(\"b1\", 0, 0.5)\n",
    "    b2 = pm.Normal(\"b2\", 0, 0.5)\n",
    "\n",
    "    sigma = pm.Exponential(\"sigma\", 1)\n",
    "    mu = a + b1 * data.Marriage_std + b2 * data.MedianAgeMarriage_std\n",
    "\n",
    "    divorce_rate_std = pm.Normal(\n",
    "        \"divorce_rate_std\", mu=mu, sigma=sigma, observed=data.Divorce_std\n",
    "    )\n",
    "    prior_samples = pm.sample_prior_predictive()\n",
    "    idata,dist = quap(vars=[a,b1,b2,sigma],n_samples=10_000)\n",
    "    samples = az.InferenceData.to_dataframe(idata)"
   ]
  },
  {
   "cell_type": "code",
   "execution_count": 6,
   "id": "de8d2602",
   "metadata": {},
   "outputs": [
    {
     "data": {
      "text/html": [
       "<div>\n",
       "<style scoped>\n",
       "    .dataframe tbody tr th:only-of-type {\n",
       "        vertical-align: middle;\n",
       "    }\n",
       "\n",
       "    .dataframe tbody tr th {\n",
       "        vertical-align: top;\n",
       "    }\n",
       "\n",
       "    .dataframe thead th {\n",
       "        text-align: right;\n",
       "    }\n",
       "</style>\n",
       "<table border=\"1\" class=\"dataframe\">\n",
       "  <thead>\n",
       "    <tr style=\"text-align: right;\">\n",
       "      <th></th>\n",
       "      <th>mean</th>\n",
       "      <th>sd</th>\n",
       "      <th>hdi_5.5%</th>\n",
       "      <th>hdi_94.5%</th>\n",
       "    </tr>\n",
       "  </thead>\n",
       "  <tbody>\n",
       "    <tr>\n",
       "      <th>a</th>\n",
       "      <td>-0.000</td>\n",
       "      <td>0.097</td>\n",
       "      <td>-0.145</td>\n",
       "      <td>0.163</td>\n",
       "    </tr>\n",
       "    <tr>\n",
       "      <th>b1</th>\n",
       "      <td>-0.066</td>\n",
       "      <td>0.152</td>\n",
       "      <td>-0.305</td>\n",
       "      <td>0.182</td>\n",
       "    </tr>\n",
       "    <tr>\n",
       "      <th>b2</th>\n",
       "      <td>-0.614</td>\n",
       "      <td>0.153</td>\n",
       "      <td>-0.845</td>\n",
       "      <td>-0.359</td>\n",
       "    </tr>\n",
       "    <tr>\n",
       "      <th>sigma</th>\n",
       "      <td>0.786</td>\n",
       "      <td>0.078</td>\n",
       "      <td>0.658</td>\n",
       "      <td>0.909</td>\n",
       "    </tr>\n",
       "  </tbody>\n",
       "</table>\n",
       "</div>"
      ],
      "text/plain": [
       "        mean     sd  hdi_5.5%  hdi_94.5%\n",
       "a     -0.000  0.097    -0.145      0.163\n",
       "b1    -0.066  0.152    -0.305      0.182\n",
       "b2    -0.614  0.153    -0.845     -0.359\n",
       "sigma  0.786  0.078     0.658      0.909"
      ]
     },
     "execution_count": 6,
     "metadata": {},
     "output_type": "execute_result"
    }
   ],
   "source": [
    "az.summary(idata, kind=\"stats\",hdi_prob=0.89)"
   ]
  },
  {
   "cell_type": "code",
   "execution_count": 7,
   "id": "f1484c19",
   "metadata": {},
   "outputs": [
    {
     "data": {
      "text/plain": [
       "<matplotlib.lines.Line2D at 0x257159986d0>"
      ]
     },
     "execution_count": 7,
     "metadata": {},
     "output_type": "execute_result"
    },
    {
     "data": {
      "image/png": "[encoded data removed]",
      "text/plain": [
       "<Figure size 432x453.6 with 1 Axes>"
      ]
     },
     "metadata": {
      "needs_background": "light"
     },
     "output_type": "display_data"
    }
   ],
   "source": [
    "az.plot_forest(\n",
    "    idata,\n",
    "    var_names=[\"a\",\"b1\", \"b2\"],\n",
    ")\n",
    "plt.axvline(0)"
   ]
  },
  {
   "cell_type": "code",
   "execution_count": 2,
   "id": "9267ce71",
   "metadata": {},
   "outputs": [
    {
     "data": {
      "text/html": [
       "<div>\n",
       "<style scoped>\n",
       "    .dataframe tbody tr th:only-of-type {\n",
       "        vertical-align: middle;\n",
       "    }\n",
       "\n",
       "    .dataframe tbody tr th {\n",
       "        vertical-align: top;\n",
       "    }\n",
       "\n",
       "    .dataframe thead th {\n",
       "        text-align: right;\n",
       "    }\n",
       "</style>\n",
       "<table border=\"1\" class=\"dataframe\">\n",
       "  <thead>\n",
       "    <tr style=\"text-align: right;\">\n",
       "      <th></th>\n",
       "      <th>height</th>\n",
       "      <th>leg_left</th>\n",
       "      <th>leg_right</th>\n",
       "    </tr>\n",
       "  </thead>\n",
       "  <tbody>\n",
       "    <tr>\n",
       "      <th>0</th>\n",
       "      <td>11.630274</td>\n",
       "      <td>5.752928</td>\n",
       "      <td>5.769474</td>\n",
       "    </tr>\n",
       "    <tr>\n",
       "      <th>1</th>\n",
       "      <td>5.825454</td>\n",
       "      <td>2.468372</td>\n",
       "      <td>2.434044</td>\n",
       "    </tr>\n",
       "    <tr>\n",
       "      <th>2</th>\n",
       "      <td>8.229036</td>\n",
       "      <td>3.702573</td>\n",
       "      <td>3.691696</td>\n",
       "    </tr>\n",
       "    <tr>\n",
       "      <th>3</th>\n",
       "      <td>9.459327</td>\n",
       "      <td>4.300565</td>\n",
       "      <td>4.293709</td>\n",
       "    </tr>\n",
       "    <tr>\n",
       "      <th>4</th>\n",
       "      <td>10.185783</td>\n",
       "      <td>4.244319</td>\n",
       "      <td>4.282989</td>\n",
       "    </tr>\n",
       "  </tbody>\n",
       "</table>\n",
       "</div>"
      ],
      "text/plain": [
       "      height  leg_left  leg_right\n",
       "0  11.630274  5.752928   5.769474\n",
       "1   5.825454  2.468372   2.434044\n",
       "2   8.229036  3.702573   3.691696\n",
       "3   9.459327  4.300565   4.293709\n",
       "4  10.185783  4.244319   4.282989"
      ]
     },
     "execution_count": 2,
     "metadata": {},
     "output_type": "execute_result"
    }
   ],
   "source": [
    "N = 100  # number of individuals\n",
    "height = np.random.normal(10, 2, N)  # sim total height of each\n",
    "leg_prop = np.random.uniform(0.4, 0.5, N)  # leg as proportion of height\n",
    "leg_left = leg_prop * height + np.random.normal(0, 0.02, N)  # sim left leg as proportion + error\n",
    "leg_right = leg_prop * height + np.random.normal(0, 0.02, N)  # sim right leg as proportion + error\n",
    "\n",
    "d = pd.DataFrame(\n",
    "    np.vstack([height, leg_left, leg_right]).T,\n",
    "    columns=[\"height\", \"leg_left\", \"leg_right\"],\n",
    ")  # combine into data frame\n",
    "\n",
    "d.head()"
   ]
  },
  {
   "cell_type": "code",
   "execution_count": 27,
   "id": "4ccfdaf5",
   "metadata": {},
   "outputs": [
    {
     "data": {
      "text/html": [
       "\n",
       "<style>\n",
       "    /* Turns off some styling */\n",
       "    progress {\n",
       "        /* gets rid of default border in Firefox and Opera. */\n",
       "        border: none;\n",
       "        /* Needs to be in here for Safari polyfill so background images work as expected. */\n",
       "        background-size: auto;\n",
       "    }\n",
       "    .progress-bar-interrupted, .progress-bar-interrupted::-webkit-progress-bar {\n",
       "        background: #F44336;\n",
       "    }\n",
       "</style>\n"
      ],
      "text/plain": [
       "<IPython.core.display.HTML object>"
      ]
     },
     "metadata": {},
     "output_type": "display_data"
    },
    {
     "data": {
      "text/html": [
       "\n",
       "    <div>\n",
       "      <progress value='33' class='' max='33' style='width:300px; height:20px; vertical-align: middle;'></progress>\n",
       "      100.00% [33/33 00:00<00:00 logp = -94.809, ||grad|| = 0.11925]\n",
       "    </div>\n",
       "    "
      ],
      "text/plain": [
       "<IPython.core.display.HTML object>"
      ]
     },
     "metadata": {},
     "output_type": "display_data"
    },
    {
     "name": "stdout",
     "output_type": "stream",
     "text": [
      "\n"
     ]
    }
   ],
   "source": [
    "with pm.Model() as left_leg:\n",
    "    a = pm.Normal(\"a\", 10, 100)\n",
    "    b_left = pm.Normal(\"b_left\", 2, 10)\n",
    "   \n",
    "\n",
    "    sigma = pm.Exponential(\"sigma\", 1)\n",
    "    mu = a + b_left * d.leg_left\n",
    "\n",
    "    height = pm.Normal(\"height\", mu=mu, sigma=sigma, observed=d.height)\n",
    "\n",
    "    idata,dist = quap(vars=[a,b_left,sigma],n_samples=10_000)\n",
    "    samples = az.InferenceData.to_dataframe(idata)"
   ]
  },
  {
   "cell_type": "code",
   "execution_count": 25,
   "id": "383ec30d",
   "metadata": {},
   "outputs": [
    {
     "data": {
      "text/html": [
       "<div>\n",
       "<style scoped>\n",
       "    .dataframe tbody tr th:only-of-type {\n",
       "        vertical-align: middle;\n",
       "    }\n",
       "\n",
       "    .dataframe tbody tr th {\n",
       "        vertical-align: top;\n",
       "    }\n",
       "\n",
       "    .dataframe thead th {\n",
       "        text-align: right;\n",
       "    }\n",
       "</style>\n",
       "<table border=\"1\" class=\"dataframe\">\n",
       "  <thead>\n",
       "    <tr style=\"text-align: right;\">\n",
       "      <th></th>\n",
       "      <th>mean</th>\n",
       "      <th>sd</th>\n",
       "      <th>hdi_5.5%</th>\n",
       "      <th>hdi_94.5%</th>\n",
       "    </tr>\n",
       "  </thead>\n",
       "  <tbody>\n",
       "    <tr>\n",
       "      <th>a</th>\n",
       "      <td>0.885</td>\n",
       "      <td>0.258</td>\n",
       "      <td>0.475</td>\n",
       "      <td>1.302</td>\n",
       "    </tr>\n",
       "    <tr>\n",
       "      <th>b_left</th>\n",
       "      <td>2.010</td>\n",
       "      <td>0.057</td>\n",
       "      <td>1.919</td>\n",
       "      <td>2.100</td>\n",
       "    </tr>\n",
       "    <tr>\n",
       "      <th>sigma</th>\n",
       "      <td>0.568</td>\n",
       "      <td>0.040</td>\n",
       "      <td>0.506</td>\n",
       "      <td>0.633</td>\n",
       "    </tr>\n",
       "  </tbody>\n",
       "</table>\n",
       "</div>"
      ],
      "text/plain": [
       "         mean     sd  hdi_5.5%  hdi_94.5%\n",
       "a       0.885  0.258     0.475      1.302\n",
       "b_left  2.010  0.057     1.919      2.100\n",
       "sigma   0.568  0.040     0.506      0.633"
      ]
     },
     "execution_count": 25,
     "metadata": {},
     "output_type": "execute_result"
    }
   ],
   "source": [
    "az.summary(idata, kind=\"stats\",hdi_prob=0.89)"
   ]
  },
  {
   "cell_type": "code",
   "execution_count": 26,
   "id": "f04c7fdc",
   "metadata": {},
   "outputs": [
    {
     "data": {
      "text/plain": [
       "<matplotlib.lines.Line2D at 0x1fd273fd2b0>"
      ]
     },
     "execution_count": 26,
     "metadata": {},
     "output_type": "execute_result"
    },
    {
     "data": {
      "image/png": "[encoded data removed]",
      "text/plain": [
       "<Figure size 432x374.4 with 1 Axes>"
      ]
     },
     "metadata": {
      "needs_background": "light"
     },
     "output_type": "display_data"
    }
   ],
   "source": [
    "az.plot_forest(\n",
    "    idata,\n",
    "    var_names=[\"a\",\"b_left\"],\n",
    ")\n",
    "plt.axvline(0)"
   ]
  },
  {
   "cell_type": "code",
   "execution_count": 29,
   "id": "01d24141",
   "metadata": {},
   "outputs": [
    {
     "data": {
      "text/html": [
       "\n",
       "<style>\n",
       "    /* Turns off some styling */\n",
       "    progress {\n",
       "        /* gets rid of default border in Firefox and Opera. */\n",
       "        border: none;\n",
       "        /* Needs to be in here for Safari polyfill so background images work as expected. */\n",
       "        background-size: auto;\n",
       "    }\n",
       "    .progress-bar-interrupted, .progress-bar-interrupted::-webkit-progress-bar {\n",
       "        background: #F44336;\n",
       "    }\n",
       "</style>\n"
      ],
      "text/plain": [
       "<IPython.core.display.HTML object>"
      ]
     },
     "metadata": {},
     "output_type": "display_data"
    },
    {
     "data": {
      "text/html": [
       "\n",
       "    <div>\n",
       "      <progress value='35' class='' max='35' style='width:300px; height:20px; vertical-align: middle;'></progress>\n",
       "      100.00% [35/35 00:00<00:00 logp = -94.972, ||grad|| = 0.79519]\n",
       "    </div>\n",
       "    "
      ],
      "text/plain": [
       "<IPython.core.display.HTML object>"
      ]
     },
     "metadata": {},
     "output_type": "display_data"
    },
    {
     "name": "stdout",
     "output_type": "stream",
     "text": [
      "\n"
     ]
    }
   ],
   "source": [
    "with pm.Model() as right_leg:\n",
    "    a = pm.Normal(\"a\", 10, 100)\n",
    "    b_right = pm.Normal(\"b_right\", 2, 10)\n",
    "   \n",
    "\n",
    "    sigma = pm.Exponential(\"sigma\", 1)\n",
    "    mu = a + b_right * d.leg_right\n",
    "\n",
    "    height = pm.Normal(\"height\", mu=mu, sigma=sigma, observed=d.height)\n",
    "\n",
    "    idata,dist = quap(vars=[a,b_right,sigma],n_samples=10_000)\n",
    "    samples = az.InferenceData.to_dataframe(idata)"
   ]
  },
  {
   "cell_type": "code",
   "execution_count": 30,
   "id": "14091cb4",
   "metadata": {},
   "outputs": [
    {
     "data": {
      "text/html": [
       "<div>\n",
       "<style scoped>\n",
       "    .dataframe tbody tr th:only-of-type {\n",
       "        vertical-align: middle;\n",
       "    }\n",
       "\n",
       "    .dataframe tbody tr th {\n",
       "        vertical-align: top;\n",
       "    }\n",
       "\n",
       "    .dataframe thead th {\n",
       "        text-align: right;\n",
       "    }\n",
       "</style>\n",
       "<table border=\"1\" class=\"dataframe\">\n",
       "  <thead>\n",
       "    <tr style=\"text-align: right;\">\n",
       "      <th></th>\n",
       "      <th>mean</th>\n",
       "      <th>sd</th>\n",
       "      <th>hdi_5.5%</th>\n",
       "      <th>hdi_94.5%</th>\n",
       "    </tr>\n",
       "  </thead>\n",
       "  <tbody>\n",
       "    <tr>\n",
       "      <th>a</th>\n",
       "      <td>0.882</td>\n",
       "      <td>0.261</td>\n",
       "      <td>0.466</td>\n",
       "      <td>1.299</td>\n",
       "    </tr>\n",
       "    <tr>\n",
       "      <th>b_right</th>\n",
       "      <td>2.010</td>\n",
       "      <td>0.057</td>\n",
       "      <td>1.913</td>\n",
       "      <td>2.095</td>\n",
       "    </tr>\n",
       "    <tr>\n",
       "      <th>sigma</th>\n",
       "      <td>0.568</td>\n",
       "      <td>0.040</td>\n",
       "      <td>0.506</td>\n",
       "      <td>0.632</td>\n",
       "    </tr>\n",
       "  </tbody>\n",
       "</table>\n",
       "</div>"
      ],
      "text/plain": [
       "          mean     sd  hdi_5.5%  hdi_94.5%\n",
       "a        0.882  0.261     0.466      1.299\n",
       "b_right  2.010  0.057     1.913      2.095\n",
       "sigma    0.568  0.040     0.506      0.632"
      ]
     },
     "execution_count": 30,
     "metadata": {},
     "output_type": "execute_result"
    }
   ],
   "source": [
    "az.summary(idata, kind=\"stats\",hdi_prob=0.89)"
   ]
  },
  {
   "cell_type": "code",
   "execution_count": 31,
   "id": "d01a1222",
   "metadata": {},
   "outputs": [
    {
     "data": {
      "text/plain": [
       "<matplotlib.lines.Line2D at 0x1fd2758ec10>"
      ]
     },
     "execution_count": 31,
     "metadata": {},
     "output_type": "execute_result"
    },
    {
     "data": {
      "image/png": "[encoded data removed]",
      "text/plain": [
       "<Figure size 432x374.4 with 1 Axes>"
      ]
     },
     "metadata": {
      "needs_background": "light"
     },
     "output_type": "display_data"
    }
   ],
   "source": [
    "az.plot_forest(\n",
    "    idata,\n",
    "    var_names=[\"a\",\"b_right\"],\n",
    ")\n",
    "plt.axvline(0)"
   ]
  },
  {
   "cell_type": "code",
   "execution_count": 33,
   "id": "a0268725",
   "metadata": {},
   "outputs": [
    {
     "data": {
      "text/html": [
       "\n",
       "<style>\n",
       "    /* Turns off some styling */\n",
       "    progress {\n",
       "        /* gets rid of default border in Firefox and Opera. */\n",
       "        border: none;\n",
       "        /* Needs to be in here for Safari polyfill so background images work as expected. */\n",
       "        background-size: auto;\n",
       "    }\n",
       "    .progress-bar-interrupted, .progress-bar-interrupted::-webkit-progress-bar {\n",
       "        background: #F44336;\n",
       "    }\n",
       "</style>\n"
      ],
      "text/plain": [
       "<IPython.core.display.HTML object>"
      ]
     },
     "metadata": {},
     "output_type": "display_data"
    },
    {
     "data": {
      "text/html": [
       "\n",
       "    <div>\n",
       "      <progress value='49' class='' max='49' style='width:300px; height:20px; vertical-align: middle;'></progress>\n",
       "      100.00% [49/49 00:00<00:00 logp = -97.995, ||grad|| = 0.92726]\n",
       "    </div>\n",
       "    "
      ],
      "text/plain": [
       "<IPython.core.display.HTML object>"
      ]
     },
     "metadata": {},
     "output_type": "display_data"
    },
    {
     "name": "stdout",
     "output_type": "stream",
     "text": [
      "\n"
     ]
    }
   ],
   "source": [
    "with pm.Model() as both_legs:\n",
    "    a = pm.Normal(\"a\", 10, 100)\n",
    "    b_left = pm.Normal(\"b_left\", 2, 10)\n",
    "    b_right = pm.Normal(\"b_right\", 2, 10)\n",
    "    sigma = pm.Exponential(\"sigma\", 1)\n",
    "    \n",
    "    mu = a + b_left * d.leg_left + b_right * d.leg_right\n",
    "    height = pm.Normal(\"height\", mu=mu, sigma=sigma, observed=d.height)\n",
    "\n",
    "    idata,dist = quap(vars=[a,b_left,b_right,sigma],n_samples=10_000)\n",
    "    samples = az.InferenceData.to_dataframe(idata)"
   ]
  },
  {
   "cell_type": "code",
   "execution_count": 34,
   "id": "edd4b4be",
   "metadata": {},
   "outputs": [
    {
     "data": {
      "text/html": [
       "<div>\n",
       "<style scoped>\n",
       "    .dataframe tbody tr th:only-of-type {\n",
       "        vertical-align: middle;\n",
       "    }\n",
       "\n",
       "    .dataframe tbody tr th {\n",
       "        vertical-align: top;\n",
       "    }\n",
       "\n",
       "    .dataframe thead th {\n",
       "        text-align: right;\n",
       "    }\n",
       "</style>\n",
       "<table border=\"1\" class=\"dataframe\">\n",
       "  <thead>\n",
       "    <tr style=\"text-align: right;\">\n",
       "      <th></th>\n",
       "      <th>mean</th>\n",
       "      <th>sd</th>\n",
       "      <th>hdi_5.5%</th>\n",
       "      <th>hdi_94.5%</th>\n",
       "    </tr>\n",
       "  </thead>\n",
       "  <tbody>\n",
       "    <tr>\n",
       "      <th>a</th>\n",
       "      <td>0.886</td>\n",
       "      <td>0.259</td>\n",
       "      <td>0.479</td>\n",
       "      <td>1.307</td>\n",
       "    </tr>\n",
       "    <tr>\n",
       "      <th>b_left</th>\n",
       "      <td>1.305</td>\n",
       "      <td>1.950</td>\n",
       "      <td>-1.852</td>\n",
       "      <td>4.408</td>\n",
       "    </tr>\n",
       "    <tr>\n",
       "      <th>b_right</th>\n",
       "      <td>0.705</td>\n",
       "      <td>1.949</td>\n",
       "      <td>-2.438</td>\n",
       "      <td>3.817</td>\n",
       "    </tr>\n",
       "    <tr>\n",
       "      <th>sigma</th>\n",
       "      <td>0.567</td>\n",
       "      <td>0.040</td>\n",
       "      <td>0.503</td>\n",
       "      <td>0.630</td>\n",
       "    </tr>\n",
       "  </tbody>\n",
       "</table>\n",
       "</div>"
      ],
      "text/plain": [
       "          mean     sd  hdi_5.5%  hdi_94.5%\n",
       "a        0.886  0.259     0.479      1.307\n",
       "b_left   1.305  1.950    -1.852      4.408\n",
       "b_right  0.705  1.949    -2.438      3.817\n",
       "sigma    0.567  0.040     0.503      0.630"
      ]
     },
     "execution_count": 34,
     "metadata": {},
     "output_type": "execute_result"
    }
   ],
   "source": [
    "az.summary(idata, kind=\"stats\",hdi_prob=0.89)"
   ]
  },
  {
   "cell_type": "code",
   "execution_count": 35,
   "id": "94c5cf93",
   "metadata": {},
   "outputs": [
    {
     "data": {
      "text/plain": [
       "<matplotlib.lines.Line2D at 0x1fd20395790>"
      ]
     },
     "execution_count": 35,
     "metadata": {},
     "output_type": "execute_result"
    },
    {
     "data": {
      "image/png": "[encoded data removed]",
      "text/plain": [
       "<Figure size 432x453.6 with 1 Axes>"
      ]
     },
     "metadata": {
      "needs_background": "light"
     },
     "output_type": "display_data"
    }
   ],
   "source": [
    "az.plot_forest(\n",
    "    idata,\n",
    "    var_names=[\"a\",\"b_left\",\"b_right\"],\n",
    ")\n",
    "plt.axvline(0)"
   ]
  },
  {
   "cell_type": "code",
   "execution_count": 9,
   "id": "6dc1c855",
   "metadata": {},
   "outputs": [
    {
     "data": {
      "text/html": [
       "<div>\n",
       "<style scoped>\n",
       "    .dataframe tbody tr th:only-of-type {\n",
       "        vertical-align: middle;\n",
       "    }\n",
       "\n",
       "    .dataframe tbody tr th {\n",
       "        vertical-align: top;\n",
       "    }\n",
       "\n",
       "    .dataframe thead th {\n",
       "        text-align: right;\n",
       "    }\n",
       "</style>\n",
       "<table border=\"1\" class=\"dataframe\">\n",
       "  <thead>\n",
       "    <tr style=\"text-align: right;\">\n",
       "      <th></th>\n",
       "      <th>mean</th>\n",
       "      <th>sd</th>\n",
       "      <th>hdi_3%</th>\n",
       "      <th>hdi_97%</th>\n",
       "    </tr>\n",
       "  </thead>\n",
       "  <tbody>\n",
       "    <tr>\n",
       "      <th>h0</th>\n",
       "      <td>10.21</td>\n",
       "      <td>1.97</td>\n",
       "      <td>6.90</td>\n",
       "      <td>13.91</td>\n",
       "    </tr>\n",
       "    <tr>\n",
       "      <th>h1</th>\n",
       "      <td>14.37</td>\n",
       "      <td>2.59</td>\n",
       "      <td>9.54</td>\n",
       "      <td>18.44</td>\n",
       "    </tr>\n",
       "    <tr>\n",
       "      <th>treatment</th>\n",
       "      <td>0.50</td>\n",
       "      <td>0.50</td>\n",
       "      <td>0.00</td>\n",
       "      <td>1.00</td>\n",
       "    </tr>\n",
       "    <tr>\n",
       "      <th>fungus</th>\n",
       "      <td>0.28</td>\n",
       "      <td>0.45</td>\n",
       "      <td>0.00</td>\n",
       "      <td>1.00</td>\n",
       "    </tr>\n",
       "  </tbody>\n",
       "</table>\n",
       "</div>"
      ],
      "text/plain": [
       "            mean    sd  hdi_3%  hdi_97%\n",
       "h0         10.21  1.97    6.90    13.91\n",
       "h1         14.37  2.59    9.54    18.44\n",
       "treatment   0.50  0.50    0.00     1.00\n",
       "fungus      0.28  0.45    0.00     1.00"
      ]
     },
     "execution_count": 9,
     "metadata": {},
     "output_type": "execute_result"
    }
   ],
   "source": [
    "# number of plants\n",
    "N = 100\n",
    "# simulate initial heights\n",
    "h0 = np.random.normal(10, 2, N)\n",
    "# assign treatments and simulate fungus and growth\n",
    "treatment = np.repeat([0, 1], N / 2)\n",
    "fungus = np.random.binomial(n=1, p=0.5 - treatment * 0.4, size=N)\n",
    "h1 = h0 + np.random.normal(5 - 3 * fungus, size=N)\n",
    "# compose a clean data frame\n",
    "d = pd.DataFrame.from_dict({\"h0\": h0, \"h1\": h1, \"treatment\": treatment, \"fungus\": fungus})\n",
    "\n",
    "az.summary(d.to_dict(orient=\"list\"), kind=\"stats\", round_to=2)"
   ]
  },
  {
   "cell_type": "code",
   "execution_count": 12,
   "id": "1bbd300c",
   "metadata": {},
   "outputs": [
    {
     "data": {
      "text/plain": [
       "array([0, 0, 0, 0, 0, 0, 0, 0, 0, 0, 0, 0, 0, 0, 0, 0, 0, 0, 0, 0, 0, 0,\n",
       "       0, 0, 0, 0, 0, 0, 0, 0, 0, 0, 0, 0, 0, 0, 0, 0, 0, 0, 0, 0, 0, 0,\n",
       "       0, 0, 0, 0, 0, 0, 1, 1, 1, 1, 1, 1, 1, 1, 1, 1, 1, 1, 1, 1, 1, 1,\n",
       "       1, 1, 1, 1, 1, 1, 1, 1, 1, 1, 1, 1, 1, 1, 1, 1, 1, 1, 1, 1, 1, 1,\n",
       "       1, 1, 1, 1, 1, 1, 1, 1, 1, 1, 1, 1])"
      ]
     },
     "execution_count": 12,
     "metadata": {},
     "output_type": "execute_result"
    }
   ],
   "source": [
    "treatment\n"
   ]
  },
  {
   "cell_type": "code",
   "execution_count": 43,
   "id": "c13e7f01",
   "metadata": {},
   "outputs": [
    {
     "data": {
      "text/html": [
       "\n",
       "<style>\n",
       "    /* Turns off some styling */\n",
       "    progress {\n",
       "        /* gets rid of default border in Firefox and Opera. */\n",
       "        border: none;\n",
       "        /* Needs to be in here for Safari polyfill so background images work as expected. */\n",
       "        background-size: auto;\n",
       "    }\n",
       "    .progress-bar-interrupted, .progress-bar-interrupted::-webkit-progress-bar {\n",
       "        background: #F44336;\n",
       "    }\n",
       "</style>\n"
      ],
      "text/plain": [
       "<IPython.core.display.HTML object>"
      ]
     },
     "metadata": {},
     "output_type": "display_data"
    },
    {
     "data": {
      "text/html": [
       "\n",
       "    <div>\n",
       "      <progress value='16' class='' max='16' style='width:300px; height:20px; vertical-align: middle;'></progress>\n",
       "      100.00% [16/16 00:00<00:00 logp = -202.46, ||grad|| = 14.579]\n",
       "    </div>\n",
       "    "
      ],
      "text/plain": [
       "<IPython.core.display.HTML object>"
      ]
     },
     "metadata": {},
     "output_type": "display_data"
    },
    {
     "name": "stdout",
     "output_type": "stream",
     "text": [
      "\n"
     ]
    }
   ],
   "source": [
    "with pm.Model() as m6_6:\n",
    "    p = pm.Lognormal(\"p\", 0, 0.25)\n",
    "    sigma = pm.Exponential(\"sigma\", 1)\n",
    "    \n",
    "    mu = h0*p\n",
    "    h1 = pm.Normal(\"height\", mu=mu, sigma=sigma, observed=d.h1)\n",
    "\n",
    "    idata,dist = quap(vars=[p,sigma],n_samples=10_000)\n",
    "    samples = az.InferenceData.to_dataframe(idata)"
   ]
  },
  {
   "cell_type": "code",
   "execution_count": 46,
   "id": "f16e74ae",
   "metadata": {},
   "outputs": [
    {
     "data": {
      "text/html": [
       "<div>\n",
       "<style scoped>\n",
       "    .dataframe tbody tr th:only-of-type {\n",
       "        vertical-align: middle;\n",
       "    }\n",
       "\n",
       "    .dataframe tbody tr th {\n",
       "        vertical-align: top;\n",
       "    }\n",
       "\n",
       "    .dataframe thead th {\n",
       "        text-align: right;\n",
       "    }\n",
       "</style>\n",
       "<table border=\"1\" class=\"dataframe\">\n",
       "  <thead>\n",
       "    <tr style=\"text-align: right;\">\n",
       "      <th></th>\n",
       "      <th>mean</th>\n",
       "      <th>sd</th>\n",
       "      <th>hdi_5.5%</th>\n",
       "      <th>hdi_94.5%</th>\n",
       "    </tr>\n",
       "  </thead>\n",
       "  <tbody>\n",
       "    <tr>\n",
       "      <th>p</th>\n",
       "      <td>1.41</td>\n",
       "      <td>0.02</td>\n",
       "      <td>1.39</td>\n",
       "      <td>1.44</td>\n",
       "    </tr>\n",
       "    <tr>\n",
       "      <th>sigma</th>\n",
       "      <td>1.77</td>\n",
       "      <td>0.12</td>\n",
       "      <td>1.57</td>\n",
       "      <td>1.97</td>\n",
       "    </tr>\n",
       "  </tbody>\n",
       "</table>\n",
       "</div>"
      ],
      "text/plain": [
       "       mean    sd  hdi_5.5%  hdi_94.5%\n",
       "p      1.41  0.02      1.39       1.44\n",
       "sigma  1.77  0.12      1.57       1.97"
      ]
     },
     "execution_count": 46,
     "metadata": {},
     "output_type": "execute_result"
    }
   ],
   "source": [
    "az.summary(idata, round_to=2, kind='stats', hdi_prob=0.89)"
   ]
  },
  {
   "cell_type": "code",
   "execution_count": 49,
   "id": "24770eb0",
   "metadata": {},
   "outputs": [
    {
     "data": {
      "text/html": [
       "\n",
       "<style>\n",
       "    /* Turns off some styling */\n",
       "    progress {\n",
       "        /* gets rid of default border in Firefox and Opera. */\n",
       "        border: none;\n",
       "        /* Needs to be in here for Safari polyfill so background images work as expected. */\n",
       "        background-size: auto;\n",
       "    }\n",
       "    .progress-bar-interrupted, .progress-bar-interrupted::-webkit-progress-bar {\n",
       "        background: #F44336;\n",
       "    }\n",
       "</style>\n"
      ],
      "text/plain": [
       "<IPython.core.display.HTML object>"
      ]
     },
     "metadata": {},
     "output_type": "display_data"
    },
    {
     "data": {
      "text/html": [
       "\n",
       "    <div>\n",
       "      <progress value='20' class='' max='20' style='width:300px; height:20px; vertical-align: middle;'></progress>\n",
       "      100.00% [20/20 00:00<00:00 logp = -211.2, ||grad|| = 52.195]\n",
       "    </div>\n",
       "    "
      ],
      "text/plain": [
       "<IPython.core.display.HTML object>"
      ]
     },
     "metadata": {},
     "output_type": "display_data"
    },
    {
     "name": "stdout",
     "output_type": "stream",
     "text": [
      "\n"
     ]
    },
    {
     "data": {
      "text/html": [
       "<div>\n",
       "<style scoped>\n",
       "    .dataframe tbody tr th:only-of-type {\n",
       "        vertical-align: middle;\n",
       "    }\n",
       "\n",
       "    .dataframe tbody tr th {\n",
       "        vertical-align: top;\n",
       "    }\n",
       "\n",
       "    .dataframe thead th {\n",
       "        text-align: right;\n",
       "    }\n",
       "</style>\n",
       "<table border=\"1\" class=\"dataframe\">\n",
       "  <thead>\n",
       "    <tr style=\"text-align: right;\">\n",
       "      <th></th>\n",
       "      <th>mean</th>\n",
       "      <th>sd</th>\n",
       "      <th>hdi_3%</th>\n",
       "      <th>hdi_97%</th>\n",
       "    </tr>\n",
       "  </thead>\n",
       "  <tbody>\n",
       "    <tr>\n",
       "      <th>a</th>\n",
       "      <td>1.45</td>\n",
       "      <td>0.03</td>\n",
       "      <td>1.39</td>\n",
       "      <td>1.51</td>\n",
       "    </tr>\n",
       "    <tr>\n",
       "      <th>b1</th>\n",
       "      <td>0.03</td>\n",
       "      <td>0.04</td>\n",
       "      <td>-0.03</td>\n",
       "      <td>0.10</td>\n",
       "    </tr>\n",
       "    <tr>\n",
       "      <th>b2</th>\n",
       "      <td>-0.21</td>\n",
       "      <td>0.04</td>\n",
       "      <td>-0.28</td>\n",
       "      <td>-0.13</td>\n",
       "    </tr>\n",
       "    <tr>\n",
       "      <th>sigma</th>\n",
       "      <td>1.41</td>\n",
       "      <td>0.10</td>\n",
       "      <td>1.22</td>\n",
       "      <td>1.59</td>\n",
       "    </tr>\n",
       "  </tbody>\n",
       "</table>\n",
       "</div>"
      ],
      "text/plain": [
       "       mean    sd  hdi_3%  hdi_97%\n",
       "a      1.45  0.03    1.39     1.51\n",
       "b1     0.03  0.04   -0.03     0.10\n",
       "b2    -0.21  0.04   -0.28    -0.13\n",
       "sigma  1.41  0.10    1.22     1.59"
      ]
     },
     "execution_count": 49,
     "metadata": {},
     "output_type": "execute_result"
    }
   ],
   "source": [
    "with pm.Model() as m_6_7:\n",
    "    a = pm.Normal(\"a\", 0, 0.2)\n",
    "    b1 = pm.Normal(\"b1\", 0, 0.5)\n",
    "    b2 = pm.Normal(\"b2\", 0, 0.5)\n",
    "    sigma = pm.Exponential(\"sigma\", 1)\n",
    "    \n",
    "    p = a + b1 * d.treatment + b2 * d.fungus\n",
    "    mu = p * d.h0\n",
    "    h1 = pm.Normal(\"h1\", mu=mu, sigma=sigma, observed=d.h1)\n",
    "\n",
    "    idata,dist = quap(vars=[a,b1,b2,sigma],n_samples=10_000)\n",
    "    samples = az.InferenceData.to_dataframe(idata)\n",
    "\n",
    "az.summary(idata, kind=\"stats\",round_to=2)"
   ]
  },
  {
   "cell_type": "code",
   "execution_count": 50,
   "id": "ef7ca023",
   "metadata": {},
   "outputs": [
    {
     "data": {
      "text/plain": [
       "<matplotlib.lines.Line2D at 0x1fd2c723ca0>"
      ]
     },
     "execution_count": 50,
     "metadata": {},
     "output_type": "execute_result"
    },
    {
     "data": {
      "image/png": "[encoded data removed]",
      "text/plain": [
       "<Figure size 432x453.6 with 1 Axes>"
      ]
     },
     "metadata": {
      "needs_background": "light"
     },
     "output_type": "display_data"
    }
   ],
   "source": [
    "az.plot_forest(\n",
    "    idata,\n",
    "    var_names=[\"a\",\"b1\",\"b2\"],\n",
    ")\n",
    "plt.axvline(0)"
   ]
  }
 ],
 "metadata": {
  "kernelspec": {
   "display_name": "Python 3 (ipykernel)",
   "language": "python",
   "name": "python3"
  },
  "language_info": {
   "codemirror_mode": {
    "name": "ipython",
    "version": 3
   },
   "file_extension": ".py",
   "mimetype": "text/x-python",
   "name": "python",
   "nbconvert_exporter": "python",
   "pygments_lexer": "ipython3",
   "version": "3.9.7"
  }
 },
 "nbformat": 4,
 "nbformat_minor": 5
}
