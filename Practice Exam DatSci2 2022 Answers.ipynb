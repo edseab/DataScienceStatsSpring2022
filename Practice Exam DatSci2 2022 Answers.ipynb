{
 "cells": [
  {
   "cell_type": "code",
   "execution_count": 83,
   "id": "72388024",
   "metadata": {},
   "outputs": [],
   "source": [
    "##### import warnings\n",
    "\n",
    "import arviz as az\n",
    "import matplotlib.pyplot as plt\n",
    "import numpy as np\n",
    "import pandas as pd\n",
    "import pymc3 as pm\n",
    "import theano.tensor as tt\n",
    "\n",
    "from scipy import stats\n",
    "from scipy.special import expit as logistic\n",
    "from math import exp\n",
    "from scipy.special import softmax\n",
    "from quap import quap\n",
    "\n",
    "\n",
    "RANDOM_SEED = 1448\n",
    "np.random.seed(RANDOM_SEED)"
   ]
  },
  {
   "cell_type": "markdown",
   "id": "fd7c93b7",
   "metadata": {},
   "source": [
    "Part 1. Theory\n",
    "\n",
    "A company asks you to analyse some of their advertising and sales data to help them make marketing decisions. This company advertises their product in ads on Youtube videos. They would like to know whether longer running ads are more effective at getting people to click on their website relative to shorter ads. \n",
    "\n",
    "The dataset they send you has the following variables:\n",
    "\n",
    "    click (yes/no): a variable indicating whether or not an individual has clicked on the ad.\n",
    "\n",
    "    length (5 seconds – 1:30): a variable indicating the length of the advertisment video\n",
    "\n",
    "    genre (kids, gaming, tech, building): a variable indicating which of 4 genres of Youtube video the advertisement was placed on\n",
    "\n",
    "    user_ID: Many users viewed several different ads. This variable is a unique identifier for each user.\n",
    "\n",
    "    budget (10_000 - 2_000_000): the budget per minute of the ad\n",
    "\n",
    "    dark_theme: This variable indicates whether the user has their youtube set to Dark theme or Light theme.\n",
    "\n",
    "\n",
    "\n"
   ]
  },
  {
   "cell_type": "markdown",
   "id": "73902f09",
   "metadata": {},
   "source": [
    "###### What should your outcome variable be for this analysis?\n"
   ]
  },
  {
   "cell_type": "markdown",
   "id": "22e7be0f",
   "metadata": {},
   "source": [
    "The outcome variable should be the \"click\" variable because we want to know whether the probability of clicking on an ad depends on the length of the ad."
   ]
  },
  {
   "cell_type": "markdown",
   "id": "a69e0b72",
   "metadata": {},
   "source": [
    "###### What family of model should you choose for this analysis, or in other words: what likelihood distribution should you assume for your outcome data, conditional on the independent variables?"
   ]
  },
  {
   "cell_type": "markdown",
   "id": "156882bd",
   "metadata": {},
   "source": [
    "The outcome variable is binary (0/1) so we should model it with a Binomial likelihood distribution with N=1"
   ]
  },
  {
   "cell_type": "markdown",
   "id": "6bff9d39",
   "metadata": {},
   "source": [
    "###### Does this model need a link function? Which? Why?"
   ]
  },
  {
   "cell_type": "markdown",
   "id": "713ea19d",
   "metadata": {},
   "source": [
    "Yes, this model needs a logit link. We are modeling parameter p which is a probability and must therefore be between 0 and 1. The logit link can transform the linear component into a curve which is constrained between 0 and 1.\n",
    "\n",
    "###### For the exam remember to also study the Poisson distribution and its associated link function (the log link)."
   ]
  },
  {
   "cell_type": "markdown",
   "id": "05a4ecce",
   "metadata": {},
   "source": [
    "###### What is the main predictor variable of interest? Is it a continuous or categorical variable? "
   ]
  },
  {
   "cell_type": "markdown",
   "id": "be4136be",
   "metadata": {},
   "source": [
    "The main predictor variable is the length of the ad. It is a continuous variable."
   ]
  },
  {
   "cell_type": "markdown",
   "id": "3ecb91e1",
   "metadata": {},
   "source": [
    "###### Is there any reason to believe the relationship between this variable and the main (link-transformed) parameter will not be linear? If so, how might you model this non-linear relationship?"
   ]
  },
  {
   "cell_type": "markdown",
   "id": "26a7fe67",
   "metadata": {},
   "source": [
    "Yes, the effect of increasing ad length may have diminishing returns. There may also be an optimal ad length which is neither the longest or the shortest. to test this hypothesis I can include ad length squared as a predictor variable."
   ]
  },
  {
   "cell_type": "markdown",
   "id": "86f06990",
   "metadata": {},
   "source": [
    "###### For each of the other variables in the dataset, please state: \n",
    "\n",
    "a)\tare they categorical or continuous? \n",
    "\n",
    "b)\tCould omitting them bias your estimate, and why?\n",
    "\n",
    "c)\tIf they are categorical, should they be modeled using fixed or random effects? Explain why.\n",
    "\n",
    "Name a possible interaction effect between the main predictor variable and one of the other independent variables that could be interesting to model."
   ]
  },
  {
   "cell_type": "markdown",
   "id": "e1fc3d9f",
   "metadata": {},
   "source": [
    "genre: \n",
    "\n",
    "a)categorical variable. \n",
    "\n",
    "b) Yes, omitting this variable could bias the estimate, because the effect of longer or shorter ads could depend on the audience: if children have shorter attention spans, for instance, it may be more effective to have shorter ads on children's videos. If we ommit genre, we may not be able to see these effects.\n",
    "\n",
    "c) This should be modeled as a fixed effect, because they are the only 4 genres that this company advertises on and are not drawn from a larger population of genres that the company could have selected"
   ]
  },
  {
   "cell_type": "markdown",
   "id": "cd7b3ba9",
   "metadata": {},
   "source": [
    "user_ID:\n",
    "\n",
    "a)categorical variable. \n",
    "\n",
    "b) Yes, omitting this variable could bias the estimate, because data points from the same user are not independent from each other.\n",
    "\n",
    "c) This should be modeled as a random effect, users can be thought of as randomly drawn from a larger population of potential users which we can model.\n",
    "    \n",
    "    "
   ]
  },
  {
   "cell_type": "markdown",
   "id": "6dcbe895",
   "metadata": {},
   "source": [
    "budget: \n",
    "\n",
    "a) continuous variable. \n",
    "\n",
    "b) Yes, omitting this variable could bias the estimate, because the company may have systematically spent more money on longer or shorter videos until now. We want to make sure we are measuring only the effect of ad length, and not the effect of the budget differences.\n",
    "\n",
    "c) Not applicable since it is a continuous variable"
   ]
  },
  {
   "cell_type": "markdown",
   "id": "c278ca78",
   "metadata": {},
   "source": [
    "  dark_theme:\n",
    "\n",
    "a) categorical (binary) variable. \n",
    "\n",
    "b) No, this variable is irrelevant to our analysis because the theme preferences of the user is not important to their ad-clicking.\n",
    "\n",
    "c) Not applicable (would be fixed effect if we included it)\n",
    "    "
   ]
  },
  {
   "cell_type": "markdown",
   "id": "52a0e8cc",
   "metadata": {},
   "source": [
    "##### Write the model definition for the model you have just proposed, leaving out the priors for the parameters (i.e. write just the likelihood line, the linear component, and any hyper-priors for random effects)."
   ]
  },
  {
   "cell_type": "markdown",
   "id": "1543adf8",
   "metadata": {},
   "source": [
    "\tclick ~ Binomial (1,p)\n",
    "    \n",
    "\tlogit(p) = a[user_ID] + b1[genre] + b2*length + b3*budget\n",
    "    \n",
    "\ta[user_ID] ~ Normal(alpha,sigma)"
   ]
  },
  {
   "cell_type": "markdown",
   "id": "94fe6c74",
   "metadata": {},
   "source": [
    "\n",
    "##### Part 2. Simulation\n",
    "\n",
    "\n",
    "Simulate a dataset of 192 observations of 3 variables: 2 independent variables X1 and X2, and 1 dependent variable Y.\n"
   ]
  },
  {
   "cell_type": "code",
   "execution_count": 84,
   "id": "94a8c01e",
   "metadata": {},
   "outputs": [],
   "source": [
    "N = 192"
   ]
  },
  {
   "cell_type": "markdown",
   "id": "73ad1e0d",
   "metadata": {},
   "source": [
    "X1 is normally distributed, with mean 0 and standard deviation 1.\n"
   ]
  },
  {
   "cell_type": "code",
   "execution_count": 85,
   "id": "88b493be",
   "metadata": {},
   "outputs": [],
   "source": [
    "x1 = np.random.normal(0, 1, N)"
   ]
  },
  {
   "cell_type": "markdown",
   "id": "8c96d1f9",
   "metadata": {},
   "source": [
    "X2 is log-normally distributed, with mu =  0 and sigma = 1"
   ]
  },
  {
   "cell_type": "code",
   "execution_count": 86,
   "id": "17252c90",
   "metadata": {},
   "outputs": [],
   "source": [
    "x2 = np.random.lognormal(0, 1, N)"
   ]
  },
  {
   "cell_type": "markdown",
   "id": "9e6e4e0e",
   "metadata": {},
   "source": [
    "Y is a distributed normally around a mean mu = -1 -0.002*X1 + 0.57*X2. The residual standard error of Y conditional on X1 and X2 is 2."
   ]
  },
  {
   "cell_type": "code",
   "execution_count": 87,
   "id": "13977bb2",
   "metadata": {},
   "outputs": [],
   "source": [
    "y = np.random.normal(-1-0.002*x1 + 0.57*x2, 2)"
   ]
  },
  {
   "cell_type": "markdown",
   "id": "a73b5b66",
   "metadata": {},
   "source": [
    "Run a linear regression using Quap and attempt to recover the simulated parameters. "
   ]
  },
  {
   "cell_type": "code",
   "execution_count": 88,
   "id": "da92e835",
   "metadata": {},
   "outputs": [
    {
     "data": {
      "text/html": [
       "\n",
       "<style>\n",
       "    /* Turns off some styling */\n",
       "    progress {\n",
       "        /* gets rid of default border in Firefox and Opera. */\n",
       "        border: none;\n",
       "        /* Needs to be in here for Safari polyfill so background images work as expected. */\n",
       "        background-size: auto;\n",
       "    }\n",
       "    .progress-bar-interrupted, .progress-bar-interrupted::-webkit-progress-bar {\n",
       "        background: #F44336;\n",
       "    }\n",
       "</style>\n"
      ],
      "text/plain": [
       "<IPython.core.display.HTML object>"
      ]
     },
     "metadata": {},
     "output_type": "display_data"
    },
    {
     "data": {
      "text/html": [
       "\n",
       "    <div>\n",
       "      <progress value='13' class='' max='13' style='width:300px; height:20px; vertical-align: middle;'></progress>\n",
       "      100.00% [13/13 00:00<00:00 logp = -407.54, ||grad|| = 0.026985]\n",
       "    </div>\n",
       "    "
      ],
      "text/plain": [
       "<IPython.core.display.HTML object>"
      ]
     },
     "metadata": {},
     "output_type": "display_data"
    },
    {
     "name": "stdout",
     "output_type": "stream",
     "text": [
      "\n"
     ]
    }
   ],
   "source": [
    "with pm.Model() as model_part2:\n",
    "    a = pm.Normal(\"a\",0,5)\n",
    "    b1 = pm.Normal(\"b1\",0,1)\n",
    "    b2 = pm.Normal(\"b2\",0,1)\n",
    "    sigma = pm.Exponential(\"sigma\",1)\n",
    "    mu = a + b1*x1 + b2*x2\n",
    "    \n",
    "    y_hat = pm.Normal(\"y_hat\",mu,sigma, observed = y)\n",
    "    \n",
    "    idata, dist = quap(vars=[a,b1,b2,sigma],n_samples=10_000)\n",
    "    samples = az.InferenceData.to_dataframe(idata)\n",
    "    "
   ]
  },
  {
   "cell_type": "code",
   "execution_count": 89,
   "id": "86274de7",
   "metadata": {},
   "outputs": [
    {
     "data": {
      "text/html": [
       "<div>\n",
       "<style scoped>\n",
       "    .dataframe tbody tr th:only-of-type {\n",
       "        vertical-align: middle;\n",
       "    }\n",
       "\n",
       "    .dataframe tbody tr th {\n",
       "        vertical-align: top;\n",
       "    }\n",
       "\n",
       "    .dataframe thead th {\n",
       "        text-align: right;\n",
       "    }\n",
       "</style>\n",
       "<table border=\"1\" class=\"dataframe\">\n",
       "  <thead>\n",
       "    <tr style=\"text-align: right;\">\n",
       "      <th></th>\n",
       "      <th>mean</th>\n",
       "      <th>sd</th>\n",
       "      <th>hdi_5.5%</th>\n",
       "      <th>hdi_94.5%</th>\n",
       "    </tr>\n",
       "  </thead>\n",
       "  <tbody>\n",
       "    <tr>\n",
       "      <th>a</th>\n",
       "      <td>-0.864</td>\n",
       "      <td>0.180</td>\n",
       "      <td>-1.145</td>\n",
       "      <td>-0.572</td>\n",
       "    </tr>\n",
       "    <tr>\n",
       "      <th>b1</th>\n",
       "      <td>0.085</td>\n",
       "      <td>0.147</td>\n",
       "      <td>-0.155</td>\n",
       "      <td>0.310</td>\n",
       "    </tr>\n",
       "    <tr>\n",
       "      <th>b2</th>\n",
       "      <td>0.606</td>\n",
       "      <td>0.077</td>\n",
       "      <td>0.480</td>\n",
       "      <td>0.725</td>\n",
       "    </tr>\n",
       "    <tr>\n",
       "      <th>sigma</th>\n",
       "      <td>1.945</td>\n",
       "      <td>0.100</td>\n",
       "      <td>1.792</td>\n",
       "      <td>2.108</td>\n",
       "    </tr>\n",
       "  </tbody>\n",
       "</table>\n",
       "</div>"
      ],
      "text/plain": [
       "        mean     sd  hdi_5.5%  hdi_94.5%\n",
       "a     -0.864  0.180    -1.145     -0.572\n",
       "b1     0.085  0.147    -0.155      0.310\n",
       "b2     0.606  0.077     0.480      0.725\n",
       "sigma  1.945  0.100     1.792      2.108"
      ]
     },
     "execution_count": 89,
     "metadata": {},
     "output_type": "execute_result"
    }
   ],
   "source": [
    "az.summary(idata, kind=\"stats\",hdi_prob=0.89)"
   ]
  },
  {
   "cell_type": "markdown",
   "id": "fdb832f9",
   "metadata": {},
   "source": [
    "Next, plot the predicted effect of x2 on Y, holding x1 at 0. Plot a 95% highest density interval around the predicted mean and a 95% prediction interval for the data."
   ]
  },
  {
   "cell_type": "code",
   "execution_count": 93,
   "id": "c74a9833",
   "metadata": {},
   "outputs": [
    {
     "data": {
      "image/png": "[encoded data removed]",
      "text/plain": [
       "<Figure size 432x288 with 1 Axes>"
      ]
     },
     "metadata": {
      "needs_background": "light"
     },
     "output_type": "display_data"
    }
   ],
   "source": [
    "x2_seq = np.arange(x2.min(), x2.max(), step=0.1)\n",
    "\n",
    "mu_pred = np.zeros((len(x2_seq), len(samples)))\n",
    "y_pred = np.zeros((len(x2_seq), len(samples)))\n",
    "\n",
    "# We set traffic mortality at some counterfactual value, e.g the mean\n",
    "\n",
    "for i, w in enumerate(x2_seq):\n",
    "    mu_pred[i] = samples[\"a\"] + samples[\"b1\"] * 0 + samples[\"b2\"] *w\n",
    "    y_pred[i] = np.random.normal(mu_pred[i], samples[\"sigma\"])\n",
    "\n",
    "plt.scatter(x2, y)\n",
    "plt.plot(x2_seq, mu_pred.mean(1), \"k\")\n",
    "plt.fill_between(x2_seq, np.quantile(mu_pred,0.055,axis=1), np.quantile(mu_pred,0.945,axis=1), alpha=0.7)\n",
    "plt.fill_between(x2_seq, np.quantile(y_pred,0.055,axis=1), np.quantile(y_pred,0.945,axis=1), alpha=0.2,color='red')\n",
    "plt.xlabel(\"x2\")\n",
    "plt.ylabel(\"y\")\n",
    "plt.show()"
   ]
  },
  {
   "cell_type": "markdown",
   "id": "b801d3fd",
   "metadata": {},
   "source": [
    "### Part 3. Data\n",
    "\n",
    "\n",
    "The chimpanzees.csv dataset is drawn from experiments designed to test whether chimpanzees choose to help out random other chimps at no cost to themselves. (See chapter 11/12 and lectures for week 10 and 11 for description of experiment. In the main exam you will have a more detailed description of the dataset)."
   ]
  },
  {
   "cell_type": "code",
   "execution_count": 2,
   "id": "7287dcd6",
   "metadata": {},
   "outputs": [
    {
     "data": {
      "text/html": [
       "<div>\n",
       "<style scoped>\n",
       "    .dataframe tbody tr th:only-of-type {\n",
       "        vertical-align: middle;\n",
       "    }\n",
       "\n",
       "    .dataframe tbody tr th {\n",
       "        vertical-align: top;\n",
       "    }\n",
       "\n",
       "    .dataframe thead th {\n",
       "        text-align: right;\n",
       "    }\n",
       "</style>\n",
       "<table border=\"1\" class=\"dataframe\">\n",
       "  <thead>\n",
       "    <tr style=\"text-align: right;\">\n",
       "      <th></th>\n",
       "      <th>actor</th>\n",
       "      <th>recipient</th>\n",
       "      <th>condition</th>\n",
       "      <th>block</th>\n",
       "      <th>trial</th>\n",
       "      <th>prosoc_left</th>\n",
       "      <th>chose_prosoc</th>\n",
       "      <th>pulled_left</th>\n",
       "    </tr>\n",
       "  </thead>\n",
       "  <tbody>\n",
       "    <tr>\n",
       "      <th>0</th>\n",
       "      <td>1</td>\n",
       "      <td>NaN</td>\n",
       "      <td>0</td>\n",
       "      <td>1</td>\n",
       "      <td>2</td>\n",
       "      <td>0</td>\n",
       "      <td>1</td>\n",
       "      <td>0</td>\n",
       "    </tr>\n",
       "    <tr>\n",
       "      <th>1</th>\n",
       "      <td>1</td>\n",
       "      <td>NaN</td>\n",
       "      <td>0</td>\n",
       "      <td>1</td>\n",
       "      <td>4</td>\n",
       "      <td>0</td>\n",
       "      <td>0</td>\n",
       "      <td>1</td>\n",
       "    </tr>\n",
       "    <tr>\n",
       "      <th>2</th>\n",
       "      <td>1</td>\n",
       "      <td>NaN</td>\n",
       "      <td>0</td>\n",
       "      <td>1</td>\n",
       "      <td>6</td>\n",
       "      <td>1</td>\n",
       "      <td>0</td>\n",
       "      <td>0</td>\n",
       "    </tr>\n",
       "    <tr>\n",
       "      <th>3</th>\n",
       "      <td>1</td>\n",
       "      <td>NaN</td>\n",
       "      <td>0</td>\n",
       "      <td>1</td>\n",
       "      <td>8</td>\n",
       "      <td>0</td>\n",
       "      <td>1</td>\n",
       "      <td>0</td>\n",
       "    </tr>\n",
       "    <tr>\n",
       "      <th>4</th>\n",
       "      <td>1</td>\n",
       "      <td>NaN</td>\n",
       "      <td>0</td>\n",
       "      <td>1</td>\n",
       "      <td>10</td>\n",
       "      <td>1</td>\n",
       "      <td>1</td>\n",
       "      <td>1</td>\n",
       "    </tr>\n",
       "  </tbody>\n",
       "</table>\n",
       "</div>"
      ],
      "text/plain": [
       "   actor  recipient  condition  block  trial  prosoc_left  chose_prosoc  \\\n",
       "0      1        NaN          0      1      2            0             1   \n",
       "1      1        NaN          0      1      4            0             0   \n",
       "2      1        NaN          0      1      6            1             0   \n",
       "3      1        NaN          0      1      8            0             1   \n",
       "4      1        NaN          0      1     10            1             1   \n",
       "\n",
       "   pulled_left  \n",
       "0            0  \n",
       "1            1  \n",
       "2            0  \n",
       "3            0  \n",
       "4            1  "
      ]
     },
     "execution_count": 2,
     "metadata": {},
     "output_type": "execute_result"
    }
   ],
   "source": [
    "d = pd.read_csv(\"Data/chimpanzees.csv\")\n",
    "d.head()\n"
   ]
  },
  {
   "cell_type": "markdown",
   "id": "90b28ed9",
   "metadata": {},
   "source": [
    "Fit the following model in pymc3 using pm.sample:\n",
    "\n",
    "\tPulledLeft ~ Binomial (1,p)\n",
    "    \n",
    "\tlogit(p) = a[actor] + b1*ProsocialLeft + b2[ProsocialLeft] * OtherPresent\n",
    "    \n",
    "\ta[actor] ~ Normal (0, 1.5)\n",
    "    \n",
    "\tb1 ~ Normal (0,1)\n",
    "    \n",
    "    b2[ProsocialLeft] ~ Normal (0, 0.5)\n",
    "    \n",
    "    \n"
   ]
  },
  {
   "cell_type": "code",
   "execution_count": 3,
   "id": "fc2f150e",
   "metadata": {},
   "outputs": [
    {
     "name": "stderr",
     "output_type": "stream",
     "text": [
      "Auto-assigning NUTS sampler...\n",
      "Initializing NUTS using jitter+adapt_diag...\n",
      "Multiprocess sampling (4 chains in 4 jobs)\n",
      "NUTS: [b2, b1, a]\n"
     ]
    },
    {
     "data": {
      "text/html": [
       "\n",
       "<style>\n",
       "    /* Turns off some styling */\n",
       "    progress {\n",
       "        /* gets rid of default border in Firefox and Opera. */\n",
       "        border: none;\n",
       "        /* Needs to be in here for Safari polyfill so background images work as expected. */\n",
       "        background-size: auto;\n",
       "    }\n",
       "    .progress-bar-interrupted, .progress-bar-interrupted::-webkit-progress-bar {\n",
       "        background: #F44336;\n",
       "    }\n",
       "</style>\n"
      ],
      "text/plain": [
       "<IPython.core.display.HTML object>"
      ]
     },
     "metadata": {},
     "output_type": "display_data"
    },
    {
     "data": {
      "text/html": [
       "\n",
       "    <div>\n",
       "      <progress value='44000' class='' max='44000' style='width:300px; height:20px; vertical-align: middle;'></progress>\n",
       "      100.00% [44000/44000 02:02<00:00 Sampling 4 chains, 0 divergences]\n",
       "    </div>\n",
       "    "
      ],
      "text/plain": [
       "<IPython.core.display.HTML object>"
      ]
     },
     "metadata": {},
     "output_type": "display_data"
    },
    {
     "name": "stderr",
     "output_type": "stream",
     "text": [
      "Sampling 4 chains for 1_000 tune and 10_000 draw iterations (4_000 + 40_000 draws total) took 172 seconds.\n"
     ]
    }
   ],
   "source": [
    "with pm.Model() as chimp_model_fixed:\n",
    "    a = pm.Normal(\"a\", 0, 1.5, shape=d.actor.nunique())\n",
    "    b1 = pm.Normal(\"b1\",0,1)\n",
    "    b2 = pm.Normal(\"b2\",0,0.5, shape=2)\n",
    "    \n",
    "    p = pm.Deterministic(\"p\", pm.math.invlogit(a[d.actor-1] + b1*d.prosoc_left + b2[d.prosoc_left]*d.condition))\n",
    "    pulled_left = pm.Binomial(\"pulled_left\", 1, p, observed=d.pulled_left)\n",
    "\n",
    "    post_fix = pm.sample(random_seed=RANDOM_SEED,draws=10_000,return_inferencedata=True)\n",
    "    post_fix_dat = az.InferenceData.to_dataframe(post_fix)"
   ]
  },
  {
   "cell_type": "markdown",
   "id": "328b555f",
   "metadata": {},
   "source": [
    "Present the b1 and b2 parameters in a forest plot and interpret their meaning."
   ]
  },
  {
   "cell_type": "code",
   "execution_count": 6,
   "id": "7f18aae2",
   "metadata": {},
   "outputs": [
    {
     "data": {
      "text/plain": [
       "<matplotlib.lines.Line2D at 0x182b186ee20>"
      ]
     },
     "execution_count": 6,
     "metadata": {},
     "output_type": "execute_result"
    },
    {
     "data": {
      "image/png": "[encoded data removed]",
      "text/plain": [
       "<Figure size 432x381.6 with 1 Axes>"
      ]
     },
     "metadata": {
      "needs_background": "light"
     },
     "output_type": "display_data"
    }
   ],
   "source": [
    "az.plot_forest(post_fix, var_names=[\"b1\",\"b2\"], combined=True)\n",
    "plt.axvline(0)"
   ]
  },
  {
   "cell_type": "markdown",
   "id": "753331a4",
   "metadata": {},
   "source": [
    "Interpretation: b1 is the main effect of having the \"prosocial\" option on the left. Chimpanzees tended to select the \"prosocial\" option more often even in the absence of a partner.\n",
    "\n",
    "the b2 parameters are the effects of having a chimpanzee partner on the probability of pulling the left lever, depending on whether the prosocial option was on the right (b2[0]) or the left (b2[1]). In both cases having a partner made chimps slightly less likely to pull the left lever, but not significantly. This is consistent with chimpanzees having no \"prosocial preference\"."
   ]
  },
  {
   "cell_type": "markdown",
   "id": "c653049e",
   "metadata": {},
   "source": [
    "Next, rerun the same model but with actor as a random effect rather than a fixed effect. "
   ]
  },
  {
   "cell_type": "code",
   "execution_count": 7,
   "id": "cd019022",
   "metadata": {},
   "outputs": [
    {
     "name": "stderr",
     "output_type": "stream",
     "text": [
      "Auto-assigning NUTS sampler...\n",
      "Initializing NUTS using jitter+adapt_diag...\n",
      "Multiprocess sampling (4 chains in 4 jobs)\n",
      "NUTS: [b2, b1, a, a_sigma, a_bar]\n"
     ]
    },
    {
     "data": {
      "text/html": [
       "\n",
       "<style>\n",
       "    /* Turns off some styling */\n",
       "    progress {\n",
       "        /* gets rid of default border in Firefox and Opera. */\n",
       "        border: none;\n",
       "        /* Needs to be in here for Safari polyfill so background images work as expected. */\n",
       "        background-size: auto;\n",
       "    }\n",
       "    .progress-bar-interrupted, .progress-bar-interrupted::-webkit-progress-bar {\n",
       "        background: #F44336;\n",
       "    }\n",
       "</style>\n"
      ],
      "text/plain": [
       "<IPython.core.display.HTML object>"
      ]
     },
     "metadata": {},
     "output_type": "display_data"
    },
    {
     "data": {
      "text/html": [
       "\n",
       "    <div>\n",
       "      <progress value='44000' class='' max='44000' style='width:300px; height:20px; vertical-align: middle;'></progress>\n",
       "      100.00% [44000/44000 06:57<00:00 Sampling 4 chains, 0 divergences]\n",
       "    </div>\n",
       "    "
      ],
      "text/plain": [
       "<IPython.core.display.HTML object>"
      ]
     },
     "metadata": {},
     "output_type": "display_data"
    },
    {
     "name": "stderr",
     "output_type": "stream",
     "text": [
      "Sampling 4 chains for 1_000 tune and 10_000 draw iterations (4_000 + 40_000 draws total) took 1892 seconds.\n"
     ]
    }
   ],
   "source": [
    "with pm.Model() as chimp_model_random:\n",
    "    a_bar = pm.Normal(\"a_bar\", 0.0, 1.5)\n",
    "    a_sigma = pm.Exponential(\"a_sigma\", 1.0)\n",
    "    a = pm.Normal(\"a\", a_bar, a_sigma, shape=d.actor.nunique())\n",
    "    b1 = pm.Normal(\"b1\",0,1)\n",
    "    b2 = pm.Normal(\"b2\",0,1, shape=2)\n",
    "    \n",
    "    p = pm.Deterministic(\"p\", pm.math.invlogit(a[d.actor-1] + b1*d.prosoc_left + b2[d.prosoc_left]*d.condition))\n",
    "    pulled_left = pm.Binomial(\"pulled_left\", 1, p, observed=d.pulled_left)\n",
    "\n",
    "    post_rand = pm.sample(random_seed=RANDOM_SEED,draws=10_000,return_inferencedata=True, target_accept=0.99)\n",
    "    post_rand_dat = az.InferenceData.to_dataframe(post_fix)"
   ]
  },
  {
   "cell_type": "markdown",
   "id": "223310eb",
   "metadata": {},
   "source": [
    "Compare the fixed and random effects models using WAIC or Leave One Out cross-validation. Which is the most effective model?"
   ]
  },
  {
   "cell_type": "code",
   "execution_count": 94,
   "id": "fb2f1d5b",
   "metadata": {},
   "outputs": [
    {
     "name": "stderr",
     "output_type": "stream",
     "text": [
      "C:\\Users\\edsea\\miniconda3\\envs\\stat-rethink2\\lib\\site-packages\\arviz\\stats\\stats.py:248: FutureWarning: The frame.append method is deprecated and will be removed from pandas in a future version. Use pandas.concat instead.\n",
      "  ics = ics.append([ic_func(dataset, pointwise=True, scale=scale, var_name=var_name)])\n",
      "C:\\Users\\edsea\\miniconda3\\envs\\stat-rethink2\\lib\\site-packages\\arviz\\stats\\stats.py:248: FutureWarning: The frame.append method is deprecated and will be removed from pandas in a future version. Use pandas.concat instead.\n",
      "  ics = ics.append([ic_func(dataset, pointwise=True, scale=scale, var_name=var_name)])\n"
     ]
    },
    {
     "data": {
      "text/html": [
       "<div>\n",
       "<style scoped>\n",
       "    .dataframe tbody tr th:only-of-type {\n",
       "        vertical-align: middle;\n",
       "    }\n",
       "\n",
       "    .dataframe tbody tr th {\n",
       "        vertical-align: top;\n",
       "    }\n",
       "\n",
       "    .dataframe thead th {\n",
       "        text-align: right;\n",
       "    }\n",
       "</style>\n",
       "<table border=\"1\" class=\"dataframe\">\n",
       "  <thead>\n",
       "    <tr style=\"text-align: right;\">\n",
       "      <th></th>\n",
       "      <th>rank</th>\n",
       "      <th>loo</th>\n",
       "      <th>p_loo</th>\n",
       "      <th>d_loo</th>\n",
       "      <th>weight</th>\n",
       "      <th>se</th>\n",
       "      <th>dse</th>\n",
       "      <th>warning</th>\n",
       "      <th>loo_scale</th>\n",
       "    </tr>\n",
       "  </thead>\n",
       "  <tbody>\n",
       "    <tr>\n",
       "      <th>Fixed effects</th>\n",
       "      <td>0</td>\n",
       "      <td>531.295954</td>\n",
       "      <td>8.156153</td>\n",
       "      <td>0.000000</td>\n",
       "      <td>0.574567</td>\n",
       "      <td>19.190135</td>\n",
       "      <td>0.000000</td>\n",
       "      <td>False</td>\n",
       "      <td>deviance</td>\n",
       "    </tr>\n",
       "    <tr>\n",
       "      <th>Random effects</th>\n",
       "      <td>1</td>\n",
       "      <td>531.331021</td>\n",
       "      <td>8.813251</td>\n",
       "      <td>0.035067</td>\n",
       "      <td>0.425433</td>\n",
       "      <td>19.537503</td>\n",
       "      <td>0.953408</td>\n",
       "      <td>False</td>\n",
       "      <td>deviance</td>\n",
       "    </tr>\n",
       "  </tbody>\n",
       "</table>\n",
       "</div>"
      ],
      "text/plain": [
       "                rank         loo     p_loo     d_loo    weight         se  \\\n",
       "Fixed effects      0  531.295954  8.156153  0.000000  0.574567  19.190135   \n",
       "Random effects     1  531.331021  8.813251  0.035067  0.425433  19.537503   \n",
       "\n",
       "                     dse  warning loo_scale  \n",
       "Fixed effects   0.000000    False  deviance  \n",
       "Random effects  0.953408    False  deviance  "
      ]
     },
     "execution_count": 94,
     "metadata": {},
     "output_type": "execute_result"
    }
   ],
   "source": [
    "az.compare({\"Fixed effects\":post_fix,\n",
    "            \"Random effects\":post_rand}, scale=\"deviance\")"
   ]
  },
  {
   "cell_type": "markdown",
   "id": "71a4f477",
   "metadata": {},
   "source": [
    "Both models are almost equally effective. Leave-one-out cross validation gives a slight edge to the fixed effect model, although both could be used."
   ]
  }
 ],
 "metadata": {
  "kernelspec": {
   "display_name": "Python 3 (ipykernel)",
   "language": "python",
   "name": "python3"
  },
  "language_info": {
   "codemirror_mode": {
    "name": "ipython",
    "version": 3
   },
   "file_extension": ".py",
   "mimetype": "text/x-python",
   "name": "python",
   "nbconvert_exporter": "python",
   "pygments_lexer": "ipython3",
   "version": "3.9.7"
  }
 },
 "nbformat": 4,
 "nbformat_minor": 5
}
