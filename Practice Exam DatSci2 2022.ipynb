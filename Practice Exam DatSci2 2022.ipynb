{
 "cells": [
  {
   "cell_type": "code",
   "execution_count": 83,
   "id": "72388024",
   "metadata": {},
   "outputs": [],
   "source": [
    "##### import warnings\n",
    "\n",
    "import arviz as az\n",
    "import matplotlib.pyplot as plt\n",
    "import numpy as np\n",
    "import pandas as pd\n",
    "import pymc3 as pm\n",
    "import theano.tensor as tt\n",
    "\n",
    "from scipy import stats\n",
    "from scipy.special import expit as logistic\n",
    "from math import exp\n",
    "from scipy.special import softmax\n",
    "from quap import quap\n",
    "\n",
    "\n",
    "RANDOM_SEED = 1448\n",
    "np.random.seed(RANDOM_SEED)"
   ]
  },
  {
   "cell_type": "markdown",
   "id": "af30070c",
   "metadata": {},
   "source": [
    "### Part 1. Theory\n",
    "\n",
    "A company asks you to analyse some of their advertising and sales data to help them make marketing decisions. This company advertises their product in ads on Youtube videos. They would like to know whether longer running ads are more effective at getting people to click on their website relative to shorter ads. \n",
    "\n",
    "The dataset they send you has the following variables:\n",
    "\n",
    "    click (yes/no): a variable indicating whether or not an individual has clicked on the ad.\n",
    "\n",
    "    length (5 seconds – 1:30): a variable indicating the length of the advertisment video\n",
    "\n",
    "    genre (kids, gaming, tech, building): a variable indicating which of 4 genres of Youtube video the advertisement was placed on\n",
    "\n",
    "    user_ID: Many users viewed several different ads. This variable is a unique identifier for each user.\n",
    "\n",
    "    budget (10_000 - 2_000_000): the budget per minute of the ad\n",
    "\n",
    "    dark_theme: This variable indicates whether the user has their youtube set to Dark theme or Light theme.\n",
    "\n"
   ]
  },
  {
   "cell_type": "markdown",
   "id": "57ba046d",
   "metadata": {},
   "source": [
    "###### What should your outcome variable be for this analysis?\n"
   ]
  },
  {
   "cell_type": "markdown",
   "id": "0516b067",
   "metadata": {},
   "source": [
    "###### What family of model should you choose for this analysis, or in other words: what likelihood distribution should you assume for your outcome data, conditional on the independent variables?"
   ]
  },
  {
   "cell_type": "markdown",
   "id": "61b650af",
   "metadata": {},
   "source": [
    "###### Does this model need a link function? Which? Why?"
   ]
  },
  {
   "cell_type": "markdown",
   "id": "c10f2741",
   "metadata": {},
   "source": [
    "###### What is the main predictor variable of interest? Is it a continuous or categorical variable? "
   ]
  },
  {
   "cell_type": "markdown",
   "id": "45e42bbd",
   "metadata": {},
   "source": [
    "###### Is there any reason to believe the relationship between this variable and the main (link-transformed) parameter will not be linear? If so, how might you model this non-linear relationship?"
   ]
  },
  {
   "cell_type": "markdown",
   "id": "427ce0b5",
   "metadata": {},
   "source": [
    "###### For each of the other variables in the dataset, please state: \n",
    "\n",
    "a)\tare they categorical or continuous? \n",
    "\n",
    "b)\tCould omitting them bias your estimate, and why?\n",
    "\n",
    "c)\tIf they are categorical, should they be modeled using fixed or random effects? Explain why.\n",
    "\n",
    "Name a possible interaction effect between the main predictor variable and one of the other independent variables that could be interesting to model."
   ]
  },
  {
   "cell_type": "markdown",
   "id": "4037038d",
   "metadata": {},
   "source": [
    "##### Write the model definition for the model you have just proposed, leaving out the priors for the parameters (i.e. write just the likelihood line, the linear component, and any hyper-priors for random effects)."
   ]
  },
  {
   "cell_type": "markdown",
   "id": "6722c3db",
   "metadata": {},
   "source": [
    "### Part 2: Simulation\n",
    "\n",
    "\n",
    "Simulate a dataset of 192 observations of 3 variables: 2 independent variables X1 and X2, and 1 dependent variable Y."
   ]
  },
  {
   "cell_type": "markdown",
   "id": "eda95c22",
   "metadata": {},
   "source": [
    "X1 is normally distributed, with mean 0 and standard deviation 1.\n"
   ]
  },
  {
   "cell_type": "markdown",
   "id": "1d6241f6",
   "metadata": {},
   "source": [
    "X2 is log-normally distributed, with mu =  0 and sigma = 1"
   ]
  },
  {
   "cell_type": "markdown",
   "id": "89f00229",
   "metadata": {},
   "source": [
    "Y is a distributed normally around a mean mu = -1 -0.002*X1 + 0.57*X2. The residual standard error of Y conditional on X1 and X2 is 2."
   ]
  },
  {
   "cell_type": "markdown",
   "id": "5635123b",
   "metadata": {},
   "source": [
    "Run a linear regression using Quap and attempt to recover the simulated parameters. "
   ]
  },
  {
   "cell_type": "markdown",
   "id": "ae05a8d0",
   "metadata": {},
   "source": [
    "Next, plot the predicted effect of x2 on Y, holding x1 at 0. Plot a 95% highest density interval around the predicted mean and a 95% prediction interval for the data."
   ]
  },
  {
   "cell_type": "markdown",
   "id": "c15bd924",
   "metadata": {},
   "source": [
    "### Part 3. Data\n",
    "\n",
    "\n",
    "The chimpanzees.csv dataset is drawn from experiments designed to test whether chimpanzees choose to help out random other chimps at no cost to themselves. (See chapter 11/12 and lectures for week 10 and 11 for description of experiment. In the main exam you will have a more detailed description of the dataset)."
   ]
  },
  {
   "cell_type": "code",
   "execution_count": 2,
   "id": "7287dcd6",
   "metadata": {},
   "outputs": [
    {
     "data": {
      "text/html": [
       "<div>\n",
       "<style scoped>\n",
       "    .dataframe tbody tr th:only-of-type {\n",
       "        vertical-align: middle;\n",
       "    }\n",
       "\n",
       "    .dataframe tbody tr th {\n",
       "        vertical-align: top;\n",
       "    }\n",
       "\n",
       "    .dataframe thead th {\n",
       "        text-align: right;\n",
       "    }\n",
       "</style>\n",
       "<table border=\"1\" class=\"dataframe\">\n",
       "  <thead>\n",
       "    <tr style=\"text-align: right;\">\n",
       "      <th></th>\n",
       "      <th>actor</th>\n",
       "      <th>recipient</th>\n",
       "      <th>condition</th>\n",
       "      <th>block</th>\n",
       "      <th>trial</th>\n",
       "      <th>prosoc_left</th>\n",
       "      <th>chose_prosoc</th>\n",
       "      <th>pulled_left</th>\n",
       "    </tr>\n",
       "  </thead>\n",
       "  <tbody>\n",
       "    <tr>\n",
       "      <th>0</th>\n",
       "      <td>1</td>\n",
       "      <td>NaN</td>\n",
       "      <td>0</td>\n",
       "      <td>1</td>\n",
       "      <td>2</td>\n",
       "      <td>0</td>\n",
       "      <td>1</td>\n",
       "      <td>0</td>\n",
       "    </tr>\n",
       "    <tr>\n",
       "      <th>1</th>\n",
       "      <td>1</td>\n",
       "      <td>NaN</td>\n",
       "      <td>0</td>\n",
       "      <td>1</td>\n",
       "      <td>4</td>\n",
       "      <td>0</td>\n",
       "      <td>0</td>\n",
       "      <td>1</td>\n",
       "    </tr>\n",
       "    <tr>\n",
       "      <th>2</th>\n",
       "      <td>1</td>\n",
       "      <td>NaN</td>\n",
       "      <td>0</td>\n",
       "      <td>1</td>\n",
       "      <td>6</td>\n",
       "      <td>1</td>\n",
       "      <td>0</td>\n",
       "      <td>0</td>\n",
       "    </tr>\n",
       "    <tr>\n",
       "      <th>3</th>\n",
       "      <td>1</td>\n",
       "      <td>NaN</td>\n",
       "      <td>0</td>\n",
       "      <td>1</td>\n",
       "      <td>8</td>\n",
       "      <td>0</td>\n",
       "      <td>1</td>\n",
       "      <td>0</td>\n",
       "    </tr>\n",
       "    <tr>\n",
       "      <th>4</th>\n",
       "      <td>1</td>\n",
       "      <td>NaN</td>\n",
       "      <td>0</td>\n",
       "      <td>1</td>\n",
       "      <td>10</td>\n",
       "      <td>1</td>\n",
       "      <td>1</td>\n",
       "      <td>1</td>\n",
       "    </tr>\n",
       "  </tbody>\n",
       "</table>\n",
       "</div>"
      ],
      "text/plain": [
       "   actor  recipient  condition  block  trial  prosoc_left  chose_prosoc  \\\n",
       "0      1        NaN          0      1      2            0             1   \n",
       "1      1        NaN          0      1      4            0             0   \n",
       "2      1        NaN          0      1      6            1             0   \n",
       "3      1        NaN          0      1      8            0             1   \n",
       "4      1        NaN          0      1     10            1             1   \n",
       "\n",
       "   pulled_left  \n",
       "0            0  \n",
       "1            1  \n",
       "2            0  \n",
       "3            0  \n",
       "4            1  "
      ]
     },
     "execution_count": 2,
     "metadata": {},
     "output_type": "execute_result"
    }
   ],
   "source": [
    "d = pd.read_csv(\"Data/chimpanzees.csv\")\n",
    "d.head()\n"
   ]
  },
  {
   "cell_type": "markdown",
   "id": "f14e8d35",
   "metadata": {},
   "source": [
    "###### Fit the following model in pymc3 using pm.sample:\n",
    "\n",
    "\tPulledLeft ~ Binomial (1,p)\n",
    "    \n",
    "\tlogit(p) = a[actor] + b1*ProsocialLeft + b2[ProsocialLeft] * OtherPresent\n",
    "    \n",
    "\ta[actor] ~ Normal (0, 1.5)\n",
    "    \n",
    "\tb1 ~ Normal (0,1)\n",
    "    \n",
    "    b2[ProsocialLeft] ~ Normal (0, 0.5)\n",
    "    \n",
    "    \n"
   ]
  },
  {
   "cell_type": "markdown",
   "id": "91d6da74",
   "metadata": {},
   "source": [
    "###### Present the b1 and b2 parameters in a forest plot and interpret their meaning."
   ]
  },
  {
   "cell_type": "markdown",
   "id": "7ae39cbf",
   "metadata": {},
   "source": [
    "###### Next, rerun the same model but with actor as a random effect rather than a fixed effect. "
   ]
  },
  {
   "cell_type": "markdown",
   "id": "e89333d2",
   "metadata": {},
   "source": [
    "###### Compare the fixed and random effects models using WAIC or Leave One Out cross-validation. Which is the most effective model?"
   ]
  }
 ],
 "metadata": {
  "kernelspec": {
   "display_name": "Python 3 (ipykernel)",
   "language": "python",
   "name": "python3"
  },
  "language_info": {
   "codemirror_mode": {
    "name": "ipython",
    "version": 3
   },
   "file_extension": ".py",
   "mimetype": "text/x-python",
   "name": "python",
   "nbconvert_exporter": "python",
   "pygments_lexer": "ipython3",
   "version": "3.9.7"
  }
 },
 "nbformat": 4,
 "nbformat_minor": 5
}
