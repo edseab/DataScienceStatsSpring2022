{
 "cells": [
  {
   "cell_type": "markdown",
   "id": "898d1788",
   "metadata": {},
   "source": [
    "## Problem set #2\n",
    "\n",
    "\n",
    "### Q1\n",
    "##### Which of the linear models below are multiple linear regressions?\n",
    "\n",
    "(1) µi = α + βxi\n",
    "\n",
    "(2) µi = B1 * xi + B2 * zi\n",
    "\n",
    "(3) µi = α + β(xi − zi)\n",
    "\n",
    "(4) µi = α + B1 * xi + B2 * zi\n",
    "\n",
    "Answer: 2 and 4"
   ]
  },
  {
   "cell_type": "markdown",
   "id": "1b73ee69",
   "metadata": {},
   "source": [
    "### Q2\n",
    "I am trying to model the effect of education on fame - in other words I want to know whether having more years of education improves a person's chances of being famous.\n",
    "\n",
    "Give 1 example of a variable I might want to control for in my model. What could happen if I don't control for it?\n",
    "\n",
    "1 example: having rich/famous parents. If you don't control for parents it may look like "
   ]
  },
  {
   "cell_type": "markdown",
   "id": "ce18a84b",
   "metadata": {},
   "source": [
    "### Q3\n",
    "Write the model definition for the above model. Should you center any variables? Justify your priors."
   ]
  },
  {
   "cell_type": "markdown",
   "id": "90aaf83c",
   "metadata": {},
   "source": [
    "### Q4\n",
    "I want to set up an experiment looking at the effect of social media use on anxiety and test scores. Help me simulate this.\n",
    "\n",
    "First simulate baseline anxiety levels for a group of 100 students. Anxiety is scored between 0 and 10 and the average score is 5 with a standard deviation of 2. Remember that you can't score lower than 0 or higher than 10!\n",
    "\n",
    "Next assign half of them at random to the experimental group which is given access to social media. \n",
    "\n",
    "Simulate student's scores after the treatment. On average, the control group (with no access to social media) have the same score, while the experimental group increased their anxiety by 1 point on average.\n",
    "\n",
    "Simulate student's test scores out of 100. The average score for a student without anxiety is 80% with a standard deviation of of 15 points, but each point of anxiety decreases a student's score by 2 points on average. (again, remember that scores cannot be more than 100 or less than 0).\n",
    "\n",
    "Create a data frame with experimental status, post-experiment anxiety, and test scores and show the first 6 rows."
   ]
  },
  {
   "cell_type": "markdown",
   "id": "e2d9410e",
   "metadata": {},
   "source": [
    "### Q5\n",
    "Your colleague tells you to put model test scores using a multiple linear regression with anxiety and experimental status as predictor variables. Why is this a bad idea?\n",
    "\n",
    "To appease them, you do it anyway. Present the results in a forest plot. Interpret the meaning of each of the parameter estimates. What model should you run instead? Present these results in another forest plot and interpret the results for your colleague."
   ]
  },
  {
   "cell_type": "markdown",
   "id": "2a3b0846",
   "metadata": {},
   "source": [
    "### Q6\n",
    "Load the data /Data/drinking_fatalities.csv. This is a dataset of US states between 1982 and 1988, with data on the minimum legal drinking age. Your colleague from the previous question tells you they have found an interesting result. They find that states with more average miles driven per person have higher minimum legal drinking ages. They interpret this to mean that states adjust their legal drinking ages upwards when people drive a lot.\n",
    "\n",
    "Run a simple linear model with \"mlda\" as the outcome and \"avgmiles\" as the predictor. Present the parameter estimates and their 89% hdis and interpret each of them. Plot the predicted relationship between avgmiles and mlda along with the 89% hdi for the mean and the 89% hdi for the predictions.\n",
    "\n",
    "Do you come to the same conclusion as your colleague?"
   ]
  },
  {
   "cell_type": "markdown",
   "id": "752a33ea",
   "metadata": {},
   "source": [
    "### Q7\n",
    "You ask your colleague how they specified their model. They tell you they controlled for the traffic fatality rate, trafficmort. Rerun the previous model adding trafficmort as a control. Once again, present the parameter estimates and interpret them, and plot the predicted relationship between avgmiles and mlda along with the 89% hdi for the mean and the 89% hdi for the predictions. What is different in this model?\n",
    "\n",
    "Think about the causal relationship between traffic fatality rates, average driving rates, and legal drinking age. Do you think your colleague's model specification was appropriate? Why or why not? What do you conclude about the true relationship between driving rates and the drinking age?"
   ]
  },
  {
   "cell_type": "code",
   "execution_count": null,
   "id": "beb12868",
   "metadata": {},
   "outputs": [],
   "source": []
  }
 ],
 "metadata": {
  "kernelspec": {
   "display_name": "Python 3 (ipykernel)",
   "language": "python",
   "name": "python3"
  },
  "language_info": {
   "codemirror_mode": {
    "name": "ipython",
    "version": 3
   },
   "file_extension": ".py",
   "mimetype": "text/x-python",
   "name": "python",
   "nbconvert_exporter": "python",
   "pygments_lexer": "ipython3",
   "version": "3.9.7"
  }
 },
 "nbformat": 4,
 "nbformat_minor": 5
}
