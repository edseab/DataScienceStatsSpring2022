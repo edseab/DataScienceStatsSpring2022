{
 "cells": [
  {
   "cell_type": "markdown",
   "id": "3996445f",
   "metadata": {},
   "source": [
    "## Problem set #3\n",
    "\n",
    "\n",
    "### Q1 1.5\n",
    "##### For each of the causal relationships, name a hypothetical third variable that would lead to an interaction effect. Please say if the interaction you describe is categorical or continous.\n",
    "\n",
    "(1) Pedalling speed increases bicycle speed\n",
    "\n",
    "The effect of pedalling speed on bicycle speed depends on what gear the bicycle is in. This is a categorical interaction\n",
    "\n",
    "(2) Bread dough rises because of yeast\n",
    "\n",
    "the effect of yeast on the rise of bread can depend on the salt content of the dough. This is a continuous interaction\n",
    "\n",
    "(3) More exposure to the sun leads to higher probability of skin cancer\n",
    "\n",
    "The effect of the sun on skin cancer risk can depend on sunscreen use. This can be coded as either continuous or categorical (e.g. no use/ some use/ daily use)\n",
    "\n",
    "### Q2 1.5\n",
    "##### For each of the previous relationships,write a linear model of the relationship which includes the interaction term.\n",
    "\n",
    "(1) BicycleSpeed ~ Normal(mu,sigma)\n",
    "    \n",
    "    mu = a[gear] + B1[gear]*log(PedalSpeed - mean(PedalSpeed))\n",
    "    \n",
    "(2) Rise ~ Normal(mu, sigma)\n",
    "\n",
    "    mu = a + B1*Yeast + B2*Salt + B3*Yeast*Salt\n",
    "    \n",
    "    \n",
    "(3) Cancer ~ Bernouilli(p)\n",
    "    \n",
    "    logit(p) = a[SunScreen] + B1[SunScreen]*SunExposure\n",
    "\n",
    "### Q3 2\n",
    "##### Which of the following explanations invokes an interaction?\n",
    "\n",
    "(1) Caramelizing onions requires cooking over low heat and making sure the onions do not\n",
    "dry out.\n",
    "\n",
    "This is an interaction: the effect of heat on caramelization depends on maintaining water content\n",
    "\n",
    "(2) A car will go faster when it has more cylinders or when it has a better fuel injector.\n",
    "\n",
    "This is not an interaction: cylinders and fuel injectors increase car speed independently\n",
    "\n",
    "(3) Most people acquire their political beliefs from their parents, unless they get them instead\n",
    "from their friends.\n",
    "\n",
    "This is not an interaction: the effect of parents political beliefs does not depend on friends, but the effect of friends can be stronger than the effect of parents\n",
    "\n",
    "(4) Intelligent animal species tend to be either highly social or have manipulative appendages\n",
    "(hands, tentacles, etc.).\n",
    "\n",
    "This is not an interaction: both sociality and manipulative appendages independently affect intelligence\n",
    "\n"
   ]
  },
  {
   "cell_type": "markdown",
   "id": "7b3aada7",
   "metadata": {},
   "source": [
    "\n",
    "### Q4 3 \n",
    "##### Load in the \"tulips\"dataset. Fit a linear model using quap of the effect of water and shade on the number of blooms. To do this, center water and shade on their respective means and scale the number of blooms by the maximum. Then, fit a model including water and shadePresent a summary and a forest plot of the estimates and interpret them.\n"
   ]
  },
  {
   "cell_type": "code",
   "execution_count": 2,
   "id": "7638a299",
   "metadata": {},
   "outputs": [
    {
     "name": "stderr",
     "output_type": "stream",
     "text": [
      "WARNING (theano.tensor.blas): Using NumPy C-API based implementation for BLAS functions.\n"
     ]
    },
    {
     "data": {
      "text/html": [
       "\n",
       "<style>\n",
       "    /* Turns off some styling */\n",
       "    progress {\n",
       "        /* gets rid of default border in Firefox and Opera. */\n",
       "        border: none;\n",
       "        /* Needs to be in here for Safari polyfill so background images work as expected. */\n",
       "        background-size: auto;\n",
       "    }\n",
       "    .progress-bar-interrupted, .progress-bar-interrupted::-webkit-progress-bar {\n",
       "        background: #F44336;\n",
       "    }\n",
       "</style>\n"
      ],
      "text/plain": [
       "<IPython.core.display.HTML object>"
      ]
     },
     "metadata": {},
     "output_type": "display_data"
    },
    {
     "data": {
      "text/html": [
       "\n",
       "    <div>\n",
       "      <progress value='18' class='' max='18' style='width:300px; height:20px; vertical-align: middle;'></progress>\n",
       "      100.00% [18/18 00:00<00:00 logp = 9.2381, ||grad|| = 16.751]\n",
       "    </div>\n",
       "    "
      ],
      "text/plain": [
       "<IPython.core.display.HTML object>"
      ]
     },
     "metadata": {},
     "output_type": "display_data"
    },
    {
     "name": "stdout",
     "output_type": "stream",
     "text": [
      "\n"
     ]
    }
   ],
   "source": [
    "# Q4\n",
    "\n",
    "import matplotlib.pyplot as plt\n",
    "import scipy.stats as st\n",
    "import numpy as np\n",
    "import pandas as pd\n",
    "import pymc3 as pm\n",
    "from quap import quap\n",
    "import arviz as az\n",
    "import statsmodels.api as sm\n",
    "import math\n",
    "\n",
    "d = pd.read_csv(\"./../data/tulips.csv\", delimiter=\";\")\n",
    "\n",
    "d[\"water_centered\"] = d.water-d.water.mean()\n",
    "d[\"shade_centered\"] = d.shade-d.shade.mean()\n",
    "d[\"blooms_scaled\"] = d.blooms/d.blooms.max()\n",
    "\n",
    "with pm.Model() as tulip_m1:\n",
    "    a = pm.Normal(\"a\",0.75,0.2)\n",
    "    b_water = pm.Normal(\"b_water\",0,0.5)\n",
    "    b_shade = pm.Normal(\"b_shade\",0,0.5)\n",
    "    sigma = pm.Exponential(\"sigma\",1)\n",
    "    \n",
    "    mu = a + b_water*d.water_centered + b_shade*d.shade_centered\n",
    "    \n",
    "    Blooms = pm.Normal(\"Blooms\",mu, sigma, observed=d.blooms_scaled)\n",
    "    \n",
    "    idata, dist = quap(vars=[a,b_water,b_shade,sigma])\n",
    "    samples = az.InferenceData.to_dataframe(idata)"
   ]
  },
  {
   "cell_type": "code",
   "execution_count": 112,
   "id": "f1f5c47c",
   "metadata": {},
   "outputs": [
    {
     "data": {
      "text/html": [
       "<div>\n",
       "<style scoped>\n",
       "    .dataframe tbody tr th:only-of-type {\n",
       "        vertical-align: middle;\n",
       "    }\n",
       "\n",
       "    .dataframe tbody tr th {\n",
       "        vertical-align: top;\n",
       "    }\n",
       "\n",
       "    .dataframe thead th {\n",
       "        text-align: right;\n",
       "    }\n",
       "</style>\n",
       "<table border=\"1\" class=\"dataframe\">\n",
       "  <thead>\n",
       "    <tr style=\"text-align: right;\">\n",
       "      <th></th>\n",
       "      <th>mean</th>\n",
       "      <th>sd</th>\n",
       "      <th>hdi_5.5%</th>\n",
       "      <th>hdi_94.5%</th>\n",
       "    </tr>\n",
       "  </thead>\n",
       "  <tbody>\n",
       "    <tr>\n",
       "      <th>a</th>\n",
       "      <td>0.366</td>\n",
       "      <td>0.030</td>\n",
       "      <td>0.318</td>\n",
       "      <td>0.413</td>\n",
       "    </tr>\n",
       "    <tr>\n",
       "      <th>b_water</th>\n",
       "      <td>0.208</td>\n",
       "      <td>0.038</td>\n",
       "      <td>0.149</td>\n",
       "      <td>0.268</td>\n",
       "    </tr>\n",
       "    <tr>\n",
       "      <th>b_shade</th>\n",
       "      <td>-0.114</td>\n",
       "      <td>0.037</td>\n",
       "      <td>-0.175</td>\n",
       "      <td>-0.057</td>\n",
       "    </tr>\n",
       "    <tr>\n",
       "      <th>sigma</th>\n",
       "      <td>0.158</td>\n",
       "      <td>0.022</td>\n",
       "      <td>0.124</td>\n",
       "      <td>0.194</td>\n",
       "    </tr>\n",
       "  </tbody>\n",
       "</table>\n",
       "</div>"
      ],
      "text/plain": [
       "          mean     sd  hdi_5.5%  hdi_94.5%\n",
       "a        0.366  0.030     0.318      0.413\n",
       "b_water  0.208  0.038     0.149      0.268\n",
       "b_shade -0.114  0.037    -0.175     -0.057\n",
       "sigma    0.158  0.022     0.124      0.194"
      ]
     },
     "execution_count": 112,
     "metadata": {},
     "output_type": "execute_result"
    }
   ],
   "source": [
    "az.summary(idata, kind=\"stats\",hdi_prob=0.89)"
   ]
  },
  {
   "cell_type": "markdown",
   "id": "4fd9c54e",
   "metadata": {},
   "source": [
    "The mean intercept is 0.36, meaning that the most likely average number of blooms for average water and average shade is 36% of the maximum.\n",
    "\n",
    "Water is predicted to increase the number of blooms by 20% of the maximum (with 89% hdi between 0.15 and 0.27) for each unit increase in water.\n",
    "\n",
    "Shade is predicted to decrease the nu,ber of blooms by 12% of the maximum (with 89% hdi between -0.173 and -0.055) for each unit increase in shade."
   ]
  },
  {
   "cell_type": "code",
   "execution_count": 113,
   "id": "32e4ef30",
   "metadata": {},
   "outputs": [
    {
     "data": {
      "text/plain": [
       "<matplotlib.lines.Line2D at 0x290d710ba30>"
      ]
     },
     "execution_count": 113,
     "metadata": {},
     "output_type": "execute_result"
    },
    {
     "data": {
      "image/png": "[encoded data removed]",
      "text/plain": [
       "<Figure size 432x453.6 with 1 Axes>"
      ]
     },
     "metadata": {
      "needs_background": "light"
     },
     "output_type": "display_data"
    }
   ],
   "source": [
    "az.plot_forest(\n",
    "    idata,\n",
    "    var_names=[\"a\",\"b_water\", \"b_shade\"],\n",
    ")\n",
    "plt.axvline(0) "
   ]
  },
  {
   "cell_type": "markdown",
   "id": "48c487f9",
   "metadata": {},
   "source": [
    "### Q5 3\n",
    "##### For the previous model, plot on the same graph the mean predicted effect of water on blooms for each of the values of shade. You should have a plot with 3 roughly parallel lines. running through them.\n",
    "\n"
   ]
  },
  {
   "cell_type": "code",
   "execution_count": 114,
   "id": "7c55a630",
   "metadata": {},
   "outputs": [
    {
     "data": {
      "image/png": "[encoded data removed]",
      "text/plain": [
       "<Figure size 432x288 with 1 Axes>"
      ]
     },
     "metadata": {
      "needs_background": "light"
     },
     "output_type": "display_data"
    }
   ],
   "source": [
    "water_seq = [-1,0,1]\n",
    "mu_pred_1 = np.zeros((len(water_seq), len(samples)))\n",
    "mu_pred_2 = np.zeros((len(water_seq), len(samples)))\n",
    "mu_pred_3 = np.zeros((len(water_seq), len(samples)))\n",
    "\n",
    "for i, w in enumerate(water_seq):\n",
    "    mu_pred_1[i] = samples[\"a\"] + samples[\"b_water\"] * w + samples[\"b_shade\"] * (-1)\n",
    "\n",
    "    mu_pred_2[i] = samples[\"a\"] + samples[\"b_water\"] * w\n",
    "\n",
    "    mu_pred_3[i] = samples[\"a\"] + samples[\"b_water\"] * w + samples[\"b_shade\"] * (1)\n",
    "\n",
    "    \n",
    "plt.scatter(d.water_centered, d.blooms_scaled)\n",
    "plt.plot(water_seq, mu_pred_1.mean(1), \"k\", label='Low shade')\n",
    "plt.fill_between(water_seq, np.quantile(mu_pred_1,0.055,axis=1), np.quantile(mu_pred_1,0.945,axis=1), alpha=0.7)\n",
    "\n",
    "plt.plot(water_seq, mu_pred_2.mean(1), \"k--\", label='Medium shade')\n",
    "plt.fill_between(water_seq, np.quantile(mu_pred_2,0.055,axis=1), np.quantile(mu_pred_2,0.945,axis=1), alpha=0.7)\n",
    "\n",
    "plt.plot(water_seq, mu_pred_3.mean(1), \"k-.\", label='High shade')\n",
    "plt.fill_between(water_seq, np.quantile(mu_pred_3,0.055,axis=1), np.quantile(mu_pred_3,0.945,axis=1), alpha=0.7)\n",
    "\n",
    "plt.xlabel(\"Water (centered)\")\n",
    "plt.ylabel(\"Blooms (percent max)\")\n",
    "plt.legend()\n",
    "plt.show()\n"
   ]
  },
  {
   "cell_type": "markdown",
   "id": "374ba249",
   "metadata": {},
   "source": [
    "### Q6 4\n",
    "##### Rerun the same model as in Q4 but with the interaction term between water and shade. Again present a summary and forest plot and interpret the results. Recreate the same plot as in Q6 but now with the interaction term. The three lines should not be paralell any more."
   ]
  },
  {
   "cell_type": "code",
   "execution_count": 119,
   "id": "5d5b19b2",
   "metadata": {},
   "outputs": [
    {
     "data": {
      "text/html": [
       "\n",
       "<style>\n",
       "    /* Turns off some styling */\n",
       "    progress {\n",
       "        /* gets rid of default border in Firefox and Opera. */\n",
       "        border: none;\n",
       "        /* Needs to be in here for Safari polyfill so background images work as expected. */\n",
       "        background-size: auto;\n",
       "    }\n",
       "    .progress-bar-interrupted, .progress-bar-interrupted::-webkit-progress-bar {\n",
       "        background: #F44336;\n",
       "    }\n",
       "</style>\n"
      ],
      "text/plain": [
       "<IPython.core.display.HTML object>"
      ]
     },
     "metadata": {},
     "output_type": "display_data"
    },
    {
     "data": {
      "text/html": [
       "\n",
       "    <div>\n",
       "      <progress value='18' class='' max='18' style='width:300px; height:20px; vertical-align: middle;'></progress>\n",
       "      100.00% [18/18 00:00<00:00 logp = 14.326, ||grad|| = 4.915]\n",
       "    </div>\n",
       "    "
      ],
      "text/plain": [
       "<IPython.core.display.HTML object>"
      ]
     },
     "metadata": {},
     "output_type": "display_data"
    },
    {
     "name": "stdout",
     "output_type": "stream",
     "text": [
      "\n"
     ]
    }
   ],
   "source": [
    "with pm.Model() as tulip_m2:\n",
    "    a = pm.Normal(\"a\",0.75,0.2, shape = 3)\n",
    "    b_water = pm.Normal(\"b_water\",0,0.5, shape = 3)\n",
    "    sigma = pm.Exponential(\"sigma\",1)\n",
    "    \n",
    "    mu = a[d.shade-1] + b_water[d.shade-1]*d.water_centered\n",
    "    \n",
    "    Blooms = pm.Normal(\"Blooms\",mu, sigma, observed=d.blooms_scaled)\n",
    "    \n",
    "    idata2, dist = quap(vars=[a,b_water,sigma])\n",
    "    samples2 = az.InferenceData.to_dataframe(idata2)\n",
    "    "
   ]
  },
  {
   "cell_type": "code",
   "execution_count": 120,
   "id": "b43b37ed",
   "metadata": {},
   "outputs": [
    {
     "data": {
      "text/html": [
       "<div>\n",
       "<style scoped>\n",
       "    .dataframe tbody tr th:only-of-type {\n",
       "        vertical-align: middle;\n",
       "    }\n",
       "\n",
       "    .dataframe tbody tr th {\n",
       "        vertical-align: top;\n",
       "    }\n",
       "\n",
       "    .dataframe thead th {\n",
       "        text-align: right;\n",
       "    }\n",
       "</style>\n",
       "<table border=\"1\" class=\"dataframe\">\n",
       "  <thead>\n",
       "    <tr style=\"text-align: right;\">\n",
       "      <th></th>\n",
       "      <th>mean</th>\n",
       "      <th>sd</th>\n",
       "      <th>hdi_5.5%</th>\n",
       "      <th>hdi_94.5%</th>\n",
       "    </tr>\n",
       "  </thead>\n",
       "  <tbody>\n",
       "    <tr>\n",
       "      <th>a[0]</th>\n",
       "      <td>0.508</td>\n",
       "      <td>0.039</td>\n",
       "      <td>0.449</td>\n",
       "      <td>0.572</td>\n",
       "    </tr>\n",
       "    <tr>\n",
       "      <th>a[1]</th>\n",
       "      <td>0.319</td>\n",
       "      <td>0.039</td>\n",
       "      <td>0.259</td>\n",
       "      <td>0.383</td>\n",
       "    </tr>\n",
       "    <tr>\n",
       "      <th>a[2]</th>\n",
       "      <td>0.287</td>\n",
       "      <td>0.039</td>\n",
       "      <td>0.225</td>\n",
       "      <td>0.351</td>\n",
       "    </tr>\n",
       "    <tr>\n",
       "      <th>b_water[0]</th>\n",
       "      <td>0.366</td>\n",
       "      <td>0.049</td>\n",
       "      <td>0.287</td>\n",
       "      <td>0.442</td>\n",
       "    </tr>\n",
       "    <tr>\n",
       "      <th>b_water[1]</th>\n",
       "      <td>0.181</td>\n",
       "      <td>0.049</td>\n",
       "      <td>0.102</td>\n",
       "      <td>0.258</td>\n",
       "    </tr>\n",
       "    <tr>\n",
       "      <th>b_water[2]</th>\n",
       "      <td>0.076</td>\n",
       "      <td>0.048</td>\n",
       "      <td>0.000</td>\n",
       "      <td>0.155</td>\n",
       "    </tr>\n",
       "    <tr>\n",
       "      <th>sigma</th>\n",
       "      <td>0.119</td>\n",
       "      <td>0.016</td>\n",
       "      <td>0.092</td>\n",
       "      <td>0.145</td>\n",
       "    </tr>\n",
       "  </tbody>\n",
       "</table>\n",
       "</div>"
      ],
      "text/plain": [
       "             mean     sd  hdi_5.5%  hdi_94.5%\n",
       "a[0]        0.508  0.039     0.449      0.572\n",
       "a[1]        0.319  0.039     0.259      0.383\n",
       "a[2]        0.287  0.039     0.225      0.351\n",
       "b_water[0]  0.366  0.049     0.287      0.442\n",
       "b_water[1]  0.181  0.049     0.102      0.258\n",
       "b_water[2]  0.076  0.048     0.000      0.155\n",
       "sigma       0.119  0.016     0.092      0.145"
      ]
     },
     "execution_count": 120,
     "metadata": {},
     "output_type": "execute_result"
    }
   ],
   "source": [
    "az.summary(idata2, kind=\"stats\",hdi_prob=0.89)"
   ]
  },
  {
   "cell_type": "code",
   "execution_count": null,
   "id": "4b153ca7",
   "metadata": {},
   "outputs": [],
   "source": []
  },
  {
   "cell_type": "code",
   "execution_count": 121,
   "id": "763dcd54",
   "metadata": {},
   "outputs": [
    {
     "data": {
      "text/plain": [
       "<matplotlib.lines.Line2D at 0x290d75b9550>"
      ]
     },
     "execution_count": 121,
     "metadata": {},
     "output_type": "execute_result"
    },
    {
     "data": {
      "image/png": "[encoded data removed]",
      "text/plain": [
       "<Figure size 432x403.2 with 1 Axes>"
      ]
     },
     "metadata": {
      "needs_background": "light"
     },
     "output_type": "display_data"
    }
   ],
   "source": [
    "az.plot_forest(\n",
    "    idata2,\n",
    "    var_names=[\"a\",\"b_water\"],\n",
    ")\n",
    "plt.axvline(0) "
   ]
  },
  {
   "cell_type": "markdown",
   "id": "112490b5",
   "metadata": {},
   "source": [
    "These parameter estimates suggest that the positive effect of water on  blooms only exists in conditions of low or medium shade, and that it is strongest in conditions of low shade."
   ]
  },
  {
   "cell_type": "code",
   "execution_count": 122,
   "id": "d3d23b74",
   "metadata": {},
   "outputs": [
    {
     "data": {
      "image/png": "[encoded data removed]",
      "text/plain": [
       "<Figure size 432x288 with 1 Axes>"
      ]
     },
     "metadata": {
      "needs_background": "light"
     },
     "output_type": "display_data"
    }
   ],
   "source": [
    "water_seq = [-1,0,1]\n",
    "mu_pred_1 = np.zeros((len(water_seq), len(samples2)))\n",
    "mu_pred_2 = np.zeros((len(water_seq), len(samples2)))\n",
    "mu_pred_3 = np.zeros((len(water_seq), len(samples2)))\n",
    "\n",
    "for i, w in enumerate(water_seq):\n",
    "    mu_pred_1[i] = samples2[('a[0]',0)] + samples2[('b_water[0]',0)] * w \n",
    "\n",
    "    mu_pred_2[i] = samples2[('a[1]',1)] + samples2[('b_water[1]',1)] * w\n",
    "\n",
    "    mu_pred_3[i] = samples2[('a[2]',2)] + samples2[('b_water[2]',2)] * w \n",
    "\n",
    "\n",
    "plt.scatter(d.water_centered, d.blooms_scaled)\n",
    "plt.plot(water_seq, mu_pred_1.mean(1), \"k\", label='Low shade')\n",
    "plt.fill_between(water_seq, np.quantile(mu_pred_1,0.055,axis=1), np.quantile(mu_pred_1,0.945,axis=1), alpha=0.7)\n",
    "\n",
    "plt.plot(water_seq, mu_pred_2.mean(1), \"k--\", label='Medium shade')\n",
    "plt.fill_between(water_seq, np.quantile(mu_pred_2,0.055,axis=1), np.quantile(mu_pred_2,0.945,axis=1), alpha=0.7)\n",
    "\n",
    "plt.plot(water_seq, mu_pred_3.mean(1), \"k-.\", label='High shade')\n",
    "plt.fill_between(water_seq, np.quantile(mu_pred_3,0.055,axis=1), np.quantile(mu_pred_3,0.945,axis=1), alpha=0.7)\n",
    "\n",
    "plt.xlabel(\"Water (centered)\")\n",
    "plt.ylabel(\"Blooms (percent max)\")\n",
    "plt.legend()\n",
    "plt.show()\n"
   ]
  },
  {
   "cell_type": "markdown",
   "id": "421b8f1a",
   "metadata": {},
   "source": [
    "### Q7 2\n",
    "##### Now include the bed variable as a predictor in the interaction model. Don’t interact bed with the other predictors; just include it as a main effect. Note that bed is categorical. So to use it properly, you will need to either construct dummy variables or rather an index variable, as explained in Chapter 5 (page 155-156. \n",
    "\n"
   ]
  },
  {
   "cell_type": "code",
   "execution_count": 123,
   "id": "79a8562a",
   "metadata": {},
   "outputs": [],
   "source": [
    "# First let's recode bed as a number\n",
    "d.bed = d.bed.replace([\"a\",\"b\",\"c\"],[0,1,2])"
   ]
  },
  {
   "cell_type": "code",
   "execution_count": 124,
   "id": "eff34a01",
   "metadata": {},
   "outputs": [
    {
     "data": {
      "text/html": [
       "\n",
       "<style>\n",
       "    /* Turns off some styling */\n",
       "    progress {\n",
       "        /* gets rid of default border in Firefox and Opera. */\n",
       "        border: none;\n",
       "        /* Needs to be in here for Safari polyfill so background images work as expected. */\n",
       "        background-size: auto;\n",
       "    }\n",
       "    .progress-bar-interrupted, .progress-bar-interrupted::-webkit-progress-bar {\n",
       "        background: #F44336;\n",
       "    }\n",
       "</style>\n"
      ],
      "text/plain": [
       "<IPython.core.display.HTML object>"
      ]
     },
     "metadata": {},
     "output_type": "display_data"
    },
    {
     "data": {
      "text/html": [
       "\n",
       "    <div>\n",
       "      <progress value='26' class='' max='26' style='width:300px; height:20px; vertical-align: middle;'></progress>\n",
       "      100.00% [26/26 00:00<00:00 logp = 22.904, ||grad|| = 2.7506]\n",
       "    </div>\n",
       "    "
      ],
      "text/plain": [
       "<IPython.core.display.HTML object>"
      ]
     },
     "metadata": {},
     "output_type": "display_data"
    },
    {
     "name": "stdout",
     "output_type": "stream",
     "text": [
      "\n"
     ]
    }
   ],
   "source": [
    "with pm.Model() as tulip_m3:\n",
    "    a = pm.Normal(\"a\",0.75,0.2, shape = 3)\n",
    "    b_water = pm.Normal(\"b_water\",0,0.5, shape = 3)\n",
    "    b_bed = pm.Normal(\"b_bed\",0,0.5, shape = 3)\n",
    "    sigma = pm.Exponential(\"sigma\",1)\n",
    "    \n",
    "    mu = a[d.shade-1] + b_water[d.shade-1]*d.water_centered + b_bed[d.bed]\n",
    "    \n",
    "    Blooms = pm.Normal(\"Blooms\",mu, sigma, observed=d.blooms_scaled)\n",
    "    \n",
    "    idata3, dist = quap(vars=[a,b_water,b_bed,sigma])\n",
    "    samples3 = az.InferenceData.to_dataframe(idata3)\n",
    "    "
   ]
  },
  {
   "cell_type": "markdown",
   "id": "867b34bc",
   "metadata": {},
   "source": [
    "### Q8 3\n",
    "##### In 2007, The Wall Street Journal published an editorial (“We’re Number One, Alas”) with a graph of corporate tax rates in 29 countries plotted against tax revenue. A badly fit curve was drawn in, seemingly by hand, to make the argument that the relationship between tax rate and tax revenue increases and then declines, such that higher tax rates can actually produce less tax revenue. I want you to actually fit a curve to these data, found in Laffer.csv. Consider models that use tax rate to predict tax revenue. Compare, using WAIC or LOO, a straight-line model to any curved models you like. What do you conclude about the relationship between tax rate and tax revenue?"
   ]
  },
  {
   "cell_type": "code",
   "execution_count": 17,
   "id": "3c855759",
   "metadata": {},
   "outputs": [
    {
     "name": "stderr",
     "output_type": "stream",
     "text": [
      "Auto-assigning NUTS sampler...\n",
      "Initializing NUTS using jitter+adapt_diag...\n",
      "Multiprocess sampling (4 chains in 4 jobs)\n",
      "NUTS: [sigma, b1, a]\n"
     ]
    },
    {
     "data": {
      "text/html": [
       "\n",
       "<style>\n",
       "    /* Turns off some styling */\n",
       "    progress {\n",
       "        /* gets rid of default border in Firefox and Opera. */\n",
       "        border: none;\n",
       "        /* Needs to be in here for Safari polyfill so background images work as expected. */\n",
       "        background-size: auto;\n",
       "    }\n",
       "    .progress-bar-interrupted, .progress-bar-interrupted::-webkit-progress-bar {\n",
       "        background: #F44336;\n",
       "    }\n",
       "</style>\n"
      ],
      "text/plain": [
       "<IPython.core.display.HTML object>"
      ]
     },
     "metadata": {},
     "output_type": "display_data"
    },
    {
     "data": {
      "text/html": [
       "\n",
       "    <div>\n",
       "      <progress value='8000' class='' max='8000' style='width:300px; height:20px; vertical-align: middle;'></progress>\n",
       "      100.00% [8000/8000 00:16<00:00 Sampling 4 chains, 0 divergences]\n",
       "    </div>\n",
       "    "
      ],
      "text/plain": [
       "<IPython.core.display.HTML object>"
      ]
     },
     "metadata": {},
     "output_type": "display_data"
    },
    {
     "name": "stderr",
     "output_type": "stream",
     "text": [
      "Sampling 4 chains for 1_000 tune and 1_000 draw iterations (4_000 + 4_000 draws total) took 78 seconds.\n"
     ]
    }
   ],
   "source": [
    "d2 = pd.read_csv(\"./../data/Laffer.csv\", delimiter=\",\")\n",
    "\n",
    "d2[\"tax_rate_std\"] = (d2.tax_rate - d2.tax_rate.mean())/np.std(d2.tax_rate)\n",
    "d2[\"tax_rev_std\"] = (d2.tax_revenue - d2.tax_revenue.mean())/np.std(d2.tax_revenue)\n",
    "\n",
    "with pm.Model() as m_Laffer_straight:\n",
    "    a = pm.Normal(\"a\",0,0.5)\n",
    "    b1 = pm.Normal(\"b1\",0,0.5)\n",
    "    sigma = pm.Exponential(\"sigma\",1)\n",
    "    \n",
    "    mu = a + b1*d2.tax_rate_std\n",
    "    \n",
    "    tax_revenue = pm.Normal(\"tax_revenue\", mu,sigma, observed = d2.tax_rev_std)\n",
    "    idata4 = pm.sample(return_inferencedata=True)\n",
    "    samples4 = az.InferenceData.to_dataframe(idata4)"
   ]
  },
  {
   "cell_type": "code",
   "execution_count": 18,
   "id": "eb636285",
   "metadata": {},
   "outputs": [
    {
     "data": {
      "text/html": [
       "<div>\n",
       "<style scoped>\n",
       "    .dataframe tbody tr th:only-of-type {\n",
       "        vertical-align: middle;\n",
       "    }\n",
       "\n",
       "    .dataframe tbody tr th {\n",
       "        vertical-align: top;\n",
       "    }\n",
       "\n",
       "    .dataframe thead th {\n",
       "        text-align: right;\n",
       "    }\n",
       "</style>\n",
       "<table border=\"1\" class=\"dataframe\">\n",
       "  <thead>\n",
       "    <tr style=\"text-align: right;\">\n",
       "      <th></th>\n",
       "      <th>mean</th>\n",
       "      <th>sd</th>\n",
       "      <th>hdi_3%</th>\n",
       "      <th>hdi_97%</th>\n",
       "      <th>mcse_mean</th>\n",
       "      <th>mcse_sd</th>\n",
       "      <th>ess_bulk</th>\n",
       "      <th>ess_tail</th>\n",
       "      <th>r_hat</th>\n",
       "    </tr>\n",
       "  </thead>\n",
       "  <tbody>\n",
       "    <tr>\n",
       "      <th>a</th>\n",
       "      <td>-0.001</td>\n",
       "      <td>0.174</td>\n",
       "      <td>-0.321</td>\n",
       "      <td>0.320</td>\n",
       "      <td>0.003</td>\n",
       "      <td>0.003</td>\n",
       "      <td>4668.0</td>\n",
       "      <td>2751.0</td>\n",
       "      <td>1.01</td>\n",
       "    </tr>\n",
       "    <tr>\n",
       "      <th>b1</th>\n",
       "      <td>0.283</td>\n",
       "      <td>0.178</td>\n",
       "      <td>-0.056</td>\n",
       "      <td>0.605</td>\n",
       "      <td>0.003</td>\n",
       "      <td>0.002</td>\n",
       "      <td>4459.0</td>\n",
       "      <td>2940.0</td>\n",
       "      <td>1.00</td>\n",
       "    </tr>\n",
       "    <tr>\n",
       "      <th>sigma</th>\n",
       "      <td>1.007</td>\n",
       "      <td>0.140</td>\n",
       "      <td>0.753</td>\n",
       "      <td>1.261</td>\n",
       "      <td>0.002</td>\n",
       "      <td>0.002</td>\n",
       "      <td>3936.0</td>\n",
       "      <td>2861.0</td>\n",
       "      <td>1.00</td>\n",
       "    </tr>\n",
       "  </tbody>\n",
       "</table>\n",
       "</div>"
      ],
      "text/plain": [
       "        mean     sd  hdi_3%  hdi_97%  mcse_mean  mcse_sd  ess_bulk  ess_tail  \\\n",
       "a     -0.001  0.174  -0.321    0.320      0.003    0.003    4668.0    2751.0   \n",
       "b1     0.283  0.178  -0.056    0.605      0.003    0.002    4459.0    2940.0   \n",
       "sigma  1.007  0.140   0.753    1.261      0.002    0.002    3936.0    2861.0   \n",
       "\n",
       "       r_hat  \n",
       "a       1.01  \n",
       "b1      1.00  \n",
       "sigma   1.00  "
      ]
     },
     "execution_count": 18,
     "metadata": {},
     "output_type": "execute_result"
    }
   ],
   "source": [
    "az.summary(idata4)"
   ]
  },
  {
   "cell_type": "code",
   "execution_count": 19,
   "id": "dbaa2ebb",
   "metadata": {},
   "outputs": [
    {
     "name": "stderr",
     "output_type": "stream",
     "text": [
      "Auto-assigning NUTS sampler...\n",
      "Initializing NUTS using jitter+adapt_diag...\n",
      "Multiprocess sampling (4 chains in 4 jobs)\n",
      "NUTS: [sigma, b2, b1, a]\n"
     ]
    },
    {
     "data": {
      "text/html": [
       "\n",
       "<style>\n",
       "    /* Turns off some styling */\n",
       "    progress {\n",
       "        /* gets rid of default border in Firefox and Opera. */\n",
       "        border: none;\n",
       "        /* Needs to be in here for Safari polyfill so background images work as expected. */\n",
       "        background-size: auto;\n",
       "    }\n",
       "    .progress-bar-interrupted, .progress-bar-interrupted::-webkit-progress-bar {\n",
       "        background: #F44336;\n",
       "    }\n",
       "</style>\n"
      ],
      "text/plain": [
       "<IPython.core.display.HTML object>"
      ]
     },
     "metadata": {},
     "output_type": "display_data"
    },
    {
     "data": {
      "text/html": [
       "\n",
       "    <div>\n",
       "      <progress value='8000' class='' max='8000' style='width:300px; height:20px; vertical-align: middle;'></progress>\n",
       "      100.00% [8000/8000 00:17<00:00 Sampling 4 chains, 0 divergences]\n",
       "    </div>\n",
       "    "
      ],
      "text/plain": [
       "<IPython.core.display.HTML object>"
      ]
     },
     "metadata": {},
     "output_type": "display_data"
    },
    {
     "name": "stderr",
     "output_type": "stream",
     "text": [
      "Sampling 4 chains for 1_000 tune and 1_000 draw iterations (4_000 + 4_000 draws total) took 81 seconds.\n"
     ]
    }
   ],
   "source": [
    "with pm.Model() as m_Laffer_curved:\n",
    "    a = pm.Normal(\"a\",0,1)\n",
    "    b1 = pm.Normal(\"b1\",0,0.5)\n",
    "    b2 = pm.Normal(\"b2\",0,0.5)\n",
    "    sigma = pm.Exponential(\"sigma\",1)\n",
    "    \n",
    "    mu = a + b1*d2.tax_rate_std + b2*d2.tax_rate_std**2\n",
    "    \n",
    "    tax_revenue = pm.Normal(\"tax_revenue\", mu,sigma, observed = d2.tax_rev_std)\n",
    "    idata5 = pm.sample(return_inferencedata=True, tune=1000)\n",
    "    samples5 = az.InferenceData.to_dataframe(idata5)"
   ]
  },
  {
   "cell_type": "code",
   "execution_count": 25,
   "id": "995f5ed5",
   "metadata": {},
   "outputs": [
    {
     "name": "stderr",
     "output_type": "stream",
     "text": [
      "C:\\Users\\edsea\\miniconda3\\envs\\stat-rethink2\\lib\\site-packages\\arviz\\stats\\stats.py:694: UserWarning: Estimated shape parameter of Pareto distribution is greater than 0.7 for one or more samples. You should consider using a more robust model, this is because importance sampling is less likely to work well if the marginal posterior and LOO posterior are very different. This is more likely to happen with a non-robust model and highly influential observations.\n",
      "  warnings.warn(\n",
      "C:\\Users\\edsea\\miniconda3\\envs\\stat-rethink2\\lib\\site-packages\\arviz\\stats\\stats.py:248: FutureWarning: The frame.append method is deprecated and will be removed from pandas in a future version. Use pandas.concat instead.\n",
      "  ics = ics.append([ic_func(dataset, pointwise=True, scale=scale, var_name=var_name)])\n",
      "C:\\Users\\edsea\\miniconda3\\envs\\stat-rethink2\\lib\\site-packages\\arviz\\stats\\stats.py:694: UserWarning: Estimated shape parameter of Pareto distribution is greater than 0.7 for one or more samples. You should consider using a more robust model, this is because importance sampling is less likely to work well if the marginal posterior and LOO posterior are very different. This is more likely to happen with a non-robust model and highly influential observations.\n",
      "  warnings.warn(\n",
      "C:\\Users\\edsea\\miniconda3\\envs\\stat-rethink2\\lib\\site-packages\\arviz\\stats\\stats.py:248: FutureWarning: The frame.append method is deprecated and will be removed from pandas in a future version. Use pandas.concat instead.\n",
      "  ics = ics.append([ic_func(dataset, pointwise=True, scale=scale, var_name=var_name)])\n"
     ]
    },
    {
     "data": {
      "text/html": [
       "<div>\n",
       "<style scoped>\n",
       "    .dataframe tbody tr th:only-of-type {\n",
       "        vertical-align: middle;\n",
       "    }\n",
       "\n",
       "    .dataframe tbody tr th {\n",
       "        vertical-align: top;\n",
       "    }\n",
       "\n",
       "    .dataframe thead th {\n",
       "        text-align: right;\n",
       "    }\n",
       "</style>\n",
       "<table border=\"1\" class=\"dataframe\">\n",
       "  <thead>\n",
       "    <tr style=\"text-align: right;\">\n",
       "      <th></th>\n",
       "      <th>rank</th>\n",
       "      <th>loo</th>\n",
       "      <th>p_loo</th>\n",
       "      <th>d_loo</th>\n",
       "      <th>weight</th>\n",
       "      <th>se</th>\n",
       "      <th>dse</th>\n",
       "      <th>warning</th>\n",
       "      <th>loo_scale</th>\n",
       "    </tr>\n",
       "  </thead>\n",
       "  <tbody>\n",
       "    <tr>\n",
       "      <th>m_Laffer_curved</th>\n",
       "      <td>0</td>\n",
       "      <td>88.420057</td>\n",
       "      <td>6.129892</td>\n",
       "      <td>0.000000</td>\n",
       "      <td>0.647775</td>\n",
       "      <td>19.747584</td>\n",
       "      <td>0.000000</td>\n",
       "      <td>True</td>\n",
       "      <td>deviance</td>\n",
       "    </tr>\n",
       "    <tr>\n",
       "      <th>m_Laffer_straight</th>\n",
       "      <td>1</td>\n",
       "      <td>88.675131</td>\n",
       "      <td>5.179389</td>\n",
       "      <td>0.255074</td>\n",
       "      <td>0.352225</td>\n",
       "      <td>18.767605</td>\n",
       "      <td>1.927056</td>\n",
       "      <td>True</td>\n",
       "      <td>deviance</td>\n",
       "    </tr>\n",
       "  </tbody>\n",
       "</table>\n",
       "</div>"
      ],
      "text/plain": [
       "                   rank        loo     p_loo     d_loo    weight         se  \\\n",
       "m_Laffer_curved       0  88.420057  6.129892  0.000000  0.647775  19.747584   \n",
       "m_Laffer_straight     1  88.675131  5.179389  0.255074  0.352225  18.767605   \n",
       "\n",
       "                        dse  warning loo_scale  \n",
       "m_Laffer_curved    0.000000     True  deviance  \n",
       "m_Laffer_straight  1.927056     True  deviance  "
      ]
     },
     "execution_count": 25,
     "metadata": {},
     "output_type": "execute_result"
    }
   ],
   "source": [
    "az.compare({\"m_Laffer_straight\":idata4,\"m_Laffer_curved\":idata5},ic=\"loo\",scale=\"deviance\")"
   ]
  },
  {
   "cell_type": "markdown",
   "id": "fc45577c",
   "metadata": {},
   "source": [
    "The LOO comparison shows that the quadratic model is significantly better fit to the data than the simple linear model, suggestin there are at least diminishing returns to increasing the tax rate."
   ]
  }
 ],
 "metadata": {
  "kernelspec": {
   "display_name": "Python 3 (ipykernel)",
   "language": "python",
   "name": "python3"
  },
  "language_info": {
   "codemirror_mode": {
    "name": "ipython",
    "version": 3
   },
   "file_extension": ".py",
   "mimetype": "text/x-python",
   "name": "python",
   "nbconvert_exporter": "python",
   "pygments_lexer": "ipython3",
   "version": "3.9.7"
  }
 },
 "nbformat": 4,
 "nbformat_minor": 5
}
