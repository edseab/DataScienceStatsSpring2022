{
 "cells": [
  {
   "cell_type": "code",
   "execution_count": 3,
   "metadata": {
    "lines_to_next_cell": 2
   },
   "outputs": [
    {
     "name": "stderr",
     "output_type": "stream",
     "text": [
      "WARNING (theano.tensor.blas): Using NumPy C-API based implementation for BLAS functions.\n"
     ]
    }
   ],
   "source": [
    "import arviz as az\n",
    "import numpy as np\n",
    "import pandas as pd\n",
    "import pymc3 as pm\n",
    "import seaborn as sns\n",
    "\n",
    "from matplotlib import pylab as plt\n",
    "from scipy import stats"
   ]
  },
  {
   "cell_type": "code",
   "execution_count": 2,
   "metadata": {},
   "outputs": [],
   "source": [
    "RANDOM_SEED = 8927\n",
    "np.random.seed(RANDOM_SEED)\n",
    "\n",
    "%config InlineBackend.figure_format = 'retina'\n",
    "%load_ext watermark\n",
    "az.style.use(\"arviz-darkgrid\")\n",
    "az.rcParams[\"stats.hdi_prob\"] = 0.89"
   ]
  },
  {
   "cell_type": "markdown",
   "metadata": {},
   "source": [
    "# Chapter 4 - Linear models"
   ]
  },
  {
   "cell_type": "markdown",
   "metadata": {},
   "source": [
    "### End of chapter problems"
   ]
  },
  {
   "cell_type": "markdown",
   "metadata": {},
   "source": [
    "### 4E1.\n",
    "\n",
    "In the model definition below, which line is the likelihood?\n",
    "\n",
    "yi ∼ Normal(µ, σ)\n",
    "\n",
    "µ ∼ Normal(0, 10)\n",
    "\n",
    "σ ∼ Exponential(1)\n",
    "\n",
    "\n",
    "### 4E2.\n",
    "In the model definition just above, how many parameters are in the posterior distribution?\n",
    "\n",
    "### 4E3.\n",
    "Using the model definition above, write down the appropriate form of Bayes’ theorem that includes the proper likelihood and priors\n",
    "\n",
    "\n",
    "### 4E4.\n",
    "In the model definition below, which line is the linear model?\n",
    "\n",
    "yi ∼ Normal(µ, σ)\n",
    "\n",
    "µi = α + βxi\n",
    "\n",
    "α ∼ Normal(0, 10)\n",
    "\n",
    "β ∼ Normal(0, 1)\n",
    "\n",
    "σ ∼ Exponential(2)\n",
    "\n",
    "### 4E5.\n",
    "In the model definition just above, how many parameters are in the posterior distribution?\n"
   ]
  },
  {
   "cell_type": "markdown",
   "metadata": {},
   "source": [
    "### 4M1.\n",
    "For the model definition below, simulate observed y values from the prior (not the posterior).\n",
    "\n",
    "yi ∼ Normal(µ, σ)\n",
    "\n",
    "µ ∼ Normal(0, 10)\n",
    "\n",
    "σ ∼ Exponential(1)"
   ]
  },
  {
   "cell_type": "markdown",
   "metadata": {},
   "source": [
    "\n",
    "### 4M4.\n",
    "\n",
    "A sample of students is measured for height each year for 3 years. After the third year, you want to fit a linear regression predicting height using year as a predictor. Write down the mathematical\n",
    "model definition for this regression, using any variable names and priors you choose. Be prepared to\n",
    "defend your choice of priors.\n"
   ]
  },
  {
   "cell_type": "markdown",
   "metadata": {},
   "source": [
    "### 4M5. \n",
    "\n",
    "Now suppose I remind you that every student got taller each year. Does this information lead\n",
    "you to change your choice of priors? How?\n"
   ]
  },
  {
   "cell_type": "markdown",
   "metadata": {
    "lines_to_next_cell": 2
   },
   "source": [
    "### 4M6.\n",
    "Now suppose I tell you that the variance among heights for students of the same age is never\n",
    "more than 64cm. How does this lead you to revise your priors?\n",
    "\n",
    "\n",
    "### 4M7.\n",
    "\n",
    "Refit model m4.3 from the chapter, but omit the mean weight xbar this time. Compare the\n",
    "new model’s posterior to that of the original model. In particular, look at the covariance among the\n",
    "parameters. What is different? Then compare the posterior predictions of both models."
   ]
  },
  {
   "cell_type": "code",
   "execution_count": 11,
   "metadata": {},
   "outputs": [],
   "source": [
    "# get the data for the adults\n",
    "# load in the data\n",
    "d = pd.read_csv(\"./../data/Howell1.csv\", delimiter=\";\")\n",
    "d2 = d[howell1.age >= 18]"
   ]
  },
  {
   "cell_type": "code",
   "execution_count": 25,
   "metadata": {
    "lines_to_next_cell": 2
   },
   "outputs": [
    {
     "name": "stderr",
     "output_type": "stream",
     "text": [
      "C:\\Users\\edsea\\AppData\\Local\\Temp/ipykernel_20848/645148857.py:9: FutureWarning: In v4.0, pm.sample will return an `arviz.InferenceData` object instead of a `MultiTrace` by default. You can pass return_inferencedata=True or return_inferencedata=False to be safe and silence this warning.\n",
      "  trace_4_3 = pm.sample(1000, tune=1000)\n",
      "Auto-assigning NUTS sampler...\n",
      "Initializing NUTS using jitter+adapt_diag...\n",
      "Multiprocess sampling (4 chains in 4 jobs)\n",
      "NUTS: [sigma, b, a]\n"
     ]
    },
    {
     "data": {
      "text/html": [
       "\n",
       "<style>\n",
       "    /* Turns off some styling */\n",
       "    progress {\n",
       "        /* gets rid of default border in Firefox and Opera. */\n",
       "        border: none;\n",
       "        /* Needs to be in here for Safari polyfill so background images work as expected. */\n",
       "        background-size: auto;\n",
       "    }\n",
       "    .progress-bar-interrupted, .progress-bar-interrupted::-webkit-progress-bar {\n",
       "        background: #F44336;\n",
       "    }\n",
       "</style>\n"
      ],
      "text/plain": [
       "<IPython.core.display.HTML object>"
      ]
     },
     "metadata": {},
     "output_type": "display_data"
    },
    {
     "data": {
      "text/html": [
       "\n",
       "    <div>\n",
       "      <progress value='8000' class='' max='8000' style='width:300px; height:20px; vertical-align: middle;'></progress>\n",
       "      100.00% [8000/8000 00:09<00:00 Sampling 4 chains, 0 divergences]\n",
       "    </div>\n",
       "    "
      ],
      "text/plain": [
       "<IPython.core.display.HTML object>"
      ]
     },
     "metadata": {},
     "output_type": "display_data"
    },
    {
     "name": "stderr",
     "output_type": "stream",
     "text": [
      "Sampling 4 chains for 1_000 tune and 1_000 draw iterations (4_000 + 4_000 draws total) took 62 seconds.\n"
     ]
    },
    {
     "data": {
      "text/html": [
       "\n",
       "<style>\n",
       "    /* Turns off some styling */\n",
       "    progress {\n",
       "        /* gets rid of default border in Firefox and Opera. */\n",
       "        border: none;\n",
       "        /* Needs to be in here for Safari polyfill so background images work as expected. */\n",
       "        background-size: auto;\n",
       "    }\n",
       "    .progress-bar-interrupted, .progress-bar-interrupted::-webkit-progress-bar {\n",
       "        background: #F44336;\n",
       "    }\n",
       "</style>\n"
      ],
      "text/plain": [
       "<IPython.core.display.HTML object>"
      ]
     },
     "metadata": {},
     "output_type": "display_data"
    },
    {
     "data": {
      "text/html": [
       "\n",
       "    <div>\n",
       "      <progress value='38' class='' max='38' style='width:300px; height:20px; vertical-align: middle;'></progress>\n",
       "      100.00% [38/38 00:00<00:00 logp = -1,080.4, ||grad|| = 5.147]\n",
       "    </div>\n",
       "    "
      ],
      "text/plain": [
       "<IPython.core.display.HTML object>"
      ]
     },
     "metadata": {},
     "output_type": "display_data"
    },
    {
     "name": "stdout",
     "output_type": "stream",
     "text": [
      "\n"
     ]
    }
   ],
   "source": [
    "# Original model 4.3\n",
    "xbar = d2.weight.mean()\n",
    "with pm.Model() as m4_3:\n",
    "    a = pm.Normal(\"a\", mu=178, sd=20)\n",
    "    b = pm.Lognormal(\"b\", mu=0, sd=1)\n",
    "    sigma = pm.Uniform(\"sigma\", 0, 50)\n",
    "    mu = a + b * (d2.weight - xbar)\n",
    "    height = pm.Normal(\"height\", mu=mu, sd=sigma, observed=d2.height)\n",
    "    trace_4_3 = pm.sample(1000, tune=1000)\n",
    "    mean_q = pm.find_MAP()"
   ]
  },
  {
   "cell_type": "code",
   "execution_count": 22,
   "metadata": {},
   "outputs": [
    {
     "data": {
      "text/html": [
       "<div>\n",
       "<style scoped>\n",
       "    .dataframe tbody tr th:only-of-type {\n",
       "        vertical-align: middle;\n",
       "    }\n",
       "\n",
       "    .dataframe tbody tr th {\n",
       "        vertical-align: top;\n",
       "    }\n",
       "\n",
       "    .dataframe thead th {\n",
       "        text-align: right;\n",
       "    }\n",
       "</style>\n",
       "<table border=\"1\" class=\"dataframe\">\n",
       "  <thead>\n",
       "    <tr style=\"text-align: right;\">\n",
       "      <th></th>\n",
       "      <th>a</th>\n",
       "      <th>b</th>\n",
       "      <th>sigma</th>\n",
       "    </tr>\n",
       "  </thead>\n",
       "  <tbody>\n",
       "    <tr>\n",
       "      <th>a</th>\n",
       "      <td>0.079</td>\n",
       "      <td>0.000</td>\n",
       "      <td>-0.001</td>\n",
       "    </tr>\n",
       "    <tr>\n",
       "      <th>b</th>\n",
       "      <td>0.000</td>\n",
       "      <td>0.002</td>\n",
       "      <td>-0.000</td>\n",
       "    </tr>\n",
       "    <tr>\n",
       "      <th>sigma</th>\n",
       "      <td>-0.001</td>\n",
       "      <td>-0.000</td>\n",
       "      <td>0.041</td>\n",
       "    </tr>\n",
       "  </tbody>\n",
       "</table>\n",
       "</div>"
      ],
      "text/plain": [
       "           a      b  sigma\n",
       "a      0.079  0.000 -0.001\n",
       "b      0.000  0.002 -0.000\n",
       "sigma -0.001 -0.000  0.041"
      ]
     },
     "execution_count": 22,
     "metadata": {},
     "output_type": "execute_result"
    }
   ],
   "source": [
    "trace_4_3_df = pm.trace_to_dataframe(trace_4_3)\n",
    "trace_4_3_df.cov().round(3)"
   ]
  },
  {
   "cell_type": "code",
   "execution_count": 23,
   "metadata": {},
   "outputs": [
    {
     "data": {
      "image/png": "[encoded data removed]",
      "text/plain": [
       "<Figure size 432x288 with 1 Axes>"
      ]
     },
     "metadata": {
      "needs_background": "light"
     },
     "output_type": "display_data"
    }
   ],
   "source": [
    "# Posterior predictions for 4.3\n",
    "weight_seq = np.arange(25, 71)\n",
    "# Given that we have a lot of samples we can use less of them for plotting (or we can use all!)\n",
    "trace_4_3_thinned = trace_4_3[::10]\n",
    "mu_pred = np.zeros((len(weight_seq), len(trace_4_3_thinned) * trace_4_3.nchains))\n",
    "for i, w in enumerate(weight_seq):\n",
    "    mu_pred[i] = trace_4_3_thinned[\"a\"] + trace_4_3_thinned[\"b\"] * (w - d2.weight.mean())\n",
    "    \n",
    "plt.plot(weight_seq, mu_pred, \"C0.\", alpha=0.1)\n",
    "plt.xlabel(\"weight\")\n",
    "plt.ylabel(\"height\");"
   ]
  },
  {
   "cell_type": "markdown",
   "metadata": {},
   "source": [
    "### 4H1.\n",
    "\n",
    "The weights listed below were recorded in the !Kung census, but heights were not recorded for\n",
    "these individuals. Provide predicted heights and 89% intervals for each of these individuals. That is,\n",
    "fill in the table below, using model-based predictions.\n",
    "\n",
    "HINT: you can use the pm.find.MAP() function already run in model 4.3\n",
    "\n",
    "| Individual | Weight | Expected height | 89% interval|\n",
    "|------|------|-------|-----|\n",
    "|   1  | 46.95|?|?|\n",
    "|   2  | 43.72|?|?|\n",
    "|   3  | 64.78|?|?|\n",
    "|   4  | 32.59|?|?|\n",
    "|   5  | 54.63|?|?|"
   ]
  },
  {
   "cell_type": "markdown",
   "metadata": {},
   "source": [
    "### 4H2.\n",
    "\n",
    "Select out all the rows in the Howell1 data with ages below 18 years of age. If you do it right,\n",
    "you should end up with a new data frame with 192 rows in it.\n",
    "\n",
    "(a) Fit a linear regression to these data. Present and interpret the estimates. For\n",
    "every 10 units of increase in weight, how much taller does the model predict a child gets?\n",
    "\n",
    "(b) Plot the raw data, with height on the vertical axis and weight on the horizontal axis. Superimpose the MAP regression line and 89% interval for the mean. Also superimpose the 89% interval\n",
    "for predicted heights.\n",
    "\n",
    "(c) What aspects of the model fit concern you? Describe the kinds of assumptions you would\n",
    "change, if any, to improve the model. You don’t have to write any new code. Just explain what the\n",
    "model appears to be doing a bad job of, and what you hypothesize would be a better model.\n",
    "\n"
   ]
  },
  {
   "cell_type": "markdown",
   "metadata": {},
   "source": [
    "### 4H3.\n",
    "Suppose a colleague of yours, who works on allometry, glances at the practice problems just\n",
    "above. Your colleague exclaims, “That’s silly. Everyone knows that it’s only the logarithm of body\n",
    "weight that scales with height!” Let’s take your colleague’s advice and see what happens.\n",
    "\n",
    "(a) Model the relationship between height (cm) and the natural logarithm of weight (log-kg). Use\n",
    "the entire Howell1 data frame, all 544 rows, adults and non-adults. Can you interpret the resulting\n",
    "estimates?\n",
    "\n",
    "(b) Begin with this plot: plot( height ~ weight , data=Howell1 ). Then use samples\n",
    "from the quadratic approximate posterior of the model in (a) to superimpose on the plot: (1) the\n",
    "predicted mean height as a function of weight, (2) the 97% interval for the mean, and (3) the 97%\n",
    "interval for predicted heights"
   ]
  }
 ],
 "metadata": {
  "jupytext": {
   "encoding": "# -*- coding: utf-8 -*-"
  },
  "kernelspec": {
   "display_name": "Python 3 (ipykernel)",
   "language": "python",
   "name": "python3"
  },
  "language_info": {
   "codemirror_mode": {
    "name": "ipython",
    "version": 3
   },
   "file_extension": ".py",
   "mimetype": "text/x-python",
   "name": "python",
   "nbconvert_exporter": "python",
   "pygments_lexer": "ipython3",
   "version": "3.9.7"
  }
 },
 "nbformat": 4,
 "nbformat_minor": 4
}
