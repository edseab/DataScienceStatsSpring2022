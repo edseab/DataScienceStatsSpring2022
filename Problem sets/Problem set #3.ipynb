{
 "cells": [
  {
   "cell_type": "markdown",
   "id": "ba4ceee0",
   "metadata": {},
   "source": [
    "## Problem set #3\n",
    "#### Q1\n",
    "###### For each of the causal relationships, name a hypothetical third variable that would lead to an interaction effect. Please say if the interaction you describe is categorical or continous.\n",
    "(1) Pedalling speed increases bicycle speed \n",
    "\n",
    "(2) Bread dough rises because of yeast \n",
    "\n",
    "(3) More exposure to the sun leads to higher probability of skin cancer\n",
    "\n",
    "#### Q2\n",
    "###### For each of the previous relationships,write a linear model of the relationship which includes the interaction term.\n",
    "\n",
    "\n",
    "#### Q3\n",
    "Which of the following explanations invokes an interaction?\n",
    "(1) Caramelizing onions requires cooking over low heat and making sure the onions do not dry out. \n",
    "\n",
    "(2) A car will go faster when it has more cylinders or when it has a better fuel injector. \n",
    "\n",
    "(3) Most people acquire their political beliefs from their parents, unless they get them instead from their friends.\n",
    "\n",
    "(4) Intelligent animal species tend to be either highly social or have manipulative appendages (hands, tentacles, etc.).\n",
    "\n",
    "#### Q4\n",
    "###### Load in the \"tulips\"dataset. Fit a linear model using quap of the effect of water and shade on the number of blooms. To do this, center water and shade on their respective means and scale the number of blooms by the maximum. Then, fit a model including water and shadePresent a summary and a forest plot of the estimates and interpret them.\n",
    "\n",
    "#### Q5\n",
    "###### For the previous model, plot on the same graph the mean predicted effect of water on blooms for each of the values of shade. You should have a plot with 3 roughly parallel lines. running through them.\n",
    "\n",
    "#### Q6\n",
    "###### Rerun the same model as in Q4 but with the interaction term between water and shade. Again present a summary and forest plot and interpret the results. Recreate the same plot as in Q6 but now with the interaction term. The three lines should not be paralell any more.\n",
    "\n",
    "#### Q7\n",
    "###### Now include the bed variable as a predictor in the interaction model. Don’t interact bed with the other predictors; just include it as a main effect. Note that bed is categorical. So to use it properly, you will need to either construct dummy variables or rather an index variable, as explained in Chapter 5 (page 155-156.\n",
    "\n",
    "#### Q8\n",
    "###### In 2007, The Wall Street Journal published an editorial (“We’re Number One, Alas”) with a graph of corporate tax rates in 29 countries plotted against tax revenue. A badly fit curve was drawn in, seemingly by hand, to make the argument that the relationship between tax rate and tax revenue increases and then declines, such that higher tax rates can actually produce less tax revenue. I want you to actually fit a curve to these data, found in Laffer.csv. Consider models that use tax rate to predict tax revenue. Compare, using WAIC or LOO, a straight-line model to any curved models you like. What do you conclude about the relationship between tax rate and tax revenue?"
   ]
  }
 ],
 "metadata": {
  "kernelspec": {
   "display_name": "Python 3 (ipykernel)",
   "language": "python",
   "name": "python3"
  },
  "language_info": {
   "codemirror_mode": {
    "name": "ipython",
    "version": 3
   },
   "file_extension": ".py",
   "mimetype": "text/x-python",
   "name": "python",
   "nbconvert_exporter": "python",
   "pygments_lexer": "ipython3",
   "version": "3.9.7"
  }
 },
 "nbformat": 4,
 "nbformat_minor": 5
}
