{
 "cells": [
  {
   "cell_type": "markdown",
   "id": "898d1788",
   "metadata": {},
   "source": [
    "## Problem set #2\n",
    "\n",
    "\n",
    "### Q1\n",
    "##### Which of the linear models below are multiple linear regressions?\n",
    "\n",
    "(1) µi = α + βxi\n",
    "\n",
    "(2) µi = β1 * xi + β2 * zi\n",
    "\n",
    "(3) µi = α + β(xi − zi)\n",
    "\n",
    "(4) µi = α + β1 * xi + β2 * zi\n",
    "\n",
    "Answer: 2 and 4"
   ]
  },
  {
   "cell_type": "code",
   "execution_count": 2,
   "id": "dffab727",
   "metadata": {},
   "outputs": [
    {
     "name": "stderr",
     "output_type": "stream",
     "text": [
      "WARNING (theano.tensor.blas): Using NumPy C-API based implementation for BLAS functions.\n"
     ]
    }
   ],
   "source": [
    "import matplotlib.pyplot as plt\n",
    "import scipy.stats as st\n",
    "import numpy as np\n",
    "import pandas as pd\n",
    "import pymc3 as pm\n",
    "from quap import quap\n",
    "import arviz as az\n",
    "import statsmodels.api as sm\n",
    "import math"
   ]
  },
  {
   "cell_type": "markdown",
   "id": "1b73ee69",
   "metadata": {},
   "source": [
    "### Q2\n",
    "**I am trying to model the effect of education on fame - in other words I want to know whether having more years of education improves a person's chances of being famous.**\n",
    "\n",
    "**Give 1 example of a variable I might want to control for in my model. What could happen if I don't control for it?**\n",
    "\n",
    "1 example: having rich/famous parents. If you don't control for parents it may look like there is a positive effect of education on fame, when in fact both are caused by the parents."
   ]
  },
  {
   "cell_type": "markdown",
   "id": "ce18a84b",
   "metadata": {},
   "source": [
    "### Q3\n",
    "**Write the model definition for the above model. Should you center any variables? Justify your priors.**\n",
    "\n",
    "\n",
    "Fame_i ~ Normal(µi,σi)\n",
    "µi = α + β1 * Educ_i + β2 * Parents_fame_i\n",
    "\n",
    "α ~ Lognormal(0,10)   Fame can't be negative.\n",
    "β1 ~ Normal(0,10)  This is a skeptical prior centered on 0 so as to not presuppose either a positive or negative effect\n",
    "β2 ~ Normal (0,10) See prior for β1\n",
    "σ ~ Exp(1) Common prior for standard deviations\n",
    "\n",
    "I am not centering eiher variable, because there should in principle be data of people with no education and no parental fame, so the intercept can be interpreted as the probability of fame for those individuals.\n"
   ]
  },
  {
   "cell_type": "markdown",
   "id": "90aaf83c",
   "metadata": {},
   "source": [
    "### Q4\n",
    "I want to set up an experiment looking at the effect of social media use on anxiety and test scores. Help me simulate this.\n",
    "\n",
    "First simulate baseline anxiety levels for a group of 100 students. Anxiety is scored between 0 and 10 and the average score is 5 with a standard deviation of 2. Remember that you can't score lower than 0 or higher than 10!\n",
    "\n",
    "Next assign half of them at random to the experimental group which is given access to social media. \n",
    "\n",
    "Simulate student's scores after the treatment. On average, the control group (with no access to social media) have the same score, while the experimental group increased their anxiety by 1 point on average.\n",
    "\n",
    "Simulate student's test scores out of 100. The average score for a student without anxiety is 80% with a standard deviation of of 15 points, but each point of anxiety decreases a student's score by 2 points on average. (again, remember that scores cannot be more than 100 or less than 0).\n",
    "\n",
    "Create a data frame with experimental status, post-experiment anxiety, and test scores and show the first 6 rows."
   ]
  },
  {
   "cell_type": "code",
   "execution_count": 3,
   "id": "a45f7e79",
   "metadata": {},
   "outputs": [
    {
     "data": {
      "text/html": [
       "<div>\n",
       "<style scoped>\n",
       "    .dataframe tbody tr th:only-of-type {\n",
       "        vertical-align: middle;\n",
       "    }\n",
       "\n",
       "    .dataframe tbody tr th {\n",
       "        vertical-align: top;\n",
       "    }\n",
       "\n",
       "    .dataframe thead th {\n",
       "        text-align: right;\n",
       "    }\n",
       "</style>\n",
       "<table border=\"1\" class=\"dataframe\">\n",
       "  <thead>\n",
       "    <tr style=\"text-align: right;\">\n",
       "      <th></th>\n",
       "      <th>mean</th>\n",
       "      <th>sd</th>\n",
       "      <th>hdi_3%</th>\n",
       "      <th>hdi_97%</th>\n",
       "    </tr>\n",
       "  </thead>\n",
       "  <tbody>\n",
       "    <tr>\n",
       "      <th>a1</th>\n",
       "      <td>5.37</td>\n",
       "      <td>2.21</td>\n",
       "      <td>1.73</td>\n",
       "      <td>9.52</td>\n",
       "    </tr>\n",
       "    <tr>\n",
       "      <th>SocialMedia</th>\n",
       "      <td>0.50</td>\n",
       "      <td>0.50</td>\n",
       "      <td>0.00</td>\n",
       "      <td>1.00</td>\n",
       "    </tr>\n",
       "    <tr>\n",
       "      <th>TestScore</th>\n",
       "      <td>70.99</td>\n",
       "      <td>13.84</td>\n",
       "      <td>51.18</td>\n",
       "      <td>100.00</td>\n",
       "    </tr>\n",
       "  </tbody>\n",
       "</table>\n",
       "</div>"
      ],
      "text/plain": [
       "              mean     sd  hdi_3%  hdi_97%\n",
       "a1            5.37   2.21    1.73     9.52\n",
       "SocialMedia   0.50   0.50    0.00     1.00\n",
       "TestScore    70.99  13.84   51.18   100.00"
      ]
     },
     "execution_count": 3,
     "metadata": {},
     "output_type": "execute_result"
    }
   ],
   "source": [
    "# number of students\n",
    "N = 100\n",
    "# simulate initial anxiety\n",
    "a0 = np.random.normal(5, 2, N)\n",
    "a0[a0>10] = 10\n",
    "a0[a0<0] = 0\n",
    "# assign treatments \n",
    "soc_med = np.repeat([0, 1], N / 2)\n",
    "\n",
    "# simulate anxiety post treatment\n",
    "a1 = np.random.normal(a0 + soc_med, 1)\n",
    "a1[a1>10] = 10\n",
    "a1[a1<0] = 0\n",
    "\n",
    "# simulate test scores\n",
    "s = np.random.normal(80 - a1*2, 15)\n",
    "s[s>100] = 100\n",
    "s[s<0] = 0\n",
    "# compose a clean data frame\n",
    "d = pd.DataFrame.from_dict({\"a1\": a1, \"SocialMedia\": soc_med, \"TestScore\": s})\n",
    "\n",
    "az.summary(d.to_dict(orient=\"list\"), kind=\"stats\", round_to=2)"
   ]
  },
  {
   "cell_type": "markdown",
   "id": "e2d9410e",
   "metadata": {},
   "source": [
    "### Q5\n",
    "Your colleague tells you to put model test scores using a multiple linear regression with anxiety and experimental status as predictor variables. Why is this a bad idea?\n",
    "\n",
    "To appease them, you do it anyway. Present the results in a forest plot. Interpret the meaning of each of the parameter estimates. What model should you run instead? Present these results in another forest plot and interpret the results for your colleague."
   ]
  },
  {
   "cell_type": "code",
   "execution_count": 5,
   "id": "128aa24e",
   "metadata": {},
   "outputs": [
    {
     "data": {
      "text/html": [
       "\n",
       "<style>\n",
       "    /* Turns off some styling */\n",
       "    progress {\n",
       "        /* gets rid of default border in Firefox and Opera. */\n",
       "        border: none;\n",
       "        /* Needs to be in here for Safari polyfill so background images work as expected. */\n",
       "        background-size: auto;\n",
       "    }\n",
       "    .progress-bar-interrupted, .progress-bar-interrupted::-webkit-progress-bar {\n",
       "        background: #F44336;\n",
       "    }\n",
       "</style>\n"
      ],
      "text/plain": [
       "<IPython.core.display.HTML object>"
      ]
     },
     "metadata": {},
     "output_type": "display_data"
    },
    {
     "data": {
      "text/html": [
       "\n",
       "    <div>\n",
       "      <progress value='31' class='' max='31' style='width:300px; height:20px; vertical-align: middle;'></progress>\n",
       "      100.00% [31/31 00:00<00:00 logp = -415.87, ||grad|| = 0.00021305]\n",
       "    </div>\n",
       "    "
      ],
      "text/plain": [
       "<IPython.core.display.HTML object>"
      ]
     },
     "metadata": {},
     "output_type": "display_data"
    },
    {
     "name": "stdout",
     "output_type": "stream",
     "text": [
      "\n"
     ]
    }
   ],
   "source": [
    "with pm.Model() as m_tests:\n",
    "    a = pm.Uniform(\"a\", 0, 100)\n",
    "    b1 = pm.Normal(\"b1\", 0, 2)\n",
    "    b2 = pm.Normal(\"b2\", 0, 1)\n",
    "    sigma = pm.Exponential(\"sigma\", 1)\n",
    "    \n",
    "    mu = a + b1 * d.SocialMedia + b2 * d.a1\n",
    "\n",
    "    TestScore = pm.Normal(\n",
    "        \"TestScore\", mu=mu, sigma=sigma, observed=d.TestScore\n",
    "    )\n",
    "    prior_samples = pm.sample_prior_predictive()\n",
    "    idata,dist = quap(vars=[a,b1,b2,sigma],n_samples=10_000)\n",
    "    samples = az.InferenceData.to_dataframe(idata)"
   ]
  },
  {
   "cell_type": "code",
   "execution_count": 7,
   "id": "a1361c07",
   "metadata": {},
   "outputs": [
    {
     "data": {
      "text/html": [
       "<div>\n",
       "<style scoped>\n",
       "    .dataframe tbody tr th:only-of-type {\n",
       "        vertical-align: middle;\n",
       "    }\n",
       "\n",
       "    .dataframe tbody tr th {\n",
       "        vertical-align: top;\n",
       "    }\n",
       "\n",
       "    .dataframe thead th {\n",
       "        text-align: right;\n",
       "    }\n",
       "</style>\n",
       "<table border=\"1\" class=\"dataframe\">\n",
       "  <thead>\n",
       "    <tr style=\"text-align: right;\">\n",
       "      <th></th>\n",
       "      <th>mean</th>\n",
       "      <th>sd</th>\n",
       "      <th>hdi_5.5%</th>\n",
       "      <th>hdi_94.5%</th>\n",
       "    </tr>\n",
       "  </thead>\n",
       "  <tbody>\n",
       "    <tr>\n",
       "      <th>a</th>\n",
       "      <td>82.267</td>\n",
       "      <td>2.846</td>\n",
       "      <td>77.778</td>\n",
       "      <td>86.880</td>\n",
       "    </tr>\n",
       "    <tr>\n",
       "      <th>b1</th>\n",
       "      <td>-0.532</td>\n",
       "      <td>1.563</td>\n",
       "      <td>-2.949</td>\n",
       "      <td>2.043</td>\n",
       "    </tr>\n",
       "    <tr>\n",
       "      <th>b2</th>\n",
       "      <td>-2.053</td>\n",
       "      <td>0.485</td>\n",
       "      <td>-2.855</td>\n",
       "      <td>-1.292</td>\n",
       "    </tr>\n",
       "    <tr>\n",
       "      <th>sigma</th>\n",
       "      <td>11.809</td>\n",
       "      <td>0.782</td>\n",
       "      <td>10.572</td>\n",
       "      <td>13.055</td>\n",
       "    </tr>\n",
       "  </tbody>\n",
       "</table>\n",
       "</div>"
      ],
      "text/plain": [
       "         mean     sd  hdi_5.5%  hdi_94.5%\n",
       "a      82.267  2.846    77.778     86.880\n",
       "b1     -0.532  1.563    -2.949      2.043\n",
       "b2     -2.053  0.485    -2.855     -1.292\n",
       "sigma  11.809  0.782    10.572     13.055"
      ]
     },
     "execution_count": 7,
     "metadata": {},
     "output_type": "execute_result"
    }
   ],
   "source": [
    "az.summary(idata, kind=\"stats\",hdi_prob=0.89)"
   ]
  },
  {
   "cell_type": "markdown",
   "id": "00d424e9",
   "metadata": {},
   "source": [
    "a is the intercept. It can be interpreted to mean that the average score for someone with no anxiety or access to social media is predicted to be 82.267.\n",
    "\n",
    "b1 can be interpreted to mean that on average, someone with access to social media, given a fixed level of anxiety, will have a score 0.5 points lower that someone without (but with a hdi that straddles 0, so no clear effet).\n",
    "\n",
    "b2 can be interpreted to mean that on average, for every extra point of anxiety students can be expected to lose 2.05 points on their test."
   ]
  },
  {
   "cell_type": "code",
   "execution_count": 6,
   "id": "be34b71f",
   "metadata": {},
   "outputs": [
    {
     "data": {
      "text/plain": [
       "<matplotlib.lines.Line2D at 0x294dff492b0>"
      ]
     },
     "execution_count": 6,
     "metadata": {},
     "output_type": "execute_result"
    },
    {
     "data": {
      "image/png": "[encoded data removed]",
      "text/plain": [
       "<Figure size 432x453.6 with 1 Axes>"
      ]
     },
     "metadata": {
      "needs_background": "light"
     },
     "output_type": "display_data"
    }
   ],
   "source": [
    "az.plot_forest(\n",
    "    idata,\n",
    "    var_names=[\"a\",\"b1\", \"b2\"],\n",
    ")\n",
    "plt.axvline(0)"
   ]
  },
  {
   "cell_type": "markdown",
   "id": "2a3b0846",
   "metadata": {},
   "source": [
    "### Q6\n",
    "Load the data /Data/drinking_fatalities.csv. This is a dataset of US states between 1982 and 1988, with data on the minimum legal drinking age. Your colleague from the previous question tells you they have found an interesting result. They find that states with more average miles driven per person have higher minimum legal drinking ages. They interpret this to mean that states adjust their legal drinking ages upwards when people drive a lot.\n",
    "\n",
    "Run a simple linear model with \"mlda\" as the outcome and \"avgmiles\" as the predictor. Present the parameter estimates and their 89% hdis and interpret each of them. Plot the predicted relationship between avgmiles and mlda along with the 89% hdi for the mean and the 89% hdi for the predictions.\n",
    "\n",
    "Do you come to the same conclusion as your colleague?"
   ]
  },
  {
   "cell_type": "code",
   "execution_count": 5,
   "id": "02093d69",
   "metadata": {},
   "outputs": [
    {
     "data": {
      "text/html": [
       "\n",
       "<style>\n",
       "    /* Turns off some styling */\n",
       "    progress {\n",
       "        /* gets rid of default border in Firefox and Opera. */\n",
       "        border: none;\n",
       "        /* Needs to be in here for Safari polyfill so background images work as expected. */\n",
       "        background-size: auto;\n",
       "    }\n",
       "    .progress-bar-interrupted, .progress-bar-interrupted::-webkit-progress-bar {\n",
       "        background: #F44336;\n",
       "    }\n",
       "</style>\n"
      ],
      "text/plain": [
       "<IPython.core.display.HTML object>"
      ]
     },
     "metadata": {},
     "output_type": "display_data"
    },
    {
     "data": {
      "text/html": [
       "\n",
       "    <div>\n",
       "      <progress value='21' class='' max='21' style='width:300px; height:20px; vertical-align: middle;'></progress>\n",
       "      100.00% [21/21 00:00<00:00 logp = -446.25, ||grad|| = 7.117e-05]\n",
       "    </div>\n",
       "    "
      ],
      "text/plain": [
       "<IPython.core.display.HTML object>"
      ]
     },
     "metadata": {},
     "output_type": "display_data"
    },
    {
     "name": "stdout",
     "output_type": "stream",
     "text": [
      "\n"
     ]
    }
   ],
   "source": [
    "d = pd.read_csv(\"./../data/drinking_fatalities.csv\", delimiter=\",\")\n",
    "\n",
    "with pm.Model() as drink:\n",
    "    a = pm.Normal(\"a\", mu=20, sd=3)\n",
    "    b = pm.Normal(\"b\", mu=0, sd=1)\n",
    "    sigma = pm.Uniform(\"sigma\", 0, 30)\n",
    "    mu = a + b * (d.avgmiles-min(d.avgmiles))\n",
    "    mlda = pm.Normal(\"mlda\", mu=mu, sd=sigma, observed=d.mlda)\n",
    "    idata,dist = quap(vars=[a,b,sigma],n_samples=10_000)\n",
    "    samples = az.InferenceData.to_dataframe(idata)\n",
    "\n"
   ]
  },
  {
   "cell_type": "code",
   "execution_count": 15,
   "id": "f03c2890",
   "metadata": {},
   "outputs": [
    {
     "data": {
      "text/html": [
       "<div>\n",
       "<style scoped>\n",
       "    .dataframe tbody tr th:only-of-type {\n",
       "        vertical-align: middle;\n",
       "    }\n",
       "\n",
       "    .dataframe tbody tr th {\n",
       "        vertical-align: top;\n",
       "    }\n",
       "\n",
       "    .dataframe thead th {\n",
       "        text-align: right;\n",
       "    }\n",
       "</style>\n",
       "<table border=\"1\" class=\"dataframe\">\n",
       "  <thead>\n",
       "    <tr style=\"text-align: right;\">\n",
       "      <th></th>\n",
       "      <th>mean</th>\n",
       "      <th>sd</th>\n",
       "      <th>hdi_5.5%</th>\n",
       "      <th>hdi_94.5%</th>\n",
       "    </tr>\n",
       "  </thead>\n",
       "  <tbody>\n",
       "    <tr>\n",
       "      <th>a</th>\n",
       "      <td>20.337</td>\n",
       "      <td>0.121</td>\n",
       "      <td>20.139</td>\n",
       "      <td>20.523</td>\n",
       "    </tr>\n",
       "    <tr>\n",
       "      <th>b</th>\n",
       "      <td>0.036</td>\n",
       "      <td>0.033</td>\n",
       "      <td>-0.016</td>\n",
       "      <td>0.090</td>\n",
       "    </tr>\n",
       "    <tr>\n",
       "      <th>sigma</th>\n",
       "      <td>0.897</td>\n",
       "      <td>0.034</td>\n",
       "      <td>0.843</td>\n",
       "      <td>0.952</td>\n",
       "    </tr>\n",
       "  </tbody>\n",
       "</table>\n",
       "</div>"
      ],
      "text/plain": [
       "         mean     sd  hdi_5.5%  hdi_94.5%\n",
       "a      20.337  0.121    20.139     20.523\n",
       "b       0.036  0.033    -0.016      0.090\n",
       "sigma   0.897  0.034     0.843      0.952"
      ]
     },
     "execution_count": 15,
     "metadata": {},
     "output_type": "execute_result"
    }
   ],
   "source": [
    "az.summary(idata, kind=\"stats\",hdi_prob=0.89)"
   ]
  },
  {
   "cell_type": "markdown",
   "id": "cbfb9c07",
   "metadata": {},
   "source": [
    "Because we've centered the predictor variable on the minimum, we can interpret a to mean that  the predicted minimum legal age to drink in a the state with the lowest numbers of miles driven is 20.3, with a 89% probability that its between 20.13 and 20.523.\n",
    "b=0.036 means that for every additional average mile driven, the minimum legal age to drink is predicted to increase by 0.036 years (or approximately 13 days), with an 89% probability that its between -0.016 and 0.09\n"
   ]
  },
  {
   "cell_type": "code",
   "execution_count": 14,
   "id": "b73b4117",
   "metadata": {},
   "outputs": [
    {
     "data": {
      "image/png": "[encoded data removed]",
      "text/plain": [
       "<Figure size 432x288 with 1 Axes>"
      ]
     },
     "metadata": {
      "needs_background": "light"
     },
     "output_type": "display_data"
    }
   ],
   "source": [
    "avgmiles_seq = np.arange(d.avgmiles.min(), d.avgmiles.max())\n",
    "mu_pred = np.zeros((len(weight_seq), len(samples)))\n",
    "height_pred = np.zeros((len(weight_seq), len(samples)))\n",
    "for i, w in enumerate(weight_seq):\n",
    "    mu_pred[i] = samples[\"a\"] + samples[\"b\"] * (w - d.avgmiles.min())\n",
    "    height_pred[i] = np.random.normal(mu_pred[i], samples[\"sigma\"])\n",
    "\n",
    "plt.scatter(d.avgmiles, d.mlda)\n",
    "plt.plot(weight_seq, mu_pred.mean(1), \"k\")\n",
    "plt.fill_between(weight_seq, np.quantile(mu_pred,0.055,axis=1), np.quantile(mu_pred,0.945,axis=1), alpha=0.7)\n",
    "plt.fill_between(weight_seq, np.quantile(height_pred,0.055,axis=1), np.quantile(height_pred,0.945,axis=1), alpha=0.2,color='red')\n",
    "plt.xlabel(\"Average miles driven\")\n",
    "plt.ylabel(\"Minimum legal drinking age\")\n",
    "plt.show()\n"
   ]
  },
  {
   "cell_type": "markdown",
   "id": "c4470516",
   "metadata": {},
   "source": [
    "I do not come to the same conclusion as my colleague. Although the average predicted slope is indeed positive, there is a lot of uncertainty,and 0 is included in the 89% hdi for the slope. Thus, we cannot conclude that there is a strong positive relationship between miles driven and mlda."
   ]
  },
  {
   "cell_type": "markdown",
   "id": "752a33ea",
   "metadata": {},
   "source": [
    "### Q7\n",
    "You ask your colleague how they specified their model. They tell you they controlled for the traffic fatality rate, trafficmort. Rerun the previous model adding trafficmort as a control. Once again, present the parameter estimates and interpret them, and plot the predicted relationship between avgmiles and mlda along with the 89% hdi for the mean and the 89% hdi for the predictions. What is different in this model?\n",
    "\n",
    "Think about the causal relationship between traffic fatality rates, average driving rates, and legal drinking age. Do you think your colleague's model specification was appropriate? Why or why not? What do you conclude about the true relationship between driving rates and the drinking age?"
   ]
  },
  {
   "cell_type": "code",
   "execution_count": 6,
   "id": "beb12868",
   "metadata": {},
   "outputs": [
    {
     "data": {
      "text/html": [
       "\n",
       "<style>\n",
       "    /* Turns off some styling */\n",
       "    progress {\n",
       "        /* gets rid of default border in Firefox and Opera. */\n",
       "        border: none;\n",
       "        /* Needs to be in here for Safari polyfill so background images work as expected. */\n",
       "        background-size: auto;\n",
       "    }\n",
       "    .progress-bar-interrupted, .progress-bar-interrupted::-webkit-progress-bar {\n",
       "        background: #F44336;\n",
       "    }\n",
       "</style>\n"
      ],
      "text/plain": [
       "<IPython.core.display.HTML object>"
      ]
     },
     "metadata": {},
     "output_type": "display_data"
    },
    {
     "data": {
      "text/html": [
       "\n",
       "    <div>\n",
       "      <progress value='23' class='' max='23' style='width:300px; height:20px; vertical-align: middle;'></progress>\n",
       "      100.00% [23/23 00:00<00:00 logp = -444.57, ||grad|| = 0.023035]\n",
       "    </div>\n",
       "    "
      ],
      "text/plain": [
       "<IPython.core.display.HTML object>"
      ]
     },
     "metadata": {},
     "output_type": "display_data"
    },
    {
     "name": "stdout",
     "output_type": "stream",
     "text": [
      "\n"
     ]
    }
   ],
   "source": [
    "with pm.Model() as drink_collider:\n",
    "    a = pm.Normal(\"a\", mu=20, sd=3)\n",
    "    b1 = pm.Normal(\"b1\", mu=0, sd=1)\n",
    "    b2 = pm.Normal(\"b2\", mu=0, sd=1)\n",
    "    sigma = pm.Uniform(\"sigma\", 0, 30)\n",
    "    mu = a + b1 * (d.avgmiles-min(d.avgmiles)) + b2*d.trafficmort\n",
    "    mlda = pm.Normal(\"mlda\", mu=mu, sd=sigma, observed=d.mlda)\n",
    "    idata,dist = quap(vars=[a,b1,b2,sigma],n_samples=10_000)\n",
    "    samples = az.InferenceData.to_dataframe(idata)\n"
   ]
  },
  {
   "cell_type": "code",
   "execution_count": 7,
   "id": "14920818",
   "metadata": {},
   "outputs": [
    {
     "data": {
      "text/html": [
       "<div>\n",
       "<style scoped>\n",
       "    .dataframe tbody tr th:only-of-type {\n",
       "        vertical-align: middle;\n",
       "    }\n",
       "\n",
       "    .dataframe tbody tr th {\n",
       "        vertical-align: top;\n",
       "    }\n",
       "\n",
       "    .dataframe thead th {\n",
       "        text-align: right;\n",
       "    }\n",
       "</style>\n",
       "<table border=\"1\" class=\"dataframe\">\n",
       "  <thead>\n",
       "    <tr style=\"text-align: right;\">\n",
       "      <th></th>\n",
       "      <th>mean</th>\n",
       "      <th>sd</th>\n",
       "      <th>hdi_5.5%</th>\n",
       "      <th>hdi_94.5%</th>\n",
       "    </tr>\n",
       "  </thead>\n",
       "  <tbody>\n",
       "    <tr>\n",
       "      <th>a</th>\n",
       "      <td>20.662</td>\n",
       "      <td>0.187</td>\n",
       "      <td>20.359</td>\n",
       "      <td>20.956</td>\n",
       "    </tr>\n",
       "    <tr>\n",
       "      <th>b1</th>\n",
       "      <td>0.069</td>\n",
       "      <td>0.036</td>\n",
       "      <td>0.015</td>\n",
       "      <td>0.128</td>\n",
       "    </tr>\n",
       "    <tr>\n",
       "      <th>b2</th>\n",
       "      <td>-0.212</td>\n",
       "      <td>0.092</td>\n",
       "      <td>-0.364</td>\n",
       "      <td>-0.069</td>\n",
       "    </tr>\n",
       "    <tr>\n",
       "      <th>sigma</th>\n",
       "      <td>0.889</td>\n",
       "      <td>0.034</td>\n",
       "      <td>0.834</td>\n",
       "      <td>0.943</td>\n",
       "    </tr>\n",
       "  </tbody>\n",
       "</table>\n",
       "</div>"
      ],
      "text/plain": [
       "         mean     sd  hdi_5.5%  hdi_94.5%\n",
       "a      20.662  0.187    20.359     20.956\n",
       "b1      0.069  0.036     0.015      0.128\n",
       "b2     -0.212  0.092    -0.364     -0.069\n",
       "sigma   0.889  0.034     0.834      0.943"
      ]
     },
     "execution_count": 7,
     "metadata": {},
     "output_type": "execute_result"
    }
   ],
   "source": [
    "az.summary(idata, kind=\"stats\",hdi_prob=0.89)"
   ]
  },
  {
   "cell_type": "markdown",
   "id": "58249446",
   "metadata": {},
   "source": [
    "In this model the parameter estimate b1 is now significantly positive, with an 89% hdi that doesn't cover 0. However, the decision to control for mortality rates is incorrect. Mortality is a collider here. High mortality can occur if mlda is low OR if people drive a lot, so controlling for mortality creates a spurious association between mortality and driving."
   ]
  }
 ],
 "metadata": {
  "kernelspec": {
   "display_name": "Python 3 (ipykernel)",
   "language": "python",
   "name": "python3"
  },
  "language_info": {
   "codemirror_mode": {
    "name": "ipython",
    "version": 3
   },
   "file_extension": ".py",
   "mimetype": "text/x-python",
   "name": "python",
   "nbconvert_exporter": "python",
   "pygments_lexer": "ipython3",
   "version": "3.9.7"
  }
 },
 "nbformat": 4,
 "nbformat_minor": 5
}
