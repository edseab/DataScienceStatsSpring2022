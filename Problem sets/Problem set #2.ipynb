{
 "cells": [
  {
   "cell_type": "markdown",
   "id": "898d1788",
   "metadata": {},
   "source": [
    "## Problem set #2\n",
    "\n",
    "\n",
    "### Q1\n",
    "##### Which of the linear models below are multiple linear regressions?\n",
    "\n",
    "(1) µi = α + βxi\n",
    "\n",
    "(2) µi = β1 * xi + β2 * zi\n",
    "\n",
    "(3) µi = α + β(xi − zi)\n",
    "\n",
    "(4) µi = α + β1 * xi + β2 * zi"
   ]
  },
  {
   "cell_type": "code",
   "execution_count": 10,
   "id": "3ec784ae",
   "metadata": {},
   "outputs": [
    {
     "name": "stdout",
     "output_type": "stream",
     "text": [
      "C:\\Users\\edsea\\My Drive\\Backup\\UM6P\\Data Science 2 class\\DatSci2_2022_repo\n"
     ]
    }
   ],
   "source": [
    "cd C:\\Users\\edsea\\My Drive\\Backup\\UM6P\\Data Science 2 class\\DatSci2_2022_repo"
   ]
  },
  {
   "cell_type": "code",
   "execution_count": 16,
   "id": "4207247d",
   "metadata": {
    "scrolled": true
   },
   "outputs": [],
   "source": [
    "import matplotlib.pyplot as plt\n",
    "import scipy.stats as st\n",
    "import numpy as np\n",
    "import pandas as pd\n",
    "import pymc3 as pm\n",
    "from quap import quap\n",
    "import arviz as az\n",
    "import statsmodels.api as sm\n",
    "import math\n",
    "d = pd.read_csv(\"./Data/drinking_fatalities.csv\", sep=\";\", header=0)"
   ]
  },
  {
   "cell_type": "markdown",
   "id": "1b73ee69",
   "metadata": {},
   "source": [
    "### Q2\n",
    "I am trying to model the effect of education on fame - in other words I want to know whether having more years of education improves a person's chances of being famous.\n",
    "\n",
    "Give 1 example of a variable I might want to control for in my model. What could happen if I don't control for it?"
   ]
  },
  {
   "cell_type": "markdown",
   "id": "ce18a84b",
   "metadata": {},
   "source": [
    "### Q3\n",
    "Write the model definition for the above model. Should you center any variables? Justify your priors."
   ]
  },
  {
   "cell_type": "markdown",
   "id": "90aaf83c",
   "metadata": {},
   "source": [
    "### Q4\n",
    "I want to set up an experiment looking at the effect of social media use on anxiety and test scores. Help me simulate this.\n",
    "\n",
    "First simulate baseline anxiety levels for a group of 100 students. Anxiety is scored between 0 and 10 and the average score is 5 with a standard deviation of 2. Remember that you can't score lower than 0 or higher than 10!\n",
    "\n",
    "Next assign half of them at random to the experimental group which is given access to social media. \n",
    "\n",
    "Simulate student's scores after the treatment. On average, the control group (with no access to social media) have the same score, while the experimental group increased their anxiety by 1 point on average.\n",
    "\n",
    "Simulate student's test scores out of 100. The average score for a student without anxiety is 80% with a standard deviation of of 15 points, but each point of anxiety decreases a student's score by 2 points on average. (again, remember that scores cannot be more than 100 or less than 0).\n",
    "\n",
    "Create a data frame with experimental status, post-experiment anxiety, and test scores and show the first 6 rows."
   ]
  },
  {
   "cell_type": "code",
   "execution_count": 22,
   "id": "7976ad76",
   "metadata": {},
   "outputs": [
    {
     "data": {
      "text/html": [
       "<div>\n",
       "<style scoped>\n",
       "    .dataframe tbody tr th:only-of-type {\n",
       "        vertical-align: middle;\n",
       "    }\n",
       "\n",
       "    .dataframe tbody tr th {\n",
       "        vertical-align: top;\n",
       "    }\n",
       "\n",
       "    .dataframe thead th {\n",
       "        text-align: right;\n",
       "    }\n",
       "</style>\n",
       "<table border=\"1\" class=\"dataframe\">\n",
       "  <thead>\n",
       "    <tr style=\"text-align: right;\">\n",
       "      <th></th>\n",
       "      <th>Social_Media</th>\n",
       "      <th>Anxiety</th>\n",
       "      <th>Test_score</th>\n",
       "    </tr>\n",
       "  </thead>\n",
       "  <tbody>\n",
       "    <tr>\n",
       "      <th>0</th>\n",
       "      <td>0</td>\n",
       "      <td>6.074676</td>\n",
       "      <td>91.725081</td>\n",
       "    </tr>\n",
       "    <tr>\n",
       "      <th>1</th>\n",
       "      <td>0</td>\n",
       "      <td>4.484800</td>\n",
       "      <td>45.396644</td>\n",
       "    </tr>\n",
       "    <tr>\n",
       "      <th>2</th>\n",
       "      <td>0</td>\n",
       "      <td>3.810691</td>\n",
       "      <td>74.132714</td>\n",
       "    </tr>\n",
       "    <tr>\n",
       "      <th>3</th>\n",
       "      <td>0</td>\n",
       "      <td>4.007763</td>\n",
       "      <td>74.751458</td>\n",
       "    </tr>\n",
       "    <tr>\n",
       "      <th>4</th>\n",
       "      <td>0</td>\n",
       "      <td>3.264005</td>\n",
       "      <td>79.915492</td>\n",
       "    </tr>\n",
       "  </tbody>\n",
       "</table>\n",
       "</div>"
      ],
      "text/plain": [
       "   Social_Media   Anxiety  Test_score\n",
       "0             0  6.074676   91.725081\n",
       "1             0  4.484800   45.396644\n",
       "2             0  3.810691   74.132714\n",
       "3             0  4.007763   74.751458\n",
       "4             0  3.264005   79.915492"
      ]
     },
     "execution_count": 22,
     "metadata": {},
     "output_type": "execute_result"
    }
   ],
   "source": [
    "N =100\n",
    "a0 = np.random.normal(5,2,size=N)\n",
    "a0[a0<0] = 0\n",
    "a0[a0>10] = 10\n",
    "SM = np.repeat([0,1],N/2)\n",
    "a1 = np.random.normal(a0 + SM*1,0.1)\n",
    "a1[a1<0]=0\n",
    "a1[a1>10]=10\n",
    "TS = np.random.normal(80-a1*2, 15)\n",
    "TS[TS<0] = 0\n",
    "TS[TS>100] = 100\n",
    "\n",
    "df = pd.DataFrame.from_dict({\"Social_Media\" : SM,\"Anxiety\" : a1, \"Test_score\" : TS})\n",
    "df.head()"
   ]
  },
  {
   "cell_type": "markdown",
   "id": "e2d9410e",
   "metadata": {},
   "source": [
    "### Q5\n",
    "Your colleague tells you to put model test scores using a multiple linear regression with anxiety and experimental status as predictor variables. Why is this a bad idea?\n",
    "\n",
    "To appease them, you do it anyway. Present the results in a forest plot. Interpret the meaning of each of the parameter estimates. What model should you run instead? Present these results in another forest plot and interpret the results for your colleague."
   ]
  },
  {
   "cell_type": "code",
   "execution_count": 26,
   "id": "33bf62e2",
   "metadata": {},
   "outputs": [
    {
     "ename": "NameError",
     "evalue": "name 'Anxiety' is not defined",
     "output_type": "error",
     "traceback": [
      "\u001b[1;31m---------------------------------------------------------------------------\u001b[0m",
      "\u001b[1;31mNameError\u001b[0m                                 Traceback (most recent call last)",
      "\u001b[1;32m~\\AppData\\Local\\Temp/ipykernel_10440/2211302099.py\u001b[0m in \u001b[0;36m<module>\u001b[1;34m\u001b[0m\n\u001b[0;32m      5\u001b[0m     \u001b[0ma\u001b[0m \u001b[1;33m=\u001b[0m \u001b[0mpm\u001b[0m\u001b[1;33m.\u001b[0m\u001b[0mNormal\u001b[0m\u001b[1;33m(\u001b[0m\u001b[1;34m\"a\"\u001b[0m\u001b[1;33m,\u001b[0m\u001b[1;36m50\u001b[0m\u001b[1;33m,\u001b[0m\u001b[1;36m20\u001b[0m\u001b[1;33m)\u001b[0m\u001b[1;33m\u001b[0m\u001b[1;33m\u001b[0m\u001b[0m\n\u001b[0;32m      6\u001b[0m     \u001b[0msigma\u001b[0m \u001b[1;33m=\u001b[0m \u001b[0mpm\u001b[0m\u001b[1;33m.\u001b[0m\u001b[0mExponential\u001b[0m\u001b[1;33m(\u001b[0m\u001b[1;34m\"sigma\"\u001b[0m\u001b[1;33m,\u001b[0m\u001b[1;36m1\u001b[0m\u001b[1;33m)\u001b[0m\u001b[1;33m\u001b[0m\u001b[1;33m\u001b[0m\u001b[0m\n\u001b[1;32m----> 7\u001b[1;33m     \u001b[0mmu\u001b[0m \u001b[1;33m=\u001b[0m \u001b[0ma\u001b[0m \u001b[1;33m+\u001b[0m \u001b[0mB1\u001b[0m\u001b[1;33m*\u001b[0m\u001b[0mAnxiety\u001b[0m \u001b[1;33m+\u001b[0m \u001b[0mB2\u001b[0m\u001b[1;33m*\u001b[0m\u001b[0mSocial_Media\u001b[0m\u001b[1;33m\u001b[0m\u001b[1;33m\u001b[0m\u001b[0m\n\u001b[0m\u001b[0;32m      8\u001b[0m \u001b[1;33m\u001b[0m\u001b[0m\n\u001b[0;32m      9\u001b[0m     \u001b[0mTest_score\u001b[0m \u001b[1;33m=\u001b[0m \u001b[0mnp\u001b[0m\u001b[1;33m.\u001b[0m\u001b[0mNormal\u001b[0m\u001b[1;33m(\u001b[0m\u001b[1;34m\"Test_score\"\u001b[0m\u001b[1;33m,\u001b[0m\u001b[0mmu\u001b[0m\u001b[1;33m,\u001b[0m\u001b[0msigma\u001b[0m\u001b[1;33m,\u001b[0m \u001b[0mobserved\u001b[0m\u001b[1;33m=\u001b[0m\u001b[0mdf\u001b[0m\u001b[1;33m.\u001b[0m\u001b[0mTest_score\u001b[0m\u001b[1;33m)\u001b[0m\u001b[1;33m\u001b[0m\u001b[1;33m\u001b[0m\u001b[0m\n",
      "\u001b[1;31mNameError\u001b[0m: name 'Anxiety' is not defined"
     ]
    }
   ],
   "source": [
    "with pm.Model() as anxiety_model:\n",
    "    \n",
    "    B1 = pm.Normal(\"B1\",0,1)\n",
    "    B2 = pm.Normal(\"B2\",0,1)\n",
    "    a = pm.Normal(\"a\",50,20)\n",
    "    sigma = pm.Exponential(\"sigma\",1)\n",
    "    mu = a + B1*Anxiety + B2*Social_Media\n",
    "    \n",
    "    Test_score = np.Normal(\"Test_score\",mu,sigma, observed=df.Test_score)\n",
    "    data,dist = quap(vars=[a,B1,B2,sigma],n_samples=10_000)\n",
    "    \n",
    "    "
   ]
  },
  {
   "cell_type": "markdown",
   "id": "2a3b0846",
   "metadata": {},
   "source": [
    "### Q6\n",
    "Load the data /Data/drinking_fatalities.csv. This is a dataset of US states between 1982 and 1988, with data on the minimum legal drinking age. Your colleague from the previous question tells you they have found an interesting result. They find that states with more average miles driven per person have higher minimum legal drinking ages. They interpret this to mean that states adjust their legal drinking ages upwards when people drive a lot.\n",
    "\n",
    "Run a simple linear model with \"mlda\" as the outcome and \"avgmiles\" as the predictor. Present the parameter estimates and their 89% hdis and interpret each of them. Plot the predicted relationship between avgmiles and mlda along with the 89% hdi for the mean and the 89% hdi for the predictions.\n",
    "\n",
    "Do you come to the same conclusion as your colleague?"
   ]
  },
  {
   "cell_type": "markdown",
   "id": "752a33ea",
   "metadata": {},
   "source": [
    "### Q7\n",
    "You ask your colleague how they specified their model. They tell you they controlled for the traffic fatality rate, trafficmort. Rerun the previous model adding trafficmort as a control. Once again, present the parameter estimates and interpret them, and plot the predicted relationship between avgmiles and mlda along with the 89% hdi for the mean and the 89% hdi for the predictions. What is different in this model?\n",
    "\n",
    "Think about the causal relationship between traffic fatality rates, average driving rates, and legal drinking age. Do you think your colleague's model specification was appropriate? Why or why not? What do you conclude about the true relationship between driving rates and the drinking age?"
   ]
  },
  {
   "cell_type": "code",
   "execution_count": null,
   "id": "beb12868",
   "metadata": {},
   "outputs": [],
   "source": []
  }
 ],
 "metadata": {
  "kernelspec": {
   "display_name": "Python 3 (ipykernel)",
   "language": "python",
   "name": "python3"
  },
  "language_info": {
   "codemirror_mode": {
    "name": "ipython",
    "version": 3
   },
   "file_extension": ".py",
   "mimetype": "text/x-python",
   "name": "python",
   "nbconvert_exporter": "python",
   "pygments_lexer": "ipython3",
   "version": "3.9.7"
  }
 },
 "nbformat": 4,
 "nbformat_minor": 5
}
